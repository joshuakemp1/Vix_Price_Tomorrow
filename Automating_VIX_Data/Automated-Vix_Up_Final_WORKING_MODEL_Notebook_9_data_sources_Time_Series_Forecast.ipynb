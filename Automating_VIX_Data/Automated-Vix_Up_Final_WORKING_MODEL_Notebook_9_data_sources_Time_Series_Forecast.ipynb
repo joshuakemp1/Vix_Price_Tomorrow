{
 "cells": [
  {
   "cell_type": "markdown",
   "metadata": {},
   "source": [
    "# Section #1: Introduction"
   ]
  },
  {
   "cell_type": "markdown",
   "metadata": {},
   "source": [
    "## How cool would it be if you could predict the price of a stock ticker for the following day? \n",
    "\n",
    "### This project's goal is to predict whether or not the VIX will go up or not the following day. \n",
    "\n",
    "The VIX is called the stock market \"fear indicator\", if the VIX is at 20 or above most stocks will go down. Knowing whether it will go up or not the following day would be invaluable when trading stocks."
   ]
  },
  {
   "cell_type": "markdown",
   "metadata": {},
   "source": [
    "Here is more info on the VIX - as it would take a 15 page white paper to explain:\n",
    "https://www.investopedia.com/articles/active-trading/070213/tracking-volatility-how-vix-calculated.asp\n"
   ]
  },
  {
   "cell_type": "markdown",
   "metadata": {},
   "source": [
    "### After talking to several stock traders and investors and doing my own research I looked for postive correlations for the following 53 stock tickers:\n",
    "\n",
    "MSFT ,\n",
    "Amazon,\n",
    "FB,\n",
    "Netflix,\n",
    "Google,\n",
    "SP,\n",
    "Apple,\n",
    "Voo,\n",
    "Bitcoin,\n",
    "USO ( us oil,\n",
    "EUR/USD,\n",
    "GLD,\n",
    "SPX,\n",
    "SLV,\n",
    "YUMA ( copper ),\n",
    "ITOT,\n",
    "IWB,\n",
    "RSP,\n",
    "SCHX,\n",
    "SPY,\n",
    "USMV,\n",
    "VIG,\n",
    "VTI,\n",
    "VV,\n",
    "IVV,\n",
    "AAL,\n",
    "JJC,\n",
    "ECA,\n",
    "MTDR,\n",
    "XLE,\n",
    "OIH,\n",
    "VDE,\n",
    "APD,\n",
    "UNVR,\n",
    "EMN,\n",
    "XLI,\n",
    "VIS,\n",
    "FIDU,\n",
    "CNBKA,\n",
    "RILY,\n",
    "GHL,\n",
    "XLF,\n",
    "VFH,\n",
    "KRE,\n",
    "INTC,\n",
    "APPN,\n",
    "SSNC,\n",
    "XLK,\n",
    "VGT,\n",
    "IYW,\n",
    "Nasdaq compostie IXIC,\n",
    "NYSE composite ( down jones ) ticker NYA,\n",
    "Japan stock JPXGY"
   ]
  },
  {
   "cell_type": "markdown",
   "metadata": {},
   "source": [
    "#### For all of the above 53 stocks I got 1 - 5 years worth of end of day historical stock data from one of the following data sources:\n",
    "IEX API - using self written Python Script\n",
    "Quandl - Using self written Python Script\n",
    "Yahoo Finance for VIX\n",
    "\n",
    "All data was Cleaned up and explored for postive correlations. I used a positve score of 50 or better to make the final list of stocks to use for predicting the VIX. Here are the final 10 features ( stocks ) that I used to predict the VIX:\n",
    "\n",
    "IVV,\n",
    "RSP,\n",
    "SCHX,\n",
    "SPY,\n",
    "VOO,\n",
    "VTI,\n",
    "XLE,\n",
    "XLI,\n",
    "XLK \n",
    "\n",
    "I also created an 11th feature using Pandas .shift method called \"VIX High_Price_Tomorrow\" to try and predict whether or not the VIX would spike or drop the following day.\n"
   ]
  },
  {
   "cell_type": "markdown",
   "metadata": {},
   "source": [
    "I tried ARIMA time forecasting with time series but think that may be something I should try next once I have tackled this challenge using my existing approach."
   ]
  },
  {
   "cell_type": "markdown",
   "metadata": {},
   "source": [
    "# Important Findings"
   ]
  },
  {
   "cell_type": "markdown",
   "metadata": {},
   "source": [
    "The model was able to predict with greater than 50% accuracy the trend direction of the VIX for the following day."
   ]
  },
  {
   "cell_type": "markdown",
   "metadata": {},
   "source": [
    " I used the Lasso Regression algorith as it performed slightly better than a Ridge Regression algorithm"
   ]
  },
  {
   "cell_type": "markdown",
   "metadata": {},
   "source": [
    "# Challenges\n"
   ]
  },
  {
   "cell_type": "markdown",
   "metadata": {},
   "source": [
    "##### I didn't want to spend any money on data for this model ( just yet ), finding free data that I could use was challenging at first but was overcome with the above data resources.\n",
    "\n",
    "##### Another challenge was cleaning the data as the data from 3 different sources had missing data and different column names etc. This was a great challenge to improve my data cleaning abilities.\n",
    "\n",
    "##### The toughest challenge was handling the .shift NAN data. I may not have handle this correctly and would love any feedback or input regarding how to handle this better. The algorithm appears to work well as it is, but improvements would be amazing! The challenge was not being able to run the alrorithm with the NAN, you can see my solution below."
   ]
  },
  {
   "cell_type": "markdown",
   "metadata": {},
   "source": [
    "# Motivation"
   ]
  },
  {
   "cell_type": "markdown",
   "metadata": {},
   "source": [
    "##### I love trend trading stocks and have been fairly successful at it thus far. How cool would it be to KNOW the trend for the following day ahead of everyone else?!?!\n",
    "\n",
    "##### I feel coding and Machine Learning give you the closest thing you can posses to superhumna abilities. I think over time this algorithm will help me make money with stocks. The challenge was great in and of itself, but having a trained model to predict the trend of the VIX is amazing!"
   ]
  },
  {
   "cell_type": "markdown",
   "metadata": {},
   "source": [
    "Who doesn't like a little more money :-)"
   ]
  },
  {
   "cell_type": "markdown",
   "metadata": {},
   "source": [
    "# Section 2 \n",
    "\n",
    "\n",
    "## Library Imports"
   ]
  },
  {
   "cell_type": "code",
   "execution_count": 1,
   "metadata": {},
   "outputs": [],
   "source": [
    "# Numpy for numerical computing\n",
    "import numpy as np\n",
    "\n",
    "# Pandas for DataFrames\n",
    "import pandas as pd \n",
    "pd.set_option('display.max_columns', 100)\n",
    "\n",
    "# Matplotlib for visualization\n",
    "from matplotlib import pyplot as plt\n",
    "\n",
    "# display plots in the notebook\n",
    "%matplotlib inline\n",
    "\n",
    "# Seaborn for easier visualization\n",
    "import seaborn as sns\n",
    "\n",
    "# Function for splitting training and test set\n",
    "from sklearn.model_selection import train_test_split\n",
    "\n",
    "# Import Regularized Regression algos\n",
    "from sklearn.linear_model import Lasso, Ridge, ElasticNet\n",
    "\n",
    "# Import Tree Ensemble algos\n",
    "from sklearn.ensemble import RandomForestRegressor, GradientBoostingRegressor\n",
    "\n",
    "# Function for splitting training and test set\n",
    "from sklearn.model_selection import train_test_split\n",
    "\n",
    "# Show all values in Pandas as numbers with 3 decimals\n",
    "pd.set_option('display.float_format', lambda x: '%.3f' % x)\n",
    "\n",
    "# Function for creating model pipelines\n",
    "from sklearn.pipeline import make_pipeline\n",
    "\n",
    "# For standardization\n",
    "from sklearn.preprocessing import StandardScaler\n",
    "\n",
    "# Helper for cross-validation\n",
    "from sklearn.model_selection import GridSearchCV\n",
    "\n",
    "# Helper to calculate R2 on the test set\n",
    "from sklearn.metrics import r2_score\n",
    "\n",
    "# Another metric to help pick best model Mean Absolute Error MAE\n",
    "from sklearn.metrics import mean_absolute_error\n",
    "\n",
    "# Another metric to help pick the best model Mean Squared Error\n",
    "from sklearn.metrics import mean_squared_error\n",
    "\n",
    "# Check for model fitting errors\n",
    "from sklearn.exceptions import NotFittedError\n",
    "\n",
    "# Save the winning model's pipeline\n",
    "import pickle "
   ]
  },
  {
   "cell_type": "markdown",
   "metadata": {},
   "source": [
    "# Section 3\n",
    "\n",
    "## Exploratory Analysis"
   ]
  },
  {
   "cell_type": "code",
   "execution_count": 2,
   "metadata": {},
   "outputs": [],
   "source": [
    "# Load Vix historical data for the past year - Two vix as we will use 'vix_df_2' to grab the header for 'vix_df'\n",
    "vix_df = pd.read_csv('vixcurrent.csv', header=None )\n",
    "vix_df_2 = pd.read_csv('vixcurrent.csv', header=None )"
   ]
  },
  {
   "cell_type": "code",
   "execution_count": 3,
   "metadata": {
    "scrolled": true
   },
   "outputs": [],
   "source": [
    "# Grav vix_df_2 first row and set it as the 'vix_df' header\n",
    "new_header = vix_df_2.iloc[0]\n",
    "vix_df.columns = new_header"
   ]
  },
  {
   "cell_type": "code",
   "execution_count": 4,
   "metadata": {},
   "outputs": [],
   "source": [
    "# Remove first row of 'vix_df' as it shows up as it is a duplicate of the header\n",
    "vix_df = vix_df.iloc[1:]"
   ]
  },
  {
   "cell_type": "code",
   "execution_count": 5,
   "metadata": {},
   "outputs": [],
   "source": [
    "# Convert 'Date' object to 'Date' datetime object to allow easier filtering\n",
    "vix_df['Date'] = pd.to_datetime(vix_df['Date'])"
   ]
  },
  {
   "cell_type": "markdown",
   "metadata": {},
   "source": [
    "# Create Data Filter Mask"
   ]
  },
  {
   "cell_type": "code",
   "execution_count": 6,
   "metadata": {},
   "outputs": [],
   "source": [
    "# Set the start and end dates that we will use to slice the VIX historical data\n",
    "start_date = '06-19-2014'\n",
    "end_date = '06-19-2019'"
   ]
  },
  {
   "cell_type": "code",
   "execution_count": 7,
   "metadata": {},
   "outputs": [],
   "source": [
    "# Create maske to filter the 'vix_df' - may not need this step \n",
    "mask = (vix_df['Date'] >= start_date) & (vix_df['Date'] <= end_date)"
   ]
  },
  {
   "cell_type": "code",
   "execution_count": 8,
   "metadata": {
    "scrolled": false
   },
   "outputs": [],
   "source": [
    "# Rename column 'High' to 'VIX High'\n",
    "vix_df.rename(columns={'High': 'VIX High'}, inplace=True)"
   ]
  },
  {
   "cell_type": "code",
   "execution_count": 9,
   "metadata": {},
   "outputs": [],
   "source": [
    "# Dropping the Open, Low, Close, Adj CLose, and Volume columns\n",
    "vix_df = vix_df.drop(['Open', 'Low', 'Close', 'Adj Close', 'Volume'], axis=1)"
   ]
  },
  {
   "cell_type": "code",
   "execution_count": 10,
   "metadata": {
    "scrolled": false
   },
   "outputs": [
    {
     "name": "stdout",
     "output_type": "stream",
     "text": [
      "False\n"
     ]
    }
   ],
   "source": [
    "# Checking vix_df for nan values - should be false\n",
    "print(vix_df.isnull().values.any())"
   ]
  },
  {
   "cell_type": "code",
   "execution_count": 11,
   "metadata": {
    "scrolled": true
   },
   "outputs": [],
   "source": [
    "# Convert the vix_df dataframe from an object arrary into a float arrary\n",
    "vix_df['Date'] = vix_df['Date'].values.astype(float)\n",
    "vix_df = vix_df.astype(np.float)"
   ]
  },
  {
   "cell_type": "markdown",
   "metadata": {},
   "source": [
    "# Section 4\n",
    "\n",
    "## Data Cleaning"
   ]
  },
  {
   "cell_type": "markdown",
   "metadata": {},
   "source": [
    "# Clean each of the following 9 data input sources:\n",
    "### IVV, RSP, SCHX, SPY, VOO, VTI, XLE, XLI, XLK"
   ]
  },
  {
   "cell_type": "markdown",
   "metadata": {},
   "source": [
    "### Start IVV data cleaning"
   ]
  },
  {
   "cell_type": "code",
   "execution_count": 12,
   "metadata": {},
   "outputs": [],
   "source": [
    "# Get 1 year of IVV data\n",
    "IVV_data_df = pd.read_json('IVV_current.json') # Get this data from IEX API\n",
    "\n",
    "# Adding a new column as a datetime object\n",
    "IVV_data_df['DateTime'] = pd.to_datetime(IVV_data_df['date'])\n",
    "\n",
    "# Drop all columns except for 'DateTime' and \"Volume\"\n",
    "IVV_data_df = IVV_data_df.drop(['change','changeOverTime','changePercent','close','date','high','label','low','open','uClose','uHigh','uLow','uOpen','uVolume'], axis=1)"
   ]
  },
  {
   "cell_type": "code",
   "execution_count": 13,
   "metadata": {},
   "outputs": [],
   "source": [
    "# Convert vix_df['Date'] to be float Data type\n",
    "IVV_data_df['DateTime'].isin(vix_df['Date'])\n",
    "\n",
    "# Filter against 'vix_df' records\n",
    "IVV_data_df = IVV_data_df[IVV_data_df['DateTime'].isin(vix_df['Date'])]"
   ]
  },
  {
   "cell_type": "code",
   "execution_count": 14,
   "metadata": {},
   "outputs": [
    {
     "name": "stdout",
     "output_type": "stream",
     "text": [
      "[]\n",
      "[]\n"
     ]
    }
   ],
   "source": [
    "# Check IVV_data_df columns for NANs\n",
    "print(IVV_data_df.columns[IVV_data_df.isna().any()].tolist())\n",
    "\n",
    "# Check vix_df columns for NANs\n",
    "print(vix_df.columns[vix_df.isna().any()].tolist())"
   ]
  },
  {
   "cell_type": "code",
   "execution_count": 15,
   "metadata": {},
   "outputs": [
    {
     "name": "stdout",
     "output_type": "stream",
     "text": [
      "volume      0\n",
      "DateTime    0\n",
      "dtype: int64\n"
     ]
    }
   ],
   "source": [
    "# Verify no Nan are present in 'IVV_data_df' data\n",
    "print(IVV_data_df.isnull().sum())"
   ]
  },
  {
   "cell_type": "code",
   "execution_count": 16,
   "metadata": {},
   "outputs": [],
   "source": [
    "# Save the cleaned up data_df to the final data folder, save the index\n",
    "IVV_data_df.to_csv('Automated_Cleaned_Data/IVV_cleaned_data_df.csv',index=False)"
   ]
  },
  {
   "cell_type": "markdown",
   "metadata": {},
   "source": [
    "# End IVV Data Cleaning"
   ]
  },
  {
   "cell_type": "markdown",
   "metadata": {},
   "source": [
    "### Start RSP Data Cleaning"
   ]
  },
  {
   "cell_type": "code",
   "execution_count": 17,
   "metadata": {},
   "outputs": [],
   "source": [
    "# Get 1 year of RSP data\n",
    "RSP_data_df = pd.read_json('RSP_current.json') # Get this data from IEX API\n",
    "\n",
    "# Adding a new column as a datetime object\n",
    "RSP_data_df['DateTime'] = pd.to_datetime(RSP_data_df['date'])\n",
    "\n",
    "# Drop all columns except for 'DateTime' and \"Volume\"\n",
    "RSP_data_df = RSP_data_df.drop(['change','changeOverTime','changePercent','close','date','high','label','low','open','uClose','uHigh','uLow','uOpen','uVolume'], axis=1)"
   ]
  },
  {
   "cell_type": "code",
   "execution_count": 18,
   "metadata": {},
   "outputs": [],
   "source": [
    "# Remove extra records from 'RSP_data_df' not found in the 'vix_df'\n",
    "RSP_data_df['DateTime'].isin(vix_df['Date'])\n",
    "RSP_data_df = RSP_data_df[RSP_data_df['DateTime'].isin(vix_df['Date'])]"
   ]
  },
  {
   "cell_type": "code",
   "execution_count": 19,
   "metadata": {},
   "outputs": [
    {
     "name": "stdout",
     "output_type": "stream",
     "text": [
      "[]\n",
      "[]\n"
     ]
    }
   ],
   "source": [
    "# Check 'RSP_data_df' columns for NANs\n",
    "print(RSP_data_df.columns[RSP_data_df.isna().any()].tolist())\n",
    "# Check 'vix_df' columns for NANs\n",
    "print(vix_df.columns[vix_df.isna().any()].tolist())"
   ]
  },
  {
   "cell_type": "code",
   "execution_count": 20,
   "metadata": {},
   "outputs": [
    {
     "name": "stdout",
     "output_type": "stream",
     "text": [
      "volume      0\n",
      "DateTime    0\n",
      "dtype: int64\n"
     ]
    }
   ],
   "source": [
    "# Verify Nans were removed\n",
    "print(RSP_data_df.isnull().sum())"
   ]
  },
  {
   "cell_type": "code",
   "execution_count": 21,
   "metadata": {},
   "outputs": [],
   "source": [
    "# Save the cleaned up data_df to the final data folder, save the index\n",
    "RSP_data_df.to_csv('Automated_Cleaned_Data/RSP_cleaned_data_df.csv',index=False)"
   ]
  },
  {
   "cell_type": "markdown",
   "metadata": {},
   "source": [
    "# End of RSP Data Cleaning"
   ]
  },
  {
   "cell_type": "markdown",
   "metadata": {},
   "source": [
    "### Start SCHX Data Cleaning"
   ]
  },
  {
   "cell_type": "code",
   "execution_count": 22,
   "metadata": {},
   "outputs": [],
   "source": [
    "# Get 1 year of SCHX data\n",
    "SCHX_data_df = pd.read_json('SCHX_current.json') # Get this data from IEX API\n",
    "\n",
    "# Adding a new column as a datetime object\n",
    "SCHX_data_df['DateTime'] = pd.to_datetime(SCHX_data_df['date'])\n",
    "\n",
    "# Drop all columns except for 'DateTime' and \"Volume\"\n",
    "SCHX_data_df = SCHX_data_df.drop(['change','changeOverTime','changePercent','close','date','high','label','low','open','uClose','uHigh','uLow','uOpen','uVolume'], axis=1)"
   ]
  },
  {
   "cell_type": "code",
   "execution_count": 23,
   "metadata": {},
   "outputs": [],
   "source": [
    "# Remove the extra records from 'SCHX_data_df' not found in the 'vix_df'\n",
    "SCHX_data_df['DateTime'].isin(vix_df['Date'])\n",
    "SCHX_data_df = SCHX_data_df[SCHX_data_df['DateTime'].isin(vix_df['Date'])]"
   ]
  },
  {
   "cell_type": "code",
   "execution_count": 24,
   "metadata": {},
   "outputs": [
    {
     "name": "stdout",
     "output_type": "stream",
     "text": [
      "[]\n",
      "[]\n"
     ]
    }
   ],
   "source": [
    "# Check 'SCHX_data_df' columns for NANs\n",
    "print(SCHX_data_df.columns[SCHX_data_df.isna().any()].tolist())\n",
    "# Check 'vix_df' columns for NANs\n",
    "print(vix_df.columns[vix_df.isna().any()].tolist())"
   ]
  },
  {
   "cell_type": "code",
   "execution_count": 25,
   "metadata": {},
   "outputs": [
    {
     "name": "stdout",
     "output_type": "stream",
     "text": [
      "volume      0\n",
      "DateTime    0\n",
      "dtype: int64\n"
     ]
    }
   ],
   "source": [
    "# Verify Nan were removed\n",
    "print(SCHX_data_df.isnull().sum())"
   ]
  },
  {
   "cell_type": "code",
   "execution_count": 26,
   "metadata": {},
   "outputs": [],
   "source": [
    "# Save the cleaned up data_df to the final data folder, save the index\n",
    "SCHX_data_df.to_csv('Automated_Cleaned_Data/SCHX_cleaned_data_df.csv',index=False)"
   ]
  },
  {
   "cell_type": "markdown",
   "metadata": {},
   "source": [
    "# End of SCHX Data Cleaning"
   ]
  },
  {
   "cell_type": "markdown",
   "metadata": {},
   "source": [
    "### Start SPY Data Cleaning"
   ]
  },
  {
   "cell_type": "code",
   "execution_count": 27,
   "metadata": {},
   "outputs": [],
   "source": [
    "# Get 1 year of SPY data\n",
    "SPY_data_df = pd.read_json('SPY_current.json') # Get this data from IEX API\n",
    "\n",
    "# Adding a new column as a datetime object\n",
    "SPY_data_df['DateTime'] = pd.to_datetime(SPY_data_df['date'])\n",
    "\n",
    "# Drop all columns except for 'DateTime' and \"Volume\"\n",
    "SPY_data_df = SPY_data_df.drop(['change','changeOverTime','changePercent','close','date','high','label','low','open','uClose','uHigh','uLow','uOpen','uVolume'], axis=1)"
   ]
  },
  {
   "cell_type": "code",
   "execution_count": 28,
   "metadata": {},
   "outputs": [],
   "source": [
    "# Remove the extra 'SPY_data_df' records that are not in 'vix_df'\n",
    "SPY_data_df['DateTime'].isin(vix_df['Date'])\n",
    "SPY_data_df = SPY_data_df[SPY_data_df['DateTime'].isin(vix_df['Date'])]"
   ]
  },
  {
   "cell_type": "code",
   "execution_count": 29,
   "metadata": {},
   "outputs": [
    {
     "name": "stdout",
     "output_type": "stream",
     "text": [
      "[]\n",
      "[]\n"
     ]
    }
   ],
   "source": [
    "# Check 'SPY_data_df' columns for NANs\n",
    "print(SPY_data_df.columns[SPY_data_df.isna().any()].tolist())\n",
    "# Check 'vix_df' columns for NANs\n",
    "print(vix_df.columns[vix_df.isna().any()].tolist())"
   ]
  },
  {
   "cell_type": "code",
   "execution_count": 30,
   "metadata": {},
   "outputs": [
    {
     "name": "stdout",
     "output_type": "stream",
     "text": [
      "volume      0\n",
      "DateTime    0\n",
      "dtype: int64\n"
     ]
    }
   ],
   "source": [
    "# Verify Nan were removed\n",
    "print(SPY_data_df.isnull().sum()) # Displays the total number of NANs per column"
   ]
  },
  {
   "cell_type": "code",
   "execution_count": 31,
   "metadata": {},
   "outputs": [],
   "source": [
    "# Save the cleaned up data_df to the final data folder, save the index\n",
    "SPY_data_df.to_csv('Automated_Cleaned_Data/SPY_cleaned_data_df.csv',index=False)"
   ]
  },
  {
   "cell_type": "markdown",
   "metadata": {},
   "source": [
    "# End of SPY Data Cleaning"
   ]
  },
  {
   "cell_type": "markdown",
   "metadata": {},
   "source": [
    "### Start VOO Data Cleaning"
   ]
  },
  {
   "cell_type": "code",
   "execution_count": 32,
   "metadata": {},
   "outputs": [],
   "source": [
    "# Get 1 year of VOO data\n",
    "VOO_data_df = pd.read_json('VOO_current.json') # Get this data from IEX API\n",
    "\n",
    "# Adding a new column as a datetime object\n",
    "VOO_data_df['DateTime'] = pd.to_datetime(VOO_data_df['date'])\n",
    "\n",
    "# Drop all columns except for 'DateTime' and \"Volume\"\n",
    "VOO_data_df = VOO_data_df.drop(['change','changeOverTime','changePercent','close','date','high','label','low','open','uClose','uHigh','uLow','uOpen','uVolume'], axis=1)"
   ]
  },
  {
   "cell_type": "code",
   "execution_count": 33,
   "metadata": {},
   "outputs": [],
   "source": [
    "# Remove the extra 'VOO_data_df' records that are not in the 'vix_df'\n",
    "VOO_data_df['DateTime'].isin(vix_df['Date'])\n",
    "VOO_data_df = VOO_data_df[VOO_data_df['DateTime'].isin(vix_df['Date'])]"
   ]
  },
  {
   "cell_type": "code",
   "execution_count": 34,
   "metadata": {},
   "outputs": [
    {
     "name": "stdout",
     "output_type": "stream",
     "text": [
      "[]\n",
      "[]\n"
     ]
    }
   ],
   "source": [
    "# Check 'VOO_data_df' columns for NANs\n",
    "print(VOO_data_df.columns[VOO_data_df.isna().any()].tolist())\n",
    "# Check 'vix_df' columns for NANs\n",
    "print(vix_df.columns[vix_df.isna().any()].tolist())"
   ]
  },
  {
   "cell_type": "code",
   "execution_count": 35,
   "metadata": {},
   "outputs": [
    {
     "name": "stdout",
     "output_type": "stream",
     "text": [
      "volume      0\n",
      "DateTime    0\n",
      "dtype: int64\n"
     ]
    }
   ],
   "source": [
    "# Verify Nan are removed\n",
    "print(VOO_data_df.isnull().sum()) # Displays the total number of NANs per column"
   ]
  },
  {
   "cell_type": "code",
   "execution_count": 36,
   "metadata": {},
   "outputs": [],
   "source": [
    "# Save the cleaned up data_df to the final data folder, save the index\n",
    "VOO_data_df.to_csv('Automated_Cleaned_Data/VOO_cleaned_data_df.csv',index=False)"
   ]
  },
  {
   "cell_type": "markdown",
   "metadata": {},
   "source": [
    "# End of VOO Data Cleaning"
   ]
  },
  {
   "cell_type": "markdown",
   "metadata": {},
   "source": [
    "### Start VTI Data Cleaning"
   ]
  },
  {
   "cell_type": "code",
   "execution_count": 37,
   "metadata": {},
   "outputs": [],
   "source": [
    "# Get 1 year of VTI data\n",
    "VTI_data_df = pd.read_json('VTI_current.json') # Get this data from IEX API\n",
    "\n",
    "# Adding a new column as a datetime object\n",
    "VTI_data_df['DateTime'] = pd.to_datetime(VTI_data_df['date'])\n",
    "\n",
    "# Drop all columns except for 'DateTime' and \"Volume\"\n",
    "VTI_data_df = VTI_data_df.drop(['change','changeOverTime','changePercent','close','date','high','label','low','open','uClose','uHigh','uLow','uOpen','uVolume'], axis=1)"
   ]
  },
  {
   "cell_type": "code",
   "execution_count": 38,
   "metadata": {},
   "outputs": [],
   "source": [
    "# Remove the extra 'VTI_data_df' records that are not in the 'vix_df'\n",
    "VTI_data_df['DateTime'].isin(vix_df['Date'])\n",
    "VTI_data_df = VTI_data_df[VTI_data_df['DateTime'].isin(vix_df['Date'])]"
   ]
  },
  {
   "cell_type": "code",
   "execution_count": 39,
   "metadata": {},
   "outputs": [
    {
     "name": "stdout",
     "output_type": "stream",
     "text": [
      "[]\n",
      "[]\n"
     ]
    }
   ],
   "source": [
    "# Check 'VTI_data_df' columns for NANs\n",
    "print(VTI_data_df.columns[VTI_data_df.isna().any()].tolist())\n",
    "# Check 'vix_df' columns for NANs\n",
    "print(vix_df.columns[vix_df.isna().any()].tolist())"
   ]
  },
  {
   "cell_type": "code",
   "execution_count": 40,
   "metadata": {},
   "outputs": [
    {
     "name": "stdout",
     "output_type": "stream",
     "text": [
      "volume      0\n",
      "DateTime    0\n",
      "dtype: int64\n"
     ]
    }
   ],
   "source": [
    "# Verify Nan are removed\n",
    "print(VTI_data_df.isnull().sum()) # Displays the total number of NANs per column"
   ]
  },
  {
   "cell_type": "code",
   "execution_count": 41,
   "metadata": {},
   "outputs": [],
   "source": [
    "# Save the cleaned up data_df to the final data folder, save the index\n",
    "VTI_data_df.to_csv('Automated_Cleaned_Data/VTI_cleaned_data_df.csv',index=False)"
   ]
  },
  {
   "cell_type": "markdown",
   "metadata": {},
   "source": [
    "# End of VTI Data Cleaning"
   ]
  },
  {
   "cell_type": "markdown",
   "metadata": {},
   "source": [
    "### Start XLE Data Cleaning"
   ]
  },
  {
   "cell_type": "code",
   "execution_count": 42,
   "metadata": {},
   "outputs": [],
   "source": [
    "# Get 1 year of XLE data\n",
    "XLE_data_df = pd.read_json('XLE_current.json') # Get this data from IEX API\n",
    "\n",
    "# Adding a new column as a datetime object\n",
    "XLE_data_df['DateTime'] = pd.to_datetime(XLE_data_df['date'])\n",
    "\n",
    "# Drop all columns except for 'DateTime' and \"Volume\"\n",
    "XLE_data_df = XLE_data_df.drop(['change','changeOverTime','changePercent','close','date','high','label','low','open','uClose','uHigh','uLow','uOpen','uVolume'], axis=1)"
   ]
  },
  {
   "cell_type": "code",
   "execution_count": 43,
   "metadata": {},
   "outputs": [],
   "source": [
    "# Remove the extra 'XLE_data_df' records that are not in the 'vix_df'\n",
    "XLE_data_df['DateTime'].isin(vix_df['Date'])\n",
    "XLE_data_df = XLE_data_df[XLE_data_df['DateTime'].isin(vix_df['Date'])]"
   ]
  },
  {
   "cell_type": "code",
   "execution_count": 44,
   "metadata": {},
   "outputs": [
    {
     "name": "stdout",
     "output_type": "stream",
     "text": [
      "[]\n",
      "[]\n"
     ]
    }
   ],
   "source": [
    "# Check 'XLE_data_df' columns for NANs\n",
    "print(XLE_data_df.columns[XLE_data_df.isna().any()].tolist())\n",
    "# Check 'vix_df' columns for NANs\n",
    "print(vix_df.columns[vix_df.isna().any()].tolist())"
   ]
  },
  {
   "cell_type": "code",
   "execution_count": 45,
   "metadata": {},
   "outputs": [
    {
     "name": "stdout",
     "output_type": "stream",
     "text": [
      "volume      0\n",
      "DateTime    0\n",
      "dtype: int64\n"
     ]
    }
   ],
   "source": [
    "# Verify Nan are removed\n",
    "print(XLE_data_df.isnull().sum()) # Displays the total number of NANs per column"
   ]
  },
  {
   "cell_type": "code",
   "execution_count": 46,
   "metadata": {},
   "outputs": [],
   "source": [
    "# Save the cleaned up data_df to the final data folder, save the index\n",
    "XLE_data_df.to_csv('Automated_Cleaned_Data/XLE_cleaned_data_df.csv',index=False)"
   ]
  },
  {
   "cell_type": "markdown",
   "metadata": {},
   "source": [
    "# End of XLE Data Cleaning"
   ]
  },
  {
   "cell_type": "markdown",
   "metadata": {},
   "source": [
    "### Start XLI Data Cleaning"
   ]
  },
  {
   "cell_type": "code",
   "execution_count": 47,
   "metadata": {},
   "outputs": [],
   "source": [
    "# Get 1 year of XLI data\n",
    "XLI_data_df = pd.read_json('XLI_current.json') # Get this data from IEX API\n",
    "\n",
    "# Adding a new column as a datetime object\n",
    "XLI_data_df['DateTime'] = pd.to_datetime(XLI_data_df['date'])\n",
    "\n",
    "# Drop all columns except for 'DateTime' and \"Volume\"\n",
    "XLI_data_df = XLI_data_df.drop(['change','changeOverTime','changePercent','close','date','high','label','low','open','uClose','uHigh','uLow','uOpen','uVolume'], axis=1)"
   ]
  },
  {
   "cell_type": "code",
   "execution_count": 48,
   "metadata": {},
   "outputs": [],
   "source": [
    "# Remove the extra 'XLI_data_df' records that are not in the 'vix_df'\n",
    "XLI_data_df['DateTime'].isin(vix_df['Date'])\n",
    "XLI_data_df = XLI_data_df[XLI_data_df['DateTime'].isin(vix_df['Date'])]"
   ]
  },
  {
   "cell_type": "code",
   "execution_count": 49,
   "metadata": {},
   "outputs": [
    {
     "name": "stdout",
     "output_type": "stream",
     "text": [
      "[]\n",
      "[]\n"
     ]
    }
   ],
   "source": [
    "# Check 'XLI_data_df' columns for NANs\n",
    "print(XLI_data_df.columns[XLI_data_df.isna().any()].tolist())\n",
    "# Check 'vix_df' columns for NANs\n",
    "print(vix_df.columns[vix_df.isna().any()].tolist())"
   ]
  },
  {
   "cell_type": "code",
   "execution_count": 50,
   "metadata": {},
   "outputs": [
    {
     "name": "stdout",
     "output_type": "stream",
     "text": [
      "volume      0\n",
      "DateTime    0\n",
      "dtype: int64\n"
     ]
    }
   ],
   "source": [
    "# Verify Nan are removed\n",
    "print(XLI_data_df.isnull().sum()) # Displays the total number of NANs per column"
   ]
  },
  {
   "cell_type": "code",
   "execution_count": 51,
   "metadata": {},
   "outputs": [],
   "source": [
    "# Save the cleaned up data_df to the final data folder, save the index\n",
    "XLI_data_df.to_csv('Automated_Cleaned_Data/XLI_cleaned_data_df.csv',index=False)"
   ]
  },
  {
   "cell_type": "markdown",
   "metadata": {},
   "source": [
    "# End of XLI Data Cleaning"
   ]
  },
  {
   "cell_type": "markdown",
   "metadata": {},
   "source": [
    "### Start XLK Data Cleaning"
   ]
  },
  {
   "cell_type": "code",
   "execution_count": 52,
   "metadata": {},
   "outputs": [],
   "source": [
    "# Get 1 year of XLK data\n",
    "XLK_data_df = pd.read_json('XLK_current.json') # Get this data from IEX API\n",
    "\n",
    "# Adding a new column as a datetime object\n",
    "XLK_data_df['DateTime'] = pd.to_datetime(XLK_data_df['date'])\n",
    "\n",
    "# Drop all columns except for 'DateTime' and \"Volume\"\n",
    "XLK_data_df = XLK_data_df.drop(['change','changeOverTime','changePercent','close','date','high','label','low','open','uClose','uHigh','uLow','uOpen','uVolume'], axis=1)"
   ]
  },
  {
   "cell_type": "code",
   "execution_count": 53,
   "metadata": {},
   "outputs": [],
   "source": [
    "# Remove the extra 'XLK_data_df' records that are not in the 'vix_df'\n",
    "XLK_data_df['DateTime'].isin(vix_df['Date'])\n",
    "XLK_data_df = XLK_data_df[XLK_data_df['DateTime'].isin(vix_df['Date'])]"
   ]
  },
  {
   "cell_type": "code",
   "execution_count": 54,
   "metadata": {},
   "outputs": [
    {
     "name": "stdout",
     "output_type": "stream",
     "text": [
      "[]\n",
      "[]\n"
     ]
    }
   ],
   "source": [
    "# Check 'XLK_data_df' columns for NANs\n",
    "print(XLK_data_df.columns[XLK_data_df.isna().any()].tolist())\n",
    "# Check 'vix_df' columns for NANs\n",
    "print(vix_df.columns[vix_df.isna().any()].tolist())"
   ]
  },
  {
   "cell_type": "code",
   "execution_count": 55,
   "metadata": {},
   "outputs": [
    {
     "name": "stdout",
     "output_type": "stream",
     "text": [
      "volume      0\n",
      "DateTime    0\n",
      "dtype: int64\n"
     ]
    }
   ],
   "source": [
    "# Verify Nan are removed\n",
    "print(XLK_data_df.isnull().sum()) # Displays the total number of NANs per column"
   ]
  },
  {
   "cell_type": "code",
   "execution_count": 56,
   "metadata": {},
   "outputs": [],
   "source": [
    "# Save the cleaned up data_df to the final data folder, save the index\n",
    "XLK_data_df.to_csv('Automated_Cleaned_Data/XLK_cleaned_data_df.csv',index=False)"
   ]
  },
  {
   "cell_type": "markdown",
   "metadata": {},
   "source": [
    "# End of XLK Data Cleaning"
   ]
  },
  {
   "cell_type": "markdown",
   "metadata": {},
   "source": [
    "# Read in all 9 cleaned data sources with Volume and DateTime features ( Columns )\n",
    "### IVV, RSP, SCHX, SPY, VOO, VTI, XLE, XLI, XLK"
   ]
  },
  {
   "cell_type": "markdown",
   "metadata": {},
   "source": [
    "### Read in IVV_cleaned_data_df"
   ]
  },
  {
   "cell_type": "code",
   "execution_count": 57,
   "metadata": {},
   "outputs": [],
   "source": [
    "# Read in all 9 cleaned data sources\n",
    "IVV_data_df = pd.read_csv('Automated_Cleaned_Data/IVV_cleaned_data_df.csv')\n",
    "RSP_data_df = pd.read_csv('Automated_Cleaned_Data/RSP_cleaned_data_df.csv')\n",
    "SCHX_data_df = pd.read_csv('Automated_Cleaned_Data/SCHX_cleaned_data_df.csv')\n",
    "SPY_data_df = pd.read_csv('Automated_Cleaned_Data/SPY_cleaned_data_df.csv')\n",
    "VOO_data_df = pd.read_csv('Automated_Cleaned_Data/VOO_cleaned_data_df.csv')\n",
    "VTI_data_df = pd.read_csv('Automated_Cleaned_Data/VTI_cleaned_data_df.csv')\n",
    "XLE_data_df = pd.read_csv('Automated_Cleaned_Data/XLE_cleaned_data_df.csv')\n",
    "XLI_data_df = pd.read_csv('Automated_Cleaned_Data/XLI_cleaned_data_df.csv')\n",
    "XLK_data_df = pd.read_csv('Automated_Cleaned_Data/XLK_cleaned_data_df.csv')"
   ]
  },
  {
   "cell_type": "markdown",
   "metadata": {},
   "source": [
    "## Set index to DateTime, drop DateTime column for all 10 data sources"
   ]
  },
  {
   "cell_type": "code",
   "execution_count": 58,
   "metadata": {},
   "outputs": [
    {
     "name": "stdout",
     "output_type": "stream",
     "text": [
      "      volume    DateTime\n",
      "0    2562890  2018-06-20\n",
      "1    2569212  2018-06-21\n",
      "2    2298098  2018-06-22\n",
      "3    5407421  2018-06-25\n",
      "4    2690814  2018-06-26\n",
      "5    6335395  2018-06-27\n",
      "6    5285802  2018-06-28\n",
      "7    7694371  2018-06-29\n",
      "8    4579718  2018-07-02\n",
      "9    1367814  2018-07-03\n",
      "10   2605662  2018-07-05\n",
      "11   2942161  2018-07-06\n",
      "12   4775363  2018-07-09\n",
      "13   3426772  2018-07-10\n",
      "14   3781287  2018-07-11\n",
      "15   3444871  2018-07-12\n",
      "16   3122705  2018-07-13\n",
      "17   2224098  2018-07-16\n",
      "18   2322582  2018-07-17\n",
      "19   3603936  2018-07-18\n",
      "20   3220915  2018-07-19\n",
      "21   4868554  2018-07-20\n",
      "22   1880195  2018-07-23\n",
      "23   2253020  2018-07-24\n",
      "24   3310845  2018-07-25\n",
      "25   4088761  2018-07-26\n",
      "26   2798143  2018-07-27\n",
      "27   4929771  2018-07-30\n",
      "28   3588979  2018-07-31\n",
      "29   2679918  2018-08-01\n",
      "..       ...         ...\n",
      "221  5810008  2019-05-08\n",
      "222  4281181  2019-05-09\n",
      "223  4329369  2019-05-10\n",
      "224  5831706  2019-05-13\n",
      "225  3202835  2019-05-14\n",
      "226  3135635  2019-05-15\n",
      "227  3911224  2019-05-16\n",
      "228  3833735  2019-05-17\n",
      "229  2515977  2019-05-20\n",
      "230  3634882  2019-05-21\n",
      "231  3147661  2019-05-22\n",
      "232  4419359  2019-05-23\n",
      "233  1809862  2019-05-24\n",
      "234  2455572  2019-05-28\n",
      "235  6641224  2019-05-29\n",
      "236  3840044  2019-05-30\n",
      "237  5428476  2019-05-31\n",
      "238  5589736  2019-06-03\n",
      "239  3598917  2019-06-04\n",
      "240  4674039  2019-06-05\n",
      "241  4294539  2019-06-06\n",
      "242  3180251  2019-06-07\n",
      "243  3862913  2019-06-10\n",
      "244  2923455  2019-06-11\n",
      "245  2310269  2019-06-12\n",
      "246  2304977  2019-06-13\n",
      "247  2000184  2019-06-14\n",
      "248  2511178  2019-06-17\n",
      "249  4622740  2019-06-18\n",
      "250  7606221  2019-06-19\n",
      "\n",
      "[251 rows x 2 columns]\n",
      "      volume    DateTime\n",
      "0     443071  2018-06-20\n",
      "1     292002  2018-06-21\n",
      "2     589788  2018-06-22\n",
      "3     865821  2018-06-25\n",
      "4     497230  2018-06-26\n",
      "5     597525  2018-06-27\n",
      "6     535937  2018-06-28\n",
      "7     740935  2018-06-29\n",
      "8     889804  2018-07-02\n",
      "9     310724  2018-07-03\n",
      "10    476492  2018-07-05\n",
      "11    584279  2018-07-06\n",
      "12    421243  2018-07-09\n",
      "13    557886  2018-07-10\n",
      "14    317999  2018-07-11\n",
      "15    665216  2018-07-12\n",
      "16    384320  2018-07-13\n",
      "17    572213  2018-07-16\n",
      "18    322457  2018-07-17\n",
      "19    280671  2018-07-18\n",
      "20    483613  2018-07-19\n",
      "21    208327  2018-07-20\n",
      "22    206256  2018-07-23\n",
      "23   1505295  2018-07-24\n",
      "24    447647  2018-07-25\n",
      "25    377104  2018-07-26\n",
      "26    301317  2018-07-27\n",
      "27    303802  2018-07-30\n",
      "28   1085687  2018-07-31\n",
      "29    405390  2018-08-01\n",
      "..       ...         ...\n",
      "221   903700  2019-05-08\n",
      "222   637263  2019-05-09\n",
      "223   977695  2019-05-10\n",
      "224  1197559  2019-05-13\n",
      "225   827609  2019-05-14\n",
      "226   870952  2019-05-15\n",
      "227   700083  2019-05-16\n",
      "228   684788  2019-05-17\n",
      "229   410897  2019-05-20\n",
      "230   423039  2019-05-21\n",
      "231   651461  2019-05-22\n",
      "232   972942  2019-05-23\n",
      "233   715467  2019-05-24\n",
      "234   552558  2019-05-28\n",
      "235   735159  2019-05-29\n",
      "236   705319  2019-05-30\n",
      "237  1224470  2019-05-31\n",
      "238  1346032  2019-06-03\n",
      "239   659489  2019-06-04\n",
      "240   579349  2019-06-05\n",
      "241   518449  2019-06-06\n",
      "242   663393  2019-06-07\n",
      "243   391813  2019-06-10\n",
      "244   436263  2019-06-11\n",
      "245  1950871  2019-06-12\n",
      "246   959749  2019-06-13\n",
      "247   308672  2019-06-14\n",
      "248   287787  2019-06-17\n",
      "249   564842  2019-06-18\n",
      "250   610867  2019-06-19\n",
      "\n",
      "[251 rows x 2 columns]\n",
      "       volume    DateTime\n",
      "0      560082  2018-06-20\n",
      "1      647588  2018-06-21\n",
      "2      532365  2018-06-22\n",
      "3     1560535  2018-06-25\n",
      "4      831806  2018-06-26\n",
      "5     1022170  2018-06-27\n",
      "6     1257525  2018-06-28\n",
      "7      768511  2018-06-29\n",
      "8     1497191  2018-07-02\n",
      "9      893330  2018-07-03\n",
      "10     719472  2018-07-05\n",
      "11     939000  2018-07-06\n",
      "12     923883  2018-07-09\n",
      "13   13570521  2018-07-10\n",
      "14     773501  2018-07-11\n",
      "15    1631219  2018-07-12\n",
      "16     798684  2018-07-13\n",
      "17     740443  2018-07-16\n",
      "18     648369  2018-07-17\n",
      "19     583461  2018-07-18\n",
      "20     742928  2018-07-19\n",
      "21     647089  2018-07-20\n",
      "22     971560  2018-07-23\n",
      "23     971679  2018-07-24\n",
      "24    1201049  2018-07-25\n",
      "25     724640  2018-07-26\n",
      "26    1059967  2018-07-27\n",
      "27    1169494  2018-07-30\n",
      "28     649982  2018-07-31\n",
      "29    1255739  2018-08-01\n",
      "..        ...         ...\n",
      "221   1057585  2019-05-08\n",
      "222   1268913  2019-05-09\n",
      "223   1919736  2019-05-10\n",
      "224   1628443  2019-05-13\n",
      "225    933282  2019-05-14\n",
      "226    856186  2019-05-15\n",
      "227    946762  2019-05-16\n",
      "228    691206  2019-05-17\n",
      "229    896485  2019-05-20\n",
      "230    597234  2019-05-21\n",
      "231    604593  2019-05-22\n",
      "232   1126291  2019-05-23\n",
      "233    700439  2019-05-24\n",
      "234    735214  2019-05-28\n",
      "235   1550933  2019-05-29\n",
      "236   1312028  2019-05-30\n",
      "237   1115423  2019-05-31\n",
      "238   4863828  2019-06-03\n",
      "239   1109094  2019-06-04\n",
      "240   1477812  2019-06-05\n",
      "241    936279  2019-06-06\n",
      "242    764134  2019-06-07\n",
      "243    890600  2019-06-10\n",
      "244    625275  2019-06-11\n",
      "245    880270  2019-06-12\n",
      "246    767419  2019-06-13\n",
      "247    682456  2019-06-14\n",
      "248   1132814  2019-06-17\n",
      "249    997612  2019-06-18\n",
      "250    949638  2019-06-19\n",
      "\n",
      "[251 rows x 2 columns]\n",
      "        volume    DateTime\n",
      "0     53785486  2018-06-20\n",
      "1     71061404  2018-06-21\n",
      "2     56612003  2018-06-22\n",
      "3    137854162  2018-06-25\n",
      "4     68683211  2018-06-26\n",
      "5    105110674  2018-06-27\n",
      "6     76650517  2018-06-28\n",
      "7     97592499  2018-06-29\n",
      "8     63554774  2018-07-02\n",
      "9     42187071  2018-07-03\n",
      "10    56925919  2018-07-05\n",
      "11    66493696  2018-07-06\n",
      "12    50550399  2018-07-09\n",
      "13    51966829  2018-07-10\n",
      "14    77054739  2018-07-11\n",
      "15    60124687  2018-07-12\n",
      "16    48234964  2018-07-13\n",
      "17    48201038  2018-07-16\n",
      "18    52315500  2018-07-17\n",
      "19    44593465  2018-07-18\n",
      "20    61412117  2018-07-19\n",
      "21    82372729  2018-07-20\n",
      "22    47047565  2018-07-23\n",
      "23    68026935  2018-07-24\n",
      "24    78882927  2018-07-25\n",
      "25    57919495  2018-07-26\n",
      "26    76783177  2018-07-27\n",
      "27    63742508  2018-07-30\n",
      "28    68570493  2018-07-31\n",
      "29    53853326  2018-08-01\n",
      "..         ...         ...\n",
      "221   91568287  2019-05-08\n",
      "222  103471104  2019-05-09\n",
      "223  112429293  2019-05-10\n",
      "224  127290527  2019-05-13\n",
      "225   77003230  2019-05-14\n",
      "226   73956407  2019-05-15\n",
      "227   76749643  2019-05-16\n",
      "228  100353024  2019-05-17\n",
      "229   62877610  2019-05-20\n",
      "230   46847085  2019-05-21\n",
      "231   49482472  2019-05-22\n",
      "232   98733847  2019-05-23\n",
      "233   55268095  2019-05-24\n",
      "234   70029356  2019-05-28\n",
      "235  104972927  2019-05-29\n",
      "236   62523780  2019-05-30\n",
      "237   86862782  2019-05-31\n",
      "238   96427952  2019-06-03\n",
      "239   77231889  2019-06-04\n",
      "240   71169717  2019-06-05\n",
      "241   69430381  2019-06-06\n",
      "242   74272199  2019-06-07\n",
      "243   60799053  2019-06-10\n",
      "244   58641325  2019-06-11\n",
      "245   47096312  2019-06-12\n",
      "246   48945156  2019-06-13\n",
      "247   52324716  2019-06-14\n",
      "248   39205709  2019-06-17\n",
      "249   85434823  2019-06-18\n",
      "250   78674377  2019-06-19\n",
      "\n",
      "[251 rows x 2 columns]\n",
      "      volume    DateTime\n",
      "0    1578179  2018-06-20\n",
      "1    4037572  2018-06-21\n",
      "2    3092670  2018-06-22\n",
      "3    6690013  2018-06-25\n",
      "4    2971320  2018-06-26\n",
      "5    3433775  2018-06-27\n",
      "6    2638408  2018-06-28\n",
      "7    3711575  2018-06-29\n",
      "8    1943137  2018-07-02\n",
      "9    1157884  2018-07-03\n",
      "10   1948090  2018-07-05\n",
      "11   2622491  2018-07-06\n",
      "12   3979469  2018-07-09\n",
      "13   1314531  2018-07-10\n",
      "14   2335052  2018-07-11\n",
      "15   2874031  2018-07-12\n",
      "16   1814928  2018-07-13\n",
      "17    993457  2018-07-16\n",
      "18   1825871  2018-07-17\n",
      "19   2606817  2018-07-18\n",
      "20   2050473  2018-07-19\n",
      "21   2710786  2018-07-20\n",
      "22   1447020  2018-07-23\n",
      "23   2916394  2018-07-24\n",
      "24   2623349  2018-07-25\n",
      "25   2166453  2018-07-26\n",
      "26   2666731  2018-07-27\n",
      "27   1601425  2018-07-30\n",
      "28   1992498  2018-07-31\n",
      "29   1651723  2018-08-01\n",
      "..       ...         ...\n",
      "221  2662696  2019-05-08\n",
      "222  3094808  2019-05-09\n",
      "223  3132036  2019-05-10\n",
      "224  5548217  2019-05-13\n",
      "225  4702647  2019-05-14\n",
      "226  2444406  2019-05-15\n",
      "227  3221513  2019-05-16\n",
      "228  2719513  2019-05-17\n",
      "229  2762623  2019-05-20\n",
      "230  2760813  2019-05-21\n",
      "231  3421502  2019-05-22\n",
      "232  3813201  2019-05-23\n",
      "233  1833053  2019-05-24\n",
      "234  2566079  2019-05-28\n",
      "235  4593562  2019-05-29\n",
      "236  2977192  2019-05-30\n",
      "237  3698782  2019-05-31\n",
      "238  3825614  2019-06-03\n",
      "239  3536293  2019-06-04\n",
      "240  2646522  2019-06-05\n",
      "241  2277840  2019-06-06\n",
      "242  1877426  2019-06-07\n",
      "243  2846143  2019-06-10\n",
      "244  1894531  2019-06-11\n",
      "245  1712276  2019-06-12\n",
      "246  1813685  2019-06-13\n",
      "247  1203356  2019-06-14\n",
      "248  1782613  2019-06-17\n",
      "249  2340697  2019-06-18\n",
      "250  1684486  2019-06-19\n",
      "\n",
      "[251 rows x 2 columns]\n",
      "      volume    DateTime\n",
      "0    1468385  2018-06-20\n",
      "1    1881270  2018-06-21\n",
      "2    1226467  2018-06-22\n",
      "3    4347684  2018-06-25\n",
      "4    2085564  2018-06-26\n",
      "5    2958960  2018-06-27\n",
      "6    2490646  2018-06-28\n",
      "7    1849639  2018-06-29\n",
      "8    2825879  2018-07-02\n",
      "9    1325978  2018-07-03\n",
      "10   2796422  2018-07-05\n",
      "11   1756480  2018-07-06\n",
      "12   2153146  2018-07-09\n",
      "13   1437018  2018-07-10\n",
      "14   2042602  2018-07-11\n",
      "15   1440593  2018-07-12\n",
      "16   1965410  2018-07-13\n",
      "17   1571319  2018-07-16\n",
      "18   1767208  2018-07-17\n",
      "19   1327678  2018-07-18\n",
      "20   2034581  2018-07-19\n",
      "21   1507878  2018-07-20\n",
      "22   1444525  2018-07-23\n",
      "23   2340093  2018-07-24\n",
      "24   2126581  2018-07-25\n",
      "25   2084649  2018-07-26\n",
      "26   2535119  2018-07-27\n",
      "27   5379740  2018-07-30\n",
      "28   2004218  2018-07-31\n",
      "29   1524128  2018-08-01\n",
      "..       ...         ...\n",
      "221  2492088  2019-05-08\n",
      "222  2768002  2019-05-09\n",
      "223  3175474  2019-05-10\n",
      "224  4242118  2019-05-13\n",
      "225  3090493  2019-05-14\n",
      "226  2072281  2019-05-15\n",
      "227  2319528  2019-05-16\n",
      "228  1923948  2019-05-17\n",
      "229  1669331  2019-05-20\n",
      "230  1438804  2019-05-21\n",
      "231  1539829  2019-05-22\n",
      "232  2701356  2019-05-23\n",
      "233  1381924  2019-05-24\n",
      "234  3866068  2019-05-28\n",
      "235  2955070  2019-05-29\n",
      "236  2621700  2019-05-30\n",
      "237  2836563  2019-05-31\n",
      "238  4765473  2019-06-03\n",
      "239  2767665  2019-06-04\n",
      "240  5059723  2019-06-05\n",
      "241  2795552  2019-06-06\n",
      "242  1668251  2019-06-07\n",
      "243  2260005  2019-06-10\n",
      "244  1724530  2019-06-11\n",
      "245  1729920  2019-06-12\n",
      "246  1726623  2019-06-13\n",
      "247  1401000  2019-06-14\n",
      "248  2506104  2019-06-17\n",
      "249  2261097  2019-06-18\n",
      "250  4049930  2019-06-19\n",
      "\n",
      "[251 rows x 2 columns]\n",
      "       volume    DateTime\n",
      "0    11655932  2018-06-20\n",
      "1    15009796  2018-06-21\n",
      "2    28310942  2018-06-22\n",
      "3    18380345  2018-06-25\n",
      "4    13529149  2018-06-26\n",
      "5    20583866  2018-06-27\n",
      "6    14285368  2018-06-28\n",
      "7    13167937  2018-06-29\n",
      "8    15296553  2018-07-02\n",
      "9     9308177  2018-07-03\n",
      "10    9969537  2018-07-05\n",
      "11    9310429  2018-07-06\n",
      "12   11059160  2018-07-09\n",
      "13   11003761  2018-07-10\n",
      "14   19362770  2018-07-11\n",
      "15   12568031  2018-07-12\n",
      "16   11423091  2018-07-13\n",
      "17   11390744  2018-07-16\n",
      "18    9753183  2018-07-17\n",
      "19   15351520  2018-07-18\n",
      "20   16231809  2018-07-19\n",
      "21   10861317  2018-07-20\n",
      "22    7623849  2018-07-23\n",
      "23   10168500  2018-07-24\n",
      "24   11037546  2018-07-25\n",
      "25   12187385  2018-07-26\n",
      "26   12642806  2018-07-27\n",
      "27   11394997  2018-07-30\n",
      "28   11290711  2018-07-31\n",
      "29   11172625  2018-08-01\n",
      "..        ...         ...\n",
      "221   9823707  2019-05-08\n",
      "222  14409544  2019-05-09\n",
      "223  13074954  2019-05-10\n",
      "224  14070022  2019-05-13\n",
      "225   9241956  2019-05-14\n",
      "226  10092343  2019-05-15\n",
      "227   9376619  2019-05-16\n",
      "228  10555799  2019-05-17\n",
      "229   8186324  2019-05-20\n",
      "230  18380450  2019-05-21\n",
      "231   9637121  2019-05-22\n",
      "232  23963613  2019-05-23\n",
      "233  10153381  2019-05-24\n",
      "234  12930642  2019-05-28\n",
      "235  16951585  2019-05-29\n",
      "236  15173861  2019-05-30\n",
      "237  21898542  2019-05-31\n",
      "238  18024661  2019-06-03\n",
      "239  14743427  2019-06-04\n",
      "240  15882054  2019-06-05\n",
      "241  32393915  2019-06-06\n",
      "242  15774071  2019-06-07\n",
      "243   9837825  2019-06-10\n",
      "244   9522629  2019-06-11\n",
      "245  13816452  2019-06-12\n",
      "246  12191939  2019-06-13\n",
      "247   7916416  2019-06-14\n",
      "248   8795248  2019-06-17\n",
      "249  17222144  2019-06-18\n",
      "250   8827665  2019-06-19\n",
      "\n",
      "[251 rows x 2 columns]\n",
      "       volume    DateTime\n",
      "0    11975928  2018-06-20\n",
      "1    15497833  2018-06-21\n",
      "2    13657361  2018-06-22\n",
      "3    23091537  2018-06-25\n",
      "4    11351851  2018-06-26\n",
      "5    19853403  2018-06-27\n",
      "6    15329838  2018-06-28\n",
      "7    14907976  2018-06-29\n",
      "8    14098693  2018-07-02\n",
      "9     7083332  2018-07-03\n",
      "10    8465722  2018-07-05\n",
      "11    9757529  2018-07-06\n",
      "12   13033985  2018-07-09\n",
      "13    9880441  2018-07-10\n",
      "14   14207965  2018-07-11\n",
      "15   12705631  2018-07-12\n",
      "16   18494295  2018-07-13\n",
      "17    9576084  2018-07-16\n",
      "18    7326022  2018-07-17\n",
      "19   13821348  2018-07-18\n",
      "20    8790004  2018-07-19\n",
      "21    7922415  2018-07-20\n",
      "22    7822045  2018-07-23\n",
      "23   12140416  2018-07-24\n",
      "24   17967872  2018-07-25\n",
      "25   15115428  2018-07-26\n",
      "26   11281629  2018-07-27\n",
      "27   13423598  2018-07-30\n",
      "28   17709453  2018-07-31\n",
      "29   14214593  2018-08-01\n",
      "..        ...         ...\n",
      "221  16464956  2019-05-08\n",
      "222  14923662  2019-05-09\n",
      "223  17419836  2019-05-10\n",
      "224  20011033  2019-05-13\n",
      "225  11318011  2019-05-14\n",
      "226  12289963  2019-05-15\n",
      "227   7450005  2019-05-16\n",
      "228  16305654  2019-05-17\n",
      "229  11638491  2019-05-20\n",
      "230  10612265  2019-05-21\n",
      "231   9114746  2019-05-22\n",
      "232  16205768  2019-05-23\n",
      "233  11127434  2019-05-24\n",
      "234  11263080  2019-05-28\n",
      "235  14257069  2019-05-29\n",
      "236  10103505  2019-05-30\n",
      "237  13718389  2019-05-31\n",
      "238  17514954  2019-06-03\n",
      "239  16424739  2019-06-04\n",
      "240  12865641  2019-06-05\n",
      "241  11387334  2019-06-06\n",
      "242   9234296  2019-06-07\n",
      "243   9513873  2019-06-10\n",
      "244  11936562  2019-06-11\n",
      "245   5612474  2019-06-12\n",
      "246   6987036  2019-06-13\n",
      "247   5966596  2019-06-14\n",
      "248   7708766  2019-06-17\n",
      "249  12506299  2019-06-18\n",
      "250  11171676  2019-06-19\n",
      "\n",
      "[251 rows x 2 columns]\n",
      "       volume    DateTime\n",
      "0    11465613  2018-06-20\n",
      "1    14817113  2018-06-21\n",
      "2    15739988  2018-06-22\n",
      "3    18027741  2018-06-25\n",
      "4    13862844  2018-06-26\n",
      "5    22054604  2018-06-27\n",
      "6    17799048  2018-06-28\n",
      "7    10009814  2018-06-29\n",
      "8    12545908  2018-07-02\n",
      "9     6361411  2018-07-03\n",
      "10   13659996  2018-07-05\n",
      "11   12802009  2018-07-06\n",
      "12    8727604  2018-07-09\n",
      "13   11493129  2018-07-10\n",
      "14   12975071  2018-07-11\n",
      "15   11853325  2018-07-12\n",
      "16    9258443  2018-07-13\n",
      "17    6665953  2018-07-16\n",
      "18    7451575  2018-07-17\n",
      "19    7081957  2018-07-18\n",
      "20    7455318  2018-07-19\n",
      "21    7219886  2018-07-20\n",
      "22   12575508  2018-07-23\n",
      "23   10778640  2018-07-24\n",
      "24   15288805  2018-07-25\n",
      "25   12547190  2018-07-26\n",
      "26   31777544  2018-07-27\n",
      "27   17847711  2018-07-30\n",
      "28   14977005  2018-07-31\n",
      "29   14661395  2018-08-01\n",
      "..        ...         ...\n",
      "221  13667465  2019-05-08\n",
      "222  19300910  2019-05-09\n",
      "223  19596295  2019-05-10\n",
      "224  25461207  2019-05-13\n",
      "225  18404280  2019-05-14\n",
      "226  15048875  2019-05-15\n",
      "227  15444976  2019-05-16\n",
      "228  13543996  2019-05-17\n",
      "229  14673932  2019-05-20\n",
      "230  14841128  2019-05-21\n",
      "231  11521081  2019-05-22\n",
      "232  16085696  2019-05-23\n",
      "233  11750019  2019-05-24\n",
      "234  25772770  2019-05-28\n",
      "235  14754806  2019-05-29\n",
      "236  11420530  2019-05-30\n",
      "237  12039782  2019-05-31\n",
      "238  19703698  2019-06-03\n",
      "239  15096174  2019-06-04\n",
      "240  14395841  2019-06-05\n",
      "241  11922461  2019-06-06\n",
      "242  11992069  2019-06-07\n",
      "243  13463779  2019-06-10\n",
      "244  11550125  2019-06-11\n",
      "245   7596943  2019-06-12\n",
      "246   9867761  2019-06-13\n",
      "247   8441689  2019-06-14\n",
      "248   9351130  2019-06-17\n",
      "249  16181183  2019-06-18\n",
      "250  12371290  2019-06-19\n",
      "\n",
      "[251 rows x 2 columns]\n"
     ]
    }
   ],
   "source": [
    "# Create data frame variable\n",
    "df_names = [IVV_data_df, RSP_data_df, SCHX_data_df, SPY_data_df, VOO_data_df, VTI_data_df, XLE_data_df, XLI_data_df, XLK_data_df,  ]\n",
    "    \n",
    "# Loop over 9 cleaned data sources and changing the index to DateTime\n",
    "for df in df_names:\n",
    "    print(df)\n",
    "    df.set_index('DateTime', inplace=True)"
   ]
  },
  {
   "cell_type": "markdown",
   "metadata": {},
   "source": [
    "## Combine all 10 cleaned data sources into 1 data frame"
   ]
  },
  {
   "cell_type": "code",
   "execution_count": 59,
   "metadata": {},
   "outputs": [],
   "source": [
    "# Merge ( default left join ) all 9 cleaned data sources into 1 final_df dataframe\n",
    "final_df = pd.merge(IVV_data_df, RSP_data_df, on=['DateTime'], suffixes=('_IVV', '_RSP'))\n",
    "final_df = pd.merge(final_df, SCHX_data_df, on=['DateTime'], suffixes=('_IVV', '_SCHX'))\n",
    "final_df = pd.merge(final_df, SPY_data_df, on=['DateTime'], suffixes=('', '_SPY'))\n",
    "final_df = pd.merge(final_df, VOO_data_df, on=['DateTime'], suffixes=('', '_VOO'))\n",
    "final_df = pd.merge(final_df, VTI_data_df, on=['DateTime'], suffixes=('', '_VTI'))\n",
    "final_df = pd.merge(final_df, XLE_data_df, on=['DateTime'], suffixes=('', '_XLE'))\n",
    "final_df = pd.merge(final_df, XLI_data_df, on=['DateTime'], suffixes=('', '_XLI'))\n",
    "final_df = pd.merge(final_df, XLK_data_df, on=['DateTime'], suffixes=('', '_XLK'))"
   ]
  },
  {
   "cell_type": "code",
   "execution_count": 60,
   "metadata": {},
   "outputs": [],
   "source": [
    "# Rename 'volume' column to 'volume_SCHX' as the merge creates 1 column with the name of 'volume'\n",
    "final_df.rename(columns={'volume':'volume_SCHX'}, inplace=True)"
   ]
  },
  {
   "cell_type": "code",
   "execution_count": 61,
   "metadata": {},
   "outputs": [],
   "source": [
    "# Save final_df to csv so I can read it back out and change the data values - this makes converting the data types to floats easier\n",
    "final_df.to_csv('final_df.csv',index=True)"
   ]
  },
  {
   "cell_type": "code",
   "execution_count": 62,
   "metadata": {},
   "outputs": [],
   "source": [
    "# Read in the final_df csv and change the data types to float\n",
    "converted_data_final_df = pd.read_csv(\"final_df.csv\",  \n",
    "                 dtype={'volume_IVV': float,'volume_RSP': float, 'volume_SCHX': float, 'volume_SPY': float, 'volume_VOO': float, 'volume_VTI': float, 'volume_XLE': float, 'volume_XLI': float, 'volume_XLK': float})"
   ]
  },
  {
   "cell_type": "code",
   "execution_count": 63,
   "metadata": {},
   "outputs": [],
   "source": [
    "# Convert \"DateTime\" from object to datetime\n",
    "converted_data_final_df['DateTime'] = pd.to_datetime(converted_data_final_df['DateTime'])"
   ]
  },
  {
   "cell_type": "code",
   "execution_count": 64,
   "metadata": {},
   "outputs": [],
   "source": [
    "# Setting the index as 'DateTime'\n",
    "converted_data_final_df.set_index('DateTime', inplace=True)"
   ]
  },
  {
   "cell_type": "code",
   "execution_count": 65,
   "metadata": {},
   "outputs": [],
   "source": [
    "# Convert from float to datetime\n",
    "vix_df['Date'] = pd.to_datetime(vix_df['Date'])"
   ]
  },
  {
   "cell_type": "code",
   "execution_count": 66,
   "metadata": {},
   "outputs": [],
   "source": [
    "# Set the Vix_df index as 'Date'\n",
    "vix_df.set_index('Date', inplace=True)"
   ]
  },
  {
   "cell_type": "code",
   "execution_count": 67,
   "metadata": {},
   "outputs": [],
   "source": [
    "# Merge 'vix_df' into 'converted_data_final_df'\n",
    "converted_data_final_df = converted_data_final_df.merge(vix_df, left_index=True, right_index=True, how='inner')"
   ]
  },
  {
   "cell_type": "markdown",
   "metadata": {},
   "source": [
    "# Feature Engineering\n",
    "\n",
    "### VIX High_Price_Tomorrow"
   ]
  },
  {
   "cell_type": "code",
   "execution_count": 68,
   "metadata": {},
   "outputs": [],
   "source": [
    "# Create a new vix high column for tomorrow's price by copying the existing VIX High\n",
    "converted_data_final_df['VIX High_Price_Tomorrow'] = (converted_data_final_df['VIX High'])"
   ]
  },
  {
   "cell_type": "code",
   "execution_count": 69,
   "metadata": {},
   "outputs": [
    {
     "name": "stdout",
     "output_type": "stream",
     "text": [
      "volume_IVV                 0\n",
      "volume_RSP                 0\n",
      "volume_SCHX                0\n",
      "volume_SPY                 0\n",
      "volume_VOO                 0\n",
      "volume_VTI                 0\n",
      "volume_XLE                 0\n",
      "volume_XLI                 0\n",
      "volume_XLK                 0\n",
      "VIX High                   0\n",
      "VIX High_Price_Tomorrow    0\n",
      "dtype: int64\n"
     ]
    }
   ],
   "source": [
    "# Check for missing values by (numeric) feature\n",
    "print(converted_data_final_df.select_dtypes(exclude=['object']).isnull().sum())"
   ]
  },
  {
   "cell_type": "code",
   "execution_count": 70,
   "metadata": {},
   "outputs": [
    {
     "name": "stdout",
     "output_type": "stream",
     "text": [
      "            volume_IVV  volume_RSP  volume_SCHX   volume_SPY  volume_VOO  \\\n",
      "DateTime                                                                   \n",
      "2019-06-19 7606221.000  610867.000   949638.000 78674377.000 1684486.000   \n",
      "\n",
      "            volume_VTI  volume_XLE   volume_XLI   volume_XLK  VIX High  \\\n",
      "DateTime                                                                 \n",
      "2019-06-19 4049930.000 8827665.000 11171676.000 12371290.000    15.710   \n",
      "\n",
      "            VIX High_Price_Tomorrow  \n",
      "DateTime                             \n",
      "2019-06-19                   15.710  \n"
     ]
    }
   ],
   "source": [
    "# Adding 1 row of Dummy data to converted_data_final_df - so when we drop the NAN will be gone\n",
    "dummy_last_row = converted_data_final_df.iloc[-1:] #grab the last row of 'converted_data_final_df'\n",
    "print(dummy_last_row)\n",
    "converted_data_final_df = converted_data_final_df.append(dummy_last_row)"
   ]
  },
  {
   "cell_type": "code",
   "execution_count": 71,
   "metadata": {},
   "outputs": [],
   "source": [
    "# Shift the 'VIX High_Price_Tomorrow' by -1 so we can use it to predict tomorrow's price\n",
    "converted_data_final_df['VIX High_Price_Tomorrow'] = converted_data_final_df['VIX High_Price_Tomorrow'].shift(-1)\n"
   ]
  },
  {
   "cell_type": "code",
   "execution_count": 72,
   "metadata": {},
   "outputs": [],
   "source": [
    "# Drop last row for all columns so I remove the one NAN row for the 'VIX High_Price_Tomorrow' column\n",
    "converted_data_final_df = converted_data_final_df[:-1]"
   ]
  },
  {
   "cell_type": "code",
   "execution_count": 73,
   "metadata": {
    "scrolled": true
   },
   "outputs": [
    {
     "data": {
      "image/png": "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\n",
      "text/plain": [
       "<Figure size 1008x1008 with 12 Axes>"
      ]
     },
     "metadata": {
      "needs_background": "light"
     },
     "output_type": "display_data"
    }
   ],
   "source": [
    "# Plot histogram grid\n",
    "converted_data_final_df.hist(figsize=(14, 14), xrot=-45)\n",
    "\n",
    "# Clear the text residue\n",
    "plt.show()\n",
    "\n",
    "# vix_df['VIX Close'].hist() # Use this to plot a single column"
   ]
  },
  {
   "cell_type": "code",
   "execution_count": 74,
   "metadata": {},
   "outputs": [
    {
     "name": "stdout",
     "output_type": "stream",
     "text": [
      "[]\n"
     ]
    }
   ],
   "source": [
    "# Check 'converted_data_df' columns for NANs\n",
    "print(converted_data_final_df.columns[converted_data_final_df.isna().any()].tolist())"
   ]
  },
  {
   "cell_type": "code",
   "execution_count": 75,
   "metadata": {
    "scrolled": true
   },
   "outputs": [
    {
     "name": "stdout",
     "output_type": "stream",
     "text": [
      "volume_IVV                 0\n",
      "volume_RSP                 0\n",
      "volume_SCHX                0\n",
      "volume_SPY                 0\n",
      "volume_VOO                 0\n",
      "volume_VTI                 0\n",
      "volume_XLE                 0\n",
      "volume_XLI                 0\n",
      "volume_XLK                 0\n",
      "VIX High                   0\n",
      "VIX High_Price_Tomorrow    0\n",
      "dtype: int64\n"
     ]
    }
   ],
   "source": [
    "# Verify Nan were removed\n",
    "print(converted_data_final_df.isnull().sum()) # Displays the total number of NANs per column"
   ]
  },
  {
   "cell_type": "code",
   "execution_count": 76,
   "metadata": {},
   "outputs": [],
   "source": [
    "# Create data_df Correlations \n",
    "data_correlations = converted_data_final_df.corr()"
   ]
  },
  {
   "cell_type": "code",
   "execution_count": 77,
   "metadata": {},
   "outputs": [
    {
     "data": {
      "text/html": [
       "<div>\n",
       "<style scoped>\n",
       "    .dataframe tbody tr th:only-of-type {\n",
       "        vertical-align: middle;\n",
       "    }\n",
       "\n",
       "    .dataframe tbody tr th {\n",
       "        vertical-align: top;\n",
       "    }\n",
       "\n",
       "    .dataframe thead th {\n",
       "        text-align: right;\n",
       "    }\n",
       "</style>\n",
       "<table border=\"1\" class=\"dataframe\">\n",
       "  <thead>\n",
       "    <tr style=\"text-align: right;\">\n",
       "      <th></th>\n",
       "      <th>volume_IVV</th>\n",
       "      <th>volume_RSP</th>\n",
       "      <th>volume_SCHX</th>\n",
       "      <th>volume_SPY</th>\n",
       "      <th>volume_VOO</th>\n",
       "      <th>volume_VTI</th>\n",
       "      <th>volume_XLE</th>\n",
       "      <th>volume_XLI</th>\n",
       "      <th>volume_XLK</th>\n",
       "      <th>VIX High</th>\n",
       "      <th>VIX High_Price_Tomorrow</th>\n",
       "    </tr>\n",
       "  </thead>\n",
       "  <tbody>\n",
       "    <tr>\n",
       "      <th>volume_IVV</th>\n",
       "      <td>1.000</td>\n",
       "      <td>0.595</td>\n",
       "      <td>0.558</td>\n",
       "      <td>0.791</td>\n",
       "      <td>0.785</td>\n",
       "      <td>0.773</td>\n",
       "      <td>0.620</td>\n",
       "      <td>0.546</td>\n",
       "      <td>0.593</td>\n",
       "      <td>0.703</td>\n",
       "      <td>0.708</td>\n",
       "    </tr>\n",
       "    <tr>\n",
       "      <th>volume_RSP</th>\n",
       "      <td>0.595</td>\n",
       "      <td>1.000</td>\n",
       "      <td>0.512</td>\n",
       "      <td>0.649</td>\n",
       "      <td>0.623</td>\n",
       "      <td>0.629</td>\n",
       "      <td>0.514</td>\n",
       "      <td>0.480</td>\n",
       "      <td>0.485</td>\n",
       "      <td>0.657</td>\n",
       "      <td>0.629</td>\n",
       "    </tr>\n",
       "    <tr>\n",
       "      <th>volume_SCHX</th>\n",
       "      <td>0.558</td>\n",
       "      <td>0.512</td>\n",
       "      <td>1.000</td>\n",
       "      <td>0.571</td>\n",
       "      <td>0.554</td>\n",
       "      <td>0.623</td>\n",
       "      <td>0.434</td>\n",
       "      <td>0.439</td>\n",
       "      <td>0.473</td>\n",
       "      <td>0.566</td>\n",
       "      <td>0.552</td>\n",
       "    </tr>\n",
       "    <tr>\n",
       "      <th>volume_SPY</th>\n",
       "      <td>0.791</td>\n",
       "      <td>0.649</td>\n",
       "      <td>0.571</td>\n",
       "      <td>1.000</td>\n",
       "      <td>0.821</td>\n",
       "      <td>0.772</td>\n",
       "      <td>0.737</td>\n",
       "      <td>0.788</td>\n",
       "      <td>0.816</td>\n",
       "      <td>0.827</td>\n",
       "      <td>0.828</td>\n",
       "    </tr>\n",
       "    <tr>\n",
       "      <th>volume_VOO</th>\n",
       "      <td>0.785</td>\n",
       "      <td>0.623</td>\n",
       "      <td>0.554</td>\n",
       "      <td>0.821</td>\n",
       "      <td>1.000</td>\n",
       "      <td>0.820</td>\n",
       "      <td>0.619</td>\n",
       "      <td>0.585</td>\n",
       "      <td>0.644</td>\n",
       "      <td>0.743</td>\n",
       "      <td>0.735</td>\n",
       "    </tr>\n",
       "    <tr>\n",
       "      <th>volume_VTI</th>\n",
       "      <td>0.773</td>\n",
       "      <td>0.629</td>\n",
       "      <td>0.623</td>\n",
       "      <td>0.772</td>\n",
       "      <td>0.820</td>\n",
       "      <td>1.000</td>\n",
       "      <td>0.559</td>\n",
       "      <td>0.510</td>\n",
       "      <td>0.620</td>\n",
       "      <td>0.778</td>\n",
       "      <td>0.763</td>\n",
       "    </tr>\n",
       "    <tr>\n",
       "      <th>volume_XLE</th>\n",
       "      <td>0.620</td>\n",
       "      <td>0.514</td>\n",
       "      <td>0.434</td>\n",
       "      <td>0.737</td>\n",
       "      <td>0.619</td>\n",
       "      <td>0.559</td>\n",
       "      <td>1.000</td>\n",
       "      <td>0.650</td>\n",
       "      <td>0.628</td>\n",
       "      <td>0.645</td>\n",
       "      <td>0.681</td>\n",
       "    </tr>\n",
       "    <tr>\n",
       "      <th>volume_XLI</th>\n",
       "      <td>0.546</td>\n",
       "      <td>0.480</td>\n",
       "      <td>0.439</td>\n",
       "      <td>0.788</td>\n",
       "      <td>0.585</td>\n",
       "      <td>0.510</td>\n",
       "      <td>0.650</td>\n",
       "      <td>1.000</td>\n",
       "      <td>0.776</td>\n",
       "      <td>0.603</td>\n",
       "      <td>0.605</td>\n",
       "    </tr>\n",
       "    <tr>\n",
       "      <th>volume_XLK</th>\n",
       "      <td>0.593</td>\n",
       "      <td>0.485</td>\n",
       "      <td>0.473</td>\n",
       "      <td>0.816</td>\n",
       "      <td>0.644</td>\n",
       "      <td>0.620</td>\n",
       "      <td>0.628</td>\n",
       "      <td>0.776</td>\n",
       "      <td>1.000</td>\n",
       "      <td>0.611</td>\n",
       "      <td>0.616</td>\n",
       "    </tr>\n",
       "    <tr>\n",
       "      <th>VIX High</th>\n",
       "      <td>0.703</td>\n",
       "      <td>0.657</td>\n",
       "      <td>0.566</td>\n",
       "      <td>0.827</td>\n",
       "      <td>0.743</td>\n",
       "      <td>0.778</td>\n",
       "      <td>0.645</td>\n",
       "      <td>0.603</td>\n",
       "      <td>0.611</td>\n",
       "      <td>1.000</td>\n",
       "      <td>0.946</td>\n",
       "    </tr>\n",
       "    <tr>\n",
       "      <th>VIX High_Price_Tomorrow</th>\n",
       "      <td>0.708</td>\n",
       "      <td>0.629</td>\n",
       "      <td>0.552</td>\n",
       "      <td>0.828</td>\n",
       "      <td>0.735</td>\n",
       "      <td>0.763</td>\n",
       "      <td>0.681</td>\n",
       "      <td>0.605</td>\n",
       "      <td>0.616</td>\n",
       "      <td>0.946</td>\n",
       "      <td>1.000</td>\n",
       "    </tr>\n",
       "  </tbody>\n",
       "</table>\n",
       "</div>"
      ],
      "text/plain": [
       "                         volume_IVV  volume_RSP  volume_SCHX  volume_SPY  \\\n",
       "volume_IVV                    1.000       0.595        0.558       0.791   \n",
       "volume_RSP                    0.595       1.000        0.512       0.649   \n",
       "volume_SCHX                   0.558       0.512        1.000       0.571   \n",
       "volume_SPY                    0.791       0.649        0.571       1.000   \n",
       "volume_VOO                    0.785       0.623        0.554       0.821   \n",
       "volume_VTI                    0.773       0.629        0.623       0.772   \n",
       "volume_XLE                    0.620       0.514        0.434       0.737   \n",
       "volume_XLI                    0.546       0.480        0.439       0.788   \n",
       "volume_XLK                    0.593       0.485        0.473       0.816   \n",
       "VIX High                      0.703       0.657        0.566       0.827   \n",
       "VIX High_Price_Tomorrow       0.708       0.629        0.552       0.828   \n",
       "\n",
       "                         volume_VOO  volume_VTI  volume_XLE  volume_XLI  \\\n",
       "volume_IVV                    0.785       0.773       0.620       0.546   \n",
       "volume_RSP                    0.623       0.629       0.514       0.480   \n",
       "volume_SCHX                   0.554       0.623       0.434       0.439   \n",
       "volume_SPY                    0.821       0.772       0.737       0.788   \n",
       "volume_VOO                    1.000       0.820       0.619       0.585   \n",
       "volume_VTI                    0.820       1.000       0.559       0.510   \n",
       "volume_XLE                    0.619       0.559       1.000       0.650   \n",
       "volume_XLI                    0.585       0.510       0.650       1.000   \n",
       "volume_XLK                    0.644       0.620       0.628       0.776   \n",
       "VIX High                      0.743       0.778       0.645       0.603   \n",
       "VIX High_Price_Tomorrow       0.735       0.763       0.681       0.605   \n",
       "\n",
       "                         volume_XLK  VIX High  VIX High_Price_Tomorrow  \n",
       "volume_IVV                    0.593     0.703                    0.708  \n",
       "volume_RSP                    0.485     0.657                    0.629  \n",
       "volume_SCHX                   0.473     0.566                    0.552  \n",
       "volume_SPY                    0.816     0.827                    0.828  \n",
       "volume_VOO                    0.644     0.743                    0.735  \n",
       "volume_VTI                    0.620     0.778                    0.763  \n",
       "volume_XLE                    0.628     0.645                    0.681  \n",
       "volume_XLI                    0.776     0.603                    0.605  \n",
       "volume_XLK                    1.000     0.611                    0.616  \n",
       "VIX High                      0.611     1.000                    0.946  \n",
       "VIX High_Price_Tomorrow       0.616     0.946                    1.000  "
      ]
     },
     "execution_count": 77,
     "metadata": {},
     "output_type": "execute_result"
    }
   ],
   "source": [
    "# Check for NAN in data_correlations\n",
    "data_correlations"
   ]
  },
  {
   "cell_type": "code",
   "execution_count": 78,
   "metadata": {
    "scrolled": false
   },
   "outputs": [
    {
     "data": {
      "text/plain": [
       "<matplotlib.axes._subplots.AxesSubplot at 0x1a6f045fc18>"
      ]
     },
     "execution_count": 78,
     "metadata": {},
     "output_type": "execute_result"
    },
    {
     "data": {
      "image/png": "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\n",
      "text/plain": [
       "<Figure size 648x576 with 1 Axes>"
      ]
     },
     "metadata": {},
     "output_type": "display_data"
    }
   ],
   "source": [
    "# Change color scheme\n",
    "sns.set_style(\"white\")\n",
    "\n",
    "# Generate a mask for the upper triangle\n",
    "mask = np.zeros_like(data_correlations, dtype=np.bool)\n",
    "mask[np.triu_indices_from(mask)] = True\n",
    "\n",
    "# Make the figsize 9 x 8\n",
    "plt.figure(figsize=(9,8))\n",
    "\n",
    "# Plot heatmap of fb_correlations\n",
    "sns.heatmap(data_correlations * 100,\n",
    "           annot=True, fmt='.0f',\n",
    "           mask=mask,\n",
    "           cmap='RdBu_r',\n",
    "           cbar=False)"
   ]
  },
  {
   "cell_type": "markdown",
   "metadata": {},
   "source": [
    "## Prepare ABT table"
   ]
  },
  {
   "cell_type": "code",
   "execution_count": 79,
   "metadata": {},
   "outputs": [],
   "source": [
    "# Saving Analytical base table to pass to models - Not doing this step as it removes our DateTime index\n",
    "# Tt may not be important, but for now we will be using the converted_data_final_df and NOT saving an ABT table\n",
    "# converted_data_final_df.to_csv('Data/Final_cleaned_data_sources/analytical_base_table.csv')"
   ]
  },
  {
   "cell_type": "markdown",
   "metadata": {},
   "source": [
    "# Section 6\n",
    "\n",
    "## Algorithm Selection"
   ]
  },
  {
   "cell_type": "markdown",
   "metadata": {},
   "source": [
    "### I started with these 5 Algorithms to test and see which one best fit for this project\n",
    "Lasso\n",
    "\n",
    "Ridge Regression\n",
    "\n",
    "Enet\n",
    "\n",
    "Random Forest \n",
    "\n",
    "Grandient Boosting\n",
    "\n",
    "\n",
    "### Practical benefits \n",
    "The winning Algorithm was Lasso Regression ( Least Absolute Shrinkage and Selection Operator ). \n",
    "\n",
    "Lasso regression is optimized for prediction, rather than inference, which makes it a great fit for our project.\n",
    "\n",
    "Lasso regression allows you to regularize (\"shrink\") coefficients. This means that the estimated coefficients are pushed towards 0, to make them work better on new data-sets (\"optimized for prediction\"). This allows us to use complex models and avoid over-fitting at the same time.\n",
    "\n",
    "### Lasso key hyperparamters to tune \n",
    "lasso__alpha is the key hyperparameter to tune for Lasso Regression and is the only one we tuned for this project."
   ]
  },
  {
   "cell_type": "markdown",
   "metadata": {},
   "source": [
    "# Section 7\n",
    "\n",
    "## Model Training"
   ]
  },
  {
   "cell_type": "code",
   "execution_count": 80,
   "metadata": {},
   "outputs": [],
   "source": [
    "# I am trying 2 data sets, this is the first data set\n",
    "# Create separate object for target variable - this is the value we are trying to predict ( if the number is higher we can safely assume the VIX will go up tomorrow )\n",
    "y = converted_data_final_df['VIX High_Price_Tomorrow']\n",
    "\n",
    "# Create separate object for input features - we are removing the VIX High from X\n",
    "X = converted_data_final_df.drop('VIX High_Price_Tomorrow', axis=1)"
   ]
  },
  {
   "cell_type": "code",
   "execution_count": 81,
   "metadata": {},
   "outputs": [],
   "source": [
    "# I am trying 2 data sets, this is the second data set\n",
    "# Create separate object for target variable - this is the value we are trying to predict ( if the number is higher we can safely assume the VIX will go up tomorrow )\n",
    "yy = converted_data_final_df['VIX High_Price_Tomorrow']\n",
    "\n",
    "# Create separate object for input features - we are removing the VIX High from XX\n",
    "XX = converted_data_final_df.drop('VIX High_Price_Tomorrow', axis=1)"
   ]
  },
  {
   "cell_type": "code",
   "execution_count": 82,
   "metadata": {
    "scrolled": true
   },
   "outputs": [
    {
     "name": "stdout",
     "output_type": "stream",
     "text": [
      "DateTime\n",
      "2019-06-13   16.400\n",
      "2019-06-14   15.760\n",
      "2019-06-17   15.540\n",
      "2019-06-18   15.710\n",
      "2019-06-19   15.710\n",
      "Name: VIX High_Price_Tomorrow, dtype: float64\n"
     ]
    }
   ],
   "source": [
    "# Checking the yy.data frame\n",
    "print(yy.tail())"
   ]
  },
  {
   "cell_type": "code",
   "execution_count": 83,
   "metadata": {
    "scrolled": true
   },
   "outputs": [
    {
     "name": "stdout",
     "output_type": "stream",
     "text": [
      "            volume_IVV  volume_RSP  volume_SCHX   volume_SPY  volume_VOO  \\\n",
      "DateTime                                                                   \n",
      "2019-06-13 2304977.000  959749.000   767419.000 48945156.000 1813685.000   \n",
      "2019-06-14 2000184.000  308672.000   682456.000 52324716.000 1203356.000   \n",
      "2019-06-17 2511178.000  287787.000  1132814.000 39205709.000 1782613.000   \n",
      "2019-06-18 4622740.000  564842.000   997612.000 85434823.000 2340697.000   \n",
      "2019-06-19 7606221.000  610867.000   949638.000 78674377.000 1684486.000   \n",
      "\n",
      "            volume_VTI   volume_XLE   volume_XLI   volume_XLK  VIX High  \n",
      "DateTime                                                                 \n",
      "2019-06-13 1726623.000 12191939.000  6987036.000  9867761.000    16.210  \n",
      "2019-06-14 1401000.000  7916416.000  5966596.000  8441689.000    16.400  \n",
      "2019-06-17 2506104.000  8795248.000  7708766.000  9351130.000    15.760  \n",
      "2019-06-18 2261097.000 17222144.000 12506299.000 16181183.000    15.540  \n",
      "2019-06-19 4049930.000  8827665.000 11171676.000 12371290.000    15.710  \n"
     ]
    }
   ],
   "source": [
    "# Checking the XX data frame\n",
    "print(XX.tail())"
   ]
  },
  {
   "cell_type": "code",
   "execution_count": 84,
   "metadata": {},
   "outputs": [],
   "source": [
    "# Split X and y into train and test sets - using the first data set\n",
    "X_train, X_test, y_train, y_test = train_test_split(X, y,\n",
    "                                                   test_size=0.2,\n",
    "                                                   random_state=1234)"
   ]
  },
  {
   "cell_type": "code",
   "execution_count": 85,
   "metadata": {},
   "outputs": [
    {
     "name": "stdout",
     "output_type": "stream",
     "text": [
      "200 51 200 51\n"
     ]
    }
   ],
   "source": [
    "# Confirm we have the right number of observations in each subset - using the first data set\n",
    "print( len(X_train), len(X_test), len(y_train), len(y_test))"
   ]
  },
  {
   "cell_type": "code",
   "execution_count": 86,
   "metadata": {},
   "outputs": [
    {
     "data": {
      "text/html": [
       "<div>\n",
       "<style scoped>\n",
       "    .dataframe tbody tr th:only-of-type {\n",
       "        vertical-align: middle;\n",
       "    }\n",
       "\n",
       "    .dataframe tbody tr th {\n",
       "        vertical-align: top;\n",
       "    }\n",
       "\n",
       "    .dataframe thead th {\n",
       "        text-align: right;\n",
       "    }\n",
       "</style>\n",
       "<table border=\"1\" class=\"dataframe\">\n",
       "  <thead>\n",
       "    <tr style=\"text-align: right;\">\n",
       "      <th></th>\n",
       "      <th>volume_IVV</th>\n",
       "      <th>volume_RSP</th>\n",
       "      <th>volume_SCHX</th>\n",
       "      <th>volume_SPY</th>\n",
       "      <th>volume_VOO</th>\n",
       "      <th>volume_VTI</th>\n",
       "      <th>volume_XLE</th>\n",
       "      <th>volume_XLI</th>\n",
       "      <th>volume_XLK</th>\n",
       "      <th>VIX High</th>\n",
       "    </tr>\n",
       "  </thead>\n",
       "  <tbody>\n",
       "    <tr>\n",
       "      <th>count</th>\n",
       "      <td>200.000</td>\n",
       "      <td>200.000</td>\n",
       "      <td>200.000</td>\n",
       "      <td>200.000</td>\n",
       "      <td>200.000</td>\n",
       "      <td>200.000</td>\n",
       "      <td>200.000</td>\n",
       "      <td>200.000</td>\n",
       "      <td>200.000</td>\n",
       "      <td>200.000</td>\n",
       "    </tr>\n",
       "    <tr>\n",
       "      <th>mean</th>\n",
       "      <td>4434228.495</td>\n",
       "      <td>884251.195</td>\n",
       "      <td>1476103.265</td>\n",
       "      <td>86528709.510</td>\n",
       "      <td>3180690.330</td>\n",
       "      <td>3209238.410</td>\n",
       "      <td>15278762.555</td>\n",
       "      <td>13792091.080</td>\n",
       "      <td>15521712.885</td>\n",
       "      <td>17.455</td>\n",
       "    </tr>\n",
       "    <tr>\n",
       "      <th>std</th>\n",
       "      <td>2107727.125</td>\n",
       "      <td>594650.709</td>\n",
       "      <td>1329938.851</td>\n",
       "      <td>42260936.032</td>\n",
       "      <td>1736723.272</td>\n",
       "      <td>1965886.315</td>\n",
       "      <td>6546587.051</td>\n",
       "      <td>6115330.108</td>\n",
       "      <td>7784876.358</td>\n",
       "      <td>4.464</td>\n",
       "    </tr>\n",
       "    <tr>\n",
       "      <th>min</th>\n",
       "      <td>1660892.000</td>\n",
       "      <td>151177.000</td>\n",
       "      <td>532365.000</td>\n",
       "      <td>35716976.000</td>\n",
       "      <td>830910.000</td>\n",
       "      <td>1226467.000</td>\n",
       "      <td>6468894.000</td>\n",
       "      <td>4745182.000</td>\n",
       "      <td>5338114.000</td>\n",
       "      <td>11.180</td>\n",
       "    </tr>\n",
       "    <tr>\n",
       "      <th>25%</th>\n",
       "      <td>3036414.000</td>\n",
       "      <td>482288.500</td>\n",
       "      <td>876264.750</td>\n",
       "      <td>58553244.500</td>\n",
       "      <td>2076362.250</td>\n",
       "      <td>2100774.750</td>\n",
       "      <td>10626339.000</td>\n",
       "      <td>9802740.250</td>\n",
       "      <td>10738938.250</td>\n",
       "      <td>13.917</td>\n",
       "    </tr>\n",
       "    <tr>\n",
       "      <th>50%</th>\n",
       "      <td>3919875.500</td>\n",
       "      <td>708715.500</td>\n",
       "      <td>1105941.500</td>\n",
       "      <td>74305590.500</td>\n",
       "      <td>2740163.000</td>\n",
       "      <td>2669850.500</td>\n",
       "      <td>13199264.500</td>\n",
       "      <td>12445168.000</td>\n",
       "      <td>13992869.000</td>\n",
       "      <td>16.430</td>\n",
       "    </tr>\n",
       "    <tr>\n",
       "      <th>75%</th>\n",
       "      <td>5222603.250</td>\n",
       "      <td>1083499.500</td>\n",
       "      <td>1561042.250</td>\n",
       "      <td>99843436.500</td>\n",
       "      <td>3679448.000</td>\n",
       "      <td>3686600.500</td>\n",
       "      <td>18028903.250</td>\n",
       "      <td>16319482.750</td>\n",
       "      <td>17802576.250</td>\n",
       "      <td>19.988</td>\n",
       "    </tr>\n",
       "    <tr>\n",
       "      <th>max</th>\n",
       "      <td>14262694.000</td>\n",
       "      <td>3390091.000</td>\n",
       "      <td>13570521.000</td>\n",
       "      <td>274840491.000</td>\n",
       "      <td>12141874.000</td>\n",
       "      <td>13605032.000</td>\n",
       "      <td>45548907.000</td>\n",
       "      <td>54550493.000</td>\n",
       "      <td>68269507.000</td>\n",
       "      <td>36.200</td>\n",
       "    </tr>\n",
       "  </tbody>\n",
       "</table>\n",
       "</div>"
      ],
      "text/plain": [
       "        volume_IVV  volume_RSP  volume_SCHX    volume_SPY   volume_VOO  \\\n",
       "count      200.000     200.000      200.000       200.000      200.000   \n",
       "mean   4434228.495  884251.195  1476103.265  86528709.510  3180690.330   \n",
       "std    2107727.125  594650.709  1329938.851  42260936.032  1736723.272   \n",
       "min    1660892.000  151177.000   532365.000  35716976.000   830910.000   \n",
       "25%    3036414.000  482288.500   876264.750  58553244.500  2076362.250   \n",
       "50%    3919875.500  708715.500  1105941.500  74305590.500  2740163.000   \n",
       "75%    5222603.250 1083499.500  1561042.250  99843436.500  3679448.000   \n",
       "max   14262694.000 3390091.000 13570521.000 274840491.000 12141874.000   \n",
       "\n",
       "        volume_VTI   volume_XLE   volume_XLI   volume_XLK  VIX High  \n",
       "count      200.000      200.000      200.000      200.000   200.000  \n",
       "mean   3209238.410 15278762.555 13792091.080 15521712.885    17.455  \n",
       "std    1965886.315  6546587.051  6115330.108  7784876.358     4.464  \n",
       "min    1226467.000  6468894.000  4745182.000  5338114.000    11.180  \n",
       "25%    2100774.750 10626339.000  9802740.250 10738938.250    13.917  \n",
       "50%    2669850.500 13199264.500 12445168.000 13992869.000    16.430  \n",
       "75%    3686600.500 18028903.250 16319482.750 17802576.250    19.988  \n",
       "max   13605032.000 45548907.000 54550493.000 68269507.000    36.200  "
      ]
     },
     "execution_count": 86,
     "metadata": {},
     "output_type": "execute_result"
    }
   ],
   "source": [
    "# Our first data set - BEFORE standardization\n",
    "X_train.describe()"
   ]
  },
  {
   "cell_type": "code",
   "execution_count": 87,
   "metadata": {},
   "outputs": [],
   "source": [
    "# Create pipelines dictionary\n",
    "pipelines = {\n",
    "    'lasso' : make_pipeline(StandardScaler(), Lasso(random_state=123)),\n",
    "    'ridge' : make_pipeline(StandardScaler(), Ridge(random_state=123)),\n",
    "    'enet' : make_pipeline(StandardScaler(), ElasticNet(random_state=123)),\n",
    "    'rf' : make_pipeline(StandardScaler(), RandomForestRegressor(random_state=123)),\n",
    "    'gb' : make_pipeline(StandardScaler(), GradientBoostingRegressor(random_state=123))\n",
    "}"
   ]
  },
  {
   "cell_type": "code",
   "execution_count": 88,
   "metadata": {},
   "outputs": [
    {
     "name": "stdout",
     "output_type": "stream",
     "text": [
      "lasso Pipeline(memory=None,\n",
      "     steps=[('standardscaler', StandardScaler(copy=True, with_mean=True, with_std=True)), ('lasso', Lasso(alpha=1.0, copy_X=True, fit_intercept=True, max_iter=1000,\n",
      "   normalize=False, positive=False, precompute=False, random_state=123,\n",
      "   selection='cyclic', tol=0.0001, warm_start=False))])\n",
      "ridge Pipeline(memory=None,\n",
      "     steps=[('standardscaler', StandardScaler(copy=True, with_mean=True, with_std=True)), ('ridge', Ridge(alpha=1.0, copy_X=True, fit_intercept=True, max_iter=None,\n",
      "   normalize=False, random_state=123, solver='auto', tol=0.001))])\n",
      "enet Pipeline(memory=None,\n",
      "     steps=[('standardscaler', StandardScaler(copy=True, with_mean=True, with_std=True)), ('elasticnet', ElasticNet(alpha=1.0, copy_X=True, fit_intercept=True, l1_ratio=0.5,\n",
      "      max_iter=1000, normalize=False, positive=False, precompute=False,\n",
      "      random_state=123, selection='cyclic', tol=0.0001, warm_start=False))])\n",
      "rf Pipeline(memory=None,\n",
      "     steps=[('standardscaler', StandardScaler(copy=True, with_mean=True, with_std=True)), ('randomforestregressor', RandomForestRegressor(bootstrap=True, criterion='mse', max_depth=None,\n",
      "           max_features='auto', max_leaf_nodes=None,\n",
      "           min_impurity_decrease=0.0, min_impurity_split=None,\n",
      "  ...rs='warn', n_jobs=None,\n",
      "           oob_score=False, random_state=123, verbose=0, warm_start=False))])\n",
      "gb Pipeline(memory=None,\n",
      "     steps=[('standardscaler', StandardScaler(copy=True, with_mean=True, with_std=True)), ('gradientboostingregressor', GradientBoostingRegressor(alpha=0.9, criterion='friedman_mse', init=None,\n",
      "             learning_rate=0.1, loss='ls', max_depth=3, max_features=None,\n",
      "             max_leaf_nodes=None, mi...123, subsample=1.0, tol=0.0001,\n",
      "             validation_fraction=0.1, verbose=0, warm_start=False))])\n"
     ]
    }
   ],
   "source": [
    "# Loop over the pipelines to see that all 3 have been added\n",
    "for key, value in pipelines.items():\n",
    "    print(key, value)"
   ]
  },
  {
   "cell_type": "code",
   "execution_count": 89,
   "metadata": {
    "scrolled": true
   },
   "outputs": [
    {
     "name": "stdout",
     "output_type": "stream",
     "text": [
      "lasso <class 'sklearn.pipeline.Pipeline'>\n",
      "ridge <class 'sklearn.pipeline.Pipeline'>\n",
      "enet <class 'sklearn.pipeline.Pipeline'>\n",
      "rf <class 'sklearn.pipeline.Pipeline'>\n",
      "gb <class 'sklearn.pipeline.Pipeline'>\n"
     ]
    }
   ],
   "source": [
    "# Check that all model pipelines are of the correct type\n",
    "for key, value in pipelines.items():\n",
    "    print(key, type(value))"
   ]
  },
  {
   "cell_type": "code",
   "execution_count": 90,
   "metadata": {},
   "outputs": [
    {
     "data": {
      "text/plain": [
       "{'memory': None,\n",
       " 'steps': [('standardscaler',\n",
       "   StandardScaler(copy=True, with_mean=True, with_std=True)),\n",
       "  ('gradientboostingregressor',\n",
       "   GradientBoostingRegressor(alpha=0.9, criterion='friedman_mse', init=None,\n",
       "                learning_rate=0.1, loss='ls', max_depth=3, max_features=None,\n",
       "                max_leaf_nodes=None, min_impurity_decrease=0.0,\n",
       "                min_impurity_split=None, min_samples_leaf=1,\n",
       "                min_samples_split=2, min_weight_fraction_leaf=0.0,\n",
       "                n_estimators=100, n_iter_no_change=None, presort='auto',\n",
       "                random_state=123, subsample=1.0, tol=0.0001,\n",
       "                validation_fraction=0.1, verbose=0, warm_start=False))],\n",
       " 'standardscaler': StandardScaler(copy=True, with_mean=True, with_std=True),\n",
       " 'gradientboostingregressor': GradientBoostingRegressor(alpha=0.9, criterion='friedman_mse', init=None,\n",
       "              learning_rate=0.1, loss='ls', max_depth=3, max_features=None,\n",
       "              max_leaf_nodes=None, min_impurity_decrease=0.0,\n",
       "              min_impurity_split=None, min_samples_leaf=1,\n",
       "              min_samples_split=2, min_weight_fraction_leaf=0.0,\n",
       "              n_estimators=100, n_iter_no_change=None, presort='auto',\n",
       "              random_state=123, subsample=1.0, tol=0.0001,\n",
       "              validation_fraction=0.1, verbose=0, warm_start=False),\n",
       " 'standardscaler__copy': True,\n",
       " 'standardscaler__with_mean': True,\n",
       " 'standardscaler__with_std': True,\n",
       " 'gradientboostingregressor__alpha': 0.9,\n",
       " 'gradientboostingregressor__criterion': 'friedman_mse',\n",
       " 'gradientboostingregressor__init': None,\n",
       " 'gradientboostingregressor__learning_rate': 0.1,\n",
       " 'gradientboostingregressor__loss': 'ls',\n",
       " 'gradientboostingregressor__max_depth': 3,\n",
       " 'gradientboostingregressor__max_features': None,\n",
       " 'gradientboostingregressor__max_leaf_nodes': None,\n",
       " 'gradientboostingregressor__min_impurity_decrease': 0.0,\n",
       " 'gradientboostingregressor__min_impurity_split': None,\n",
       " 'gradientboostingregressor__min_samples_leaf': 1,\n",
       " 'gradientboostingregressor__min_samples_split': 2,\n",
       " 'gradientboostingregressor__min_weight_fraction_leaf': 0.0,\n",
       " 'gradientboostingregressor__n_estimators': 100,\n",
       " 'gradientboostingregressor__n_iter_no_change': None,\n",
       " 'gradientboostingregressor__presort': 'auto',\n",
       " 'gradientboostingregressor__random_state': 123,\n",
       " 'gradientboostingregressor__subsample': 1.0,\n",
       " 'gradientboostingregressor__tol': 0.0001,\n",
       " 'gradientboostingregressor__validation_fraction': 0.1,\n",
       " 'gradientboostingregressor__verbose': 0,\n",
       " 'gradientboostingregressor__warm_start': False}"
      ]
     },
     "execution_count": 90,
     "metadata": {},
     "output_type": "execute_result"
    }
   ],
   "source": [
    "# List the tunable hyperparameters for lasso regression pipeline\n",
    "pipelines['gb'].get_params()"
   ]
  },
  {
   "cell_type": "code",
   "execution_count": 91,
   "metadata": {},
   "outputs": [],
   "source": [
    "# Model hyperparameters to try\n",
    "\n",
    "# Lasso hyperparameters\n",
    "lasso_hyperparameters = {\n",
    "    'lasso__alpha' : [0.001, 0.005, 0.01, 0.05, 0.1, 0.5, 1, 5, 10]\n",
    "}\n",
    "\n",
    "# ridge hyperparameters\n",
    "ridge_hyperparameters = {\n",
    "    'ridge__alpha' : [0.001, 0.005, 0.01, 0.05, 0.1, 0.5, 1, 5, 10]\n",
    "}\n",
    "\n",
    "# Elastic Net hyperparameters\n",
    "enet_hyperparameters = {\n",
    "    'elasticnet__alpha' : [0.001, 0.005, 0.01, 0.05, 0.1, 0.5, 1, 5, 10],\n",
    "    'elasticnet__l1_ratio' : [0.1, 0.3, 0.5, 0.7, 0.9]\n",
    "}\n",
    "\n",
    "# Random Forest Regressor hyperparameters\n",
    "rf_hyperparameters = {\n",
    "    'randomforestregressor__n_estimators': [100, 200], # This is how many trees to include\n",
    "    'randomforestregressor__max_features': ['auto', 'sqrt', 0.33]\n",
    "}\n",
    "\n",
    "# Gradient Boosting Regressor hyperparameters\n",
    "gb_hyperparameters = {\n",
    "    'gradientboostingregressor__n_estimators': [100, 200],\n",
    "    'gradientboostingregressor__learning_rate': [0.05, 0.1, 0.2],\n",
    "    'gradientboostingregressor__max_depth': [1, 3, 5]\n",
    "}"
   ]
  },
  {
   "cell_type": "code",
   "execution_count": 92,
   "metadata": {},
   "outputs": [],
   "source": [
    "# Create hyperparameters dictionary\n",
    "hyperparameters = {\n",
    "    'lasso' : lasso_hyperparameters,\n",
    "    'ridge' : ridge_hyperparameters,\n",
    "    'enet' : enet_hyperparameters,\n",
    "    'rf' : rf_hyperparameters,\n",
    "    'gb': gb_hyperparameters\n",
    "}"
   ]
  },
  {
   "cell_type": "code",
   "execution_count": 93,
   "metadata": {},
   "outputs": [
    {
     "name": "stdout",
     "output_type": "stream",
     "text": [
      "lasso was found in hyperparameters, and it is a grid.\n",
      "ridge was found in hyperparameters, and it is a grid.\n",
      "enet was found in hyperparameters, and it is a grid.\n",
      "rf was found in hyperparameters, and it is a grid.\n",
      "gb was found in hyperparameters, and it is a grid.\n"
     ]
    }
   ],
   "source": [
    "# Check that hyperparameters are set up correctly\n",
    "for key in ['lasso', 'ridge', 'enet', 'rf', 'gb']:\n",
    "    if key in hyperparameters:\n",
    "        if type(hyperparameters[key]) is dict:\n",
    "            print(key, 'was found in hyperparameters, and it is a grid.')\n",
    "        else:\n",
    "            print(key, 'was found in hyperparameters, but it is not a grid.')\n",
    "    else:\n",
    "        print(key, 'was not found in hyperparameters')     "
   ]
  },
  {
   "cell_type": "code",
   "execution_count": 94,
   "metadata": {},
   "outputs": [
    {
     "name": "stdout",
     "output_type": "stream",
     "text": [
      "lasso has been fitted.\n",
      "ridge has been fitted.\n",
      "enet has been fitted.\n",
      "rf has been fitted.\n",
      "gb has been fitted.\n"
     ]
    }
   ],
   "source": [
    "# Fit and tune all of the models in single loop\n",
    "\n",
    "# Create empty dictionary called fitted_models\n",
    "fitted_models = {}\n",
    "\n",
    "# Loop through model pipelines, tuning each one and saving it to fitted_models\n",
    "for name, pipeline in pipelines.items():\n",
    "    model = GridSearchCV(pipeline, hyperparameters[name], cv=10, n_jobs=-1)\n",
    "    \n",
    "    # Fit model on X_train, y_train\n",
    "    model.fit(X_train, y_train)\n",
    "    \n",
    "    # Store model in fitted_models[name]\n",
    "    fitted_models[name] = model \n",
    "    \n",
    "    # Print '{name} has been fitted'\n",
    "    print(name, 'has been fitted.') "
   ]
  },
  {
   "cell_type": "code",
   "execution_count": 95,
   "metadata": {},
   "outputs": [
    {
     "name": "stdout",
     "output_type": "stream",
     "text": [
      "lasso <class 'sklearn.model_selection._search.GridSearchCV'>\n",
      "ridge <class 'sklearn.model_selection._search.GridSearchCV'>\n",
      "enet <class 'sklearn.model_selection._search.GridSearchCV'>\n",
      "rf <class 'sklearn.model_selection._search.GridSearchCV'>\n",
      "gb <class 'sklearn.model_selection._search.GridSearchCV'>\n"
     ]
    }
   ],
   "source": [
    "# Check models are of the correct type\n",
    "for key, value in fitted_models.items():\n",
    "    print(key, type(value))"
   ]
  },
  {
   "cell_type": "code",
   "execution_count": 96,
   "metadata": {},
   "outputs": [
    {
     "name": "stdout",
     "output_type": "stream",
     "text": [
      "lasso has been fitted.\n",
      "ridge has been fitted.\n",
      "enet has been fitted.\n",
      "rf has been fitted.\n",
      "gb has been fitted.\n"
     ]
    }
   ],
   "source": [
    "# Check models have been fitted correctly\n",
    "for name, model in fitted_models.items():\n",
    "    try:\n",
    "        pred = model.predict(X_test)\n",
    "        print(name, 'has been fitted.')\n",
    "    except NotFittedError as e:\n",
    "        print(repr(e))"
   ]
  },
  {
   "cell_type": "markdown",
   "metadata": {},
   "source": [
    "# Model Winer Selection"
   ]
  },
  {
   "cell_type": "code",
   "execution_count": 97,
   "metadata": {
    "scrolled": true
   },
   "outputs": [
    {
     "name": "stdout",
     "output_type": "stream",
     "text": [
      "lasso 0.8702203800644668\n",
      "ridge 0.862835260081215\n",
      "enet 0.8696943759784584\n",
      "rf 0.8336707864286866\n",
      "gb 0.8467716720690995\n"
     ]
    }
   ],
   "source": [
    "# looking at each model's cross-validated performance score on the X_train data set - first data set\n",
    "for name, model in fitted_models.items():\n",
    "    print(name, model.best_score_)"
   ]
  },
  {
   "cell_type": "code",
   "execution_count": 98,
   "metadata": {},
   "outputs": [
    {
     "data": {
      "text/plain": [
       "GridSearchCV(cv=10, error_score='raise-deprecating',\n",
       "       estimator=Pipeline(memory=None,\n",
       "     steps=[('standardscaler', StandardScaler(copy=True, with_mean=True, with_std=True)), ('lasso', Lasso(alpha=1.0, copy_X=True, fit_intercept=True, max_iter=1000,\n",
       "   normalize=False, positive=False, precompute=False, random_state=123,\n",
       "   selection='cyclic', tol=0.0001, warm_start=False))]),\n",
       "       fit_params=None, iid='warn', n_jobs=-1,\n",
       "       param_grid={'lasso__alpha': [0.001, 0.005, 0.01, 0.05, 0.1, 0.5, 1, 5, 10]},\n",
       "       pre_dispatch='2*n_jobs', refit=True, return_train_score='warn',\n",
       "       scoring=None, verbose=0)"
      ]
     },
     "execution_count": 98,
     "metadata": {},
     "output_type": "execute_result"
    }
   ],
   "source": [
    "# Verify model performance for each X_test data set - first data set\n",
    "# Display fitted random forest object\n",
    "fitted_models['lasso']"
   ]
  },
  {
   "cell_type": "code",
   "execution_count": 99,
   "metadata": {
    "scrolled": true
   },
   "outputs": [
    {
     "name": "stdout",
     "output_type": "stream",
     "text": [
      "lasso\n",
      "----------\n",
      "R^2: 0.936352859983159\n",
      "MAE: 0.9765086495834842\n",
      "RMSE: 1.6798896644830348\n",
      "ridge\n",
      "----------\n",
      "R^2: 0.9313947805407947\n",
      "MAE: 1.023289912646884\n",
      "RMSE: 1.8107522045549027\n",
      "enet\n",
      "----------\n",
      "R^2: 0.9363134135881782\n",
      "MAE: 0.9773560016857721\n",
      "RMSE: 1.680930804606719\n",
      "rf\n",
      "----------\n",
      "R^2: 0.865451360500736\n",
      "MAE: 1.1491097531372552\n",
      "RMSE: 3.551249416788575\n",
      "gb\n",
      "----------\n",
      "R^2: 0.8801742083409237\n",
      "MAE: 1.2019437059742293\n",
      "RMSE: 3.162657566283691\n"
     ]
    }
   ],
   "source": [
    "# Loop over all models and print the performance for each model Calculate and print R^2 and MAE using the real test data X_test\n",
    "for name, model in fitted_models.items():\n",
    "    pred = model.predict(X_test)\n",
    "    print(name)\n",
    "    print('----------')\n",
    "    print( 'R^2:', r2_score(y_test, pred))\n",
    "    print('MAE:', mean_absolute_error(y_test, pred))\n",
    "    print('RMSE:', mean_squared_error(y_test, pred))"
   ]
  },
  {
   "cell_type": "code",
   "execution_count": 100,
   "metadata": {
    "scrolled": true
   },
   "outputs": [
    {
     "data": {
      "image/png": "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\n",
      "text/plain": [
       "<Figure size 432x288 with 1 Axes>"
      ]
     },
     "metadata": {},
     "output_type": "display_data"
    }
   ],
   "source": [
    "# Plot the winning model RF\n",
    "lasso_pred = fitted_models['lasso'].predict(X_test)\n",
    "plt.scatter(lasso_pred, y_test)\n",
    "plt.xlabel('predicted')\n",
    "plt.ylabel('actual')\n",
    "plt.show()"
   ]
  },
  {
   "cell_type": "code",
   "execution_count": 101,
   "metadata": {},
   "outputs": [
    {
     "data": {
      "text/plain": [
       "sklearn.model_selection._search.GridSearchCV"
      ]
     },
     "execution_count": 101,
     "metadata": {},
     "output_type": "execute_result"
    }
   ],
   "source": [
    "# Displaying the class of the winning model \n",
    "type(fitted_models['lasso'])"
   ]
  },
  {
   "cell_type": "code",
   "execution_count": 102,
   "metadata": {},
   "outputs": [
    {
     "data": {
      "text/plain": [
       "sklearn.pipeline.Pipeline"
      ]
     },
     "execution_count": 102,
     "metadata": {},
     "output_type": "execute_result"
    }
   ],
   "source": [
    "# Confirm we can access the winning model pipeline\n",
    "type(fitted_models['lasso'].best_estimator_)"
   ]
  },
  {
   "cell_type": "code",
   "execution_count": 103,
   "metadata": {},
   "outputs": [
    {
     "data": {
      "text/plain": [
       "Pipeline(memory=None,\n",
       "     steps=[('standardscaler', StandardScaler(copy=True, with_mean=True, with_std=True)), ('lasso', Lasso(alpha=0.1, copy_X=True, fit_intercept=True, max_iter=1000,\n",
       "   normalize=False, positive=False, precompute=False, random_state=123,\n",
       "   selection='cyclic', tol=0.0001, warm_start=False))])"
      ]
     },
     "execution_count": 103,
     "metadata": {},
     "output_type": "execute_result"
    }
   ],
   "source": [
    "# Display the winning pipeline directly\n",
    "fitted_models['lasso'].best_estimator_"
   ]
  },
  {
   "cell_type": "code",
   "execution_count": 104,
   "metadata": {},
   "outputs": [],
   "source": [
    "# Save winning model's Pipeline\n",
    "with open('VIX_UP_final_winning_model.pkl', 'wb') as f:\n",
    "    pickle.dump(fitted_models['lasso'].best_estimator_, f)\n"
   ]
  },
  {
   "cell_type": "markdown",
   "metadata": {},
   "source": [
    "## Insights & Analysis"
   ]
  },
  {
   "cell_type": "markdown",
   "metadata": {},
   "source": [
    "### Winnning model was Lasso Regression\n",
    "### Our best performing model was with 1 year of historical data set with 9 features\n"
   ]
  },
  {
   "cell_type": "markdown",
   "metadata": {},
   "source": [
    "### Knowing the direction tomorrow's Vix price, originally appeared to be random and impossible to predict, but with 9 postively correlated features we got our MAE ( Mean Average Error - how much our prediction was off ) over 1 year down to 0.976, less than $1.\n",
    "\n",
    "### I learned how important it is to exlplore lots of data sets in order to find postive correlations. I also learned to not assume ANYTHING! I originally thought 3 strong features with 6 months of data would perform best, I was absolutley wrong. Having the algorithm's tell you which model performed best is so enlightening!\n",
    "\n",
    "## How to improve this project:\n",
    "### I want to turn all of section 4 into 1 loop for better readability. \n",
    "### I want to research how to handle forecasting and predtions so I understand them better.\n",
    "### How much exporatory notes should be left in a project to help others see what I was doing\n",
    "### I want to continue looking for more strong data set correlations to make this model even stronger\n",
    "### I want to make this project do all of the data fetching and handling without having to call the data from API using a seperate script\n",
    "### I want to try incorporating other features that affect the vix besides just other stocks - example: behaviour economics\n",
    "\n",
    "lasso\n",
    "----------\n",
    "R^2: 0.936352859983159 \n",
    "MAE: 0.9765086495834842\n",
    "RMSE: 1.6798896644830348"
   ]
  },
  {
   "cell_type": "markdown",
   "metadata": {},
   "source": [
    "# Make prediction for tomorrow's VIX High Price"
   ]
  },
  {
   "cell_type": "code",
   "execution_count": 105,
   "metadata": {},
   "outputs": [
    {
     "data": {
      "text/html": [
       "<div>\n",
       "<style scoped>\n",
       "    .dataframe tbody tr th:only-of-type {\n",
       "        vertical-align: middle;\n",
       "    }\n",
       "\n",
       "    .dataframe tbody tr th {\n",
       "        vertical-align: top;\n",
       "    }\n",
       "\n",
       "    .dataframe thead th {\n",
       "        text-align: right;\n",
       "    }\n",
       "</style>\n",
       "<table border=\"1\" class=\"dataframe\">\n",
       "  <thead>\n",
       "    <tr style=\"text-align: right;\">\n",
       "      <th></th>\n",
       "      <th>yy_test</th>\n",
       "    </tr>\n",
       "    <tr>\n",
       "      <th>DateTime</th>\n",
       "      <th></th>\n",
       "    </tr>\n",
       "  </thead>\n",
       "  <tbody>\n",
       "    <tr>\n",
       "      <th>2018-06-20</th>\n",
       "      <td>15.180</td>\n",
       "    </tr>\n",
       "    <tr>\n",
       "      <th>2018-06-21</th>\n",
       "      <td>14.600</td>\n",
       "    </tr>\n",
       "    <tr>\n",
       "      <th>2018-06-22</th>\n",
       "      <td>19.610</td>\n",
       "    </tr>\n",
       "    <tr>\n",
       "      <th>2018-06-25</th>\n",
       "      <td>17.540</td>\n",
       "    </tr>\n",
       "    <tr>\n",
       "      <th>2018-06-26</th>\n",
       "      <td>18.190</td>\n",
       "    </tr>\n",
       "    <tr>\n",
       "      <th>2018-06-27</th>\n",
       "      <td>18.990</td>\n",
       "    </tr>\n",
       "    <tr>\n",
       "      <th>2018-06-28</th>\n",
       "      <td>16.510</td>\n",
       "    </tr>\n",
       "    <tr>\n",
       "      <th>2018-06-29</th>\n",
       "      <td>18.080</td>\n",
       "    </tr>\n",
       "    <tr>\n",
       "      <th>2018-07-02</th>\n",
       "      <td>16.450</td>\n",
       "    </tr>\n",
       "    <tr>\n",
       "      <th>2018-07-03</th>\n",
       "      <td>16.220</td>\n",
       "    </tr>\n",
       "    <tr>\n",
       "      <th>2018-07-05</th>\n",
       "      <td>15.450</td>\n",
       "    </tr>\n",
       "    <tr>\n",
       "      <th>2018-07-06</th>\n",
       "      <td>13.220</td>\n",
       "    </tr>\n",
       "    <tr>\n",
       "      <th>2018-07-09</th>\n",
       "      <td>13.210</td>\n",
       "    </tr>\n",
       "    <tr>\n",
       "      <th>2018-07-10</th>\n",
       "      <td>14.150</td>\n",
       "    </tr>\n",
       "    <tr>\n",
       "      <th>2018-07-11</th>\n",
       "      <td>13.330</td>\n",
       "    </tr>\n",
       "    <tr>\n",
       "      <th>2018-07-12</th>\n",
       "      <td>12.970</td>\n",
       "    </tr>\n",
       "    <tr>\n",
       "      <th>2018-07-13</th>\n",
       "      <td>12.970</td>\n",
       "    </tr>\n",
       "    <tr>\n",
       "      <th>2018-07-16</th>\n",
       "      <td>13.180</td>\n",
       "    </tr>\n",
       "    <tr>\n",
       "      <th>2018-07-17</th>\n",
       "      <td>12.470</td>\n",
       "    </tr>\n",
       "    <tr>\n",
       "      <th>2018-07-18</th>\n",
       "      <td>13.090</td>\n",
       "    </tr>\n",
       "    <tr>\n",
       "      <th>2018-07-19</th>\n",
       "      <td>13.580</td>\n",
       "    </tr>\n",
       "    <tr>\n",
       "      <th>2018-07-20</th>\n",
       "      <td>13.550</td>\n",
       "    </tr>\n",
       "    <tr>\n",
       "      <th>2018-07-23</th>\n",
       "      <td>13.210</td>\n",
       "    </tr>\n",
       "    <tr>\n",
       "      <th>2018-07-24</th>\n",
       "      <td>12.820</td>\n",
       "    </tr>\n",
       "    <tr>\n",
       "      <th>2018-07-25</th>\n",
       "      <td>12.530</td>\n",
       "    </tr>\n",
       "    <tr>\n",
       "      <th>2018-07-26</th>\n",
       "      <td>14.260</td>\n",
       "    </tr>\n",
       "    <tr>\n",
       "      <th>2018-07-27</th>\n",
       "      <td>14.460</td>\n",
       "    </tr>\n",
       "    <tr>\n",
       "      <th>2018-07-30</th>\n",
       "      <td>14.120</td>\n",
       "    </tr>\n",
       "    <tr>\n",
       "      <th>2018-07-31</th>\n",
       "      <td>13.630</td>\n",
       "    </tr>\n",
       "    <tr>\n",
       "      <th>2018-08-01</th>\n",
       "      <td>14.530</td>\n",
       "    </tr>\n",
       "    <tr>\n",
       "      <th>...</th>\n",
       "      <td>...</td>\n",
       "    </tr>\n",
       "    <tr>\n",
       "      <th>2019-05-08</th>\n",
       "      <td>23.380</td>\n",
       "    </tr>\n",
       "    <tr>\n",
       "      <th>2019-05-09</th>\n",
       "      <td>20.190</td>\n",
       "    </tr>\n",
       "    <tr>\n",
       "      <th>2019-05-10</th>\n",
       "      <td>21.320</td>\n",
       "    </tr>\n",
       "    <tr>\n",
       "      <th>2019-05-13</th>\n",
       "      <td>19.650</td>\n",
       "    </tr>\n",
       "    <tr>\n",
       "      <th>2019-05-14</th>\n",
       "      <td>19.150</td>\n",
       "    </tr>\n",
       "    <tr>\n",
       "      <th>2019-05-15</th>\n",
       "      <td>17.130</td>\n",
       "    </tr>\n",
       "    <tr>\n",
       "      <th>2019-05-16</th>\n",
       "      <td>16.810</td>\n",
       "    </tr>\n",
       "    <tr>\n",
       "      <th>2019-05-17</th>\n",
       "      <td>17.630</td>\n",
       "    </tr>\n",
       "    <tr>\n",
       "      <th>2019-05-20</th>\n",
       "      <td>16.220</td>\n",
       "    </tr>\n",
       "    <tr>\n",
       "      <th>2019-05-21</th>\n",
       "      <td>15.440</td>\n",
       "    </tr>\n",
       "    <tr>\n",
       "      <th>2019-05-22</th>\n",
       "      <td>18.050</td>\n",
       "    </tr>\n",
       "    <tr>\n",
       "      <th>2019-05-23</th>\n",
       "      <td>16.520</td>\n",
       "    </tr>\n",
       "    <tr>\n",
       "      <th>2019-05-24</th>\n",
       "      <td>17.700</td>\n",
       "    </tr>\n",
       "    <tr>\n",
       "      <th>2019-05-28</th>\n",
       "      <td>19.040</td>\n",
       "    </tr>\n",
       "    <tr>\n",
       "      <th>2019-05-29</th>\n",
       "      <td>18.110</td>\n",
       "    </tr>\n",
       "    <tr>\n",
       "      <th>2019-05-30</th>\n",
       "      <td>19.720</td>\n",
       "    </tr>\n",
       "    <tr>\n",
       "      <th>2019-05-31</th>\n",
       "      <td>19.750</td>\n",
       "    </tr>\n",
       "    <tr>\n",
       "      <th>2019-06-03</th>\n",
       "      <td>18.740</td>\n",
       "    </tr>\n",
       "    <tr>\n",
       "      <th>2019-06-04</th>\n",
       "      <td>17.490</td>\n",
       "    </tr>\n",
       "    <tr>\n",
       "      <th>2019-06-05</th>\n",
       "      <td>16.540</td>\n",
       "    </tr>\n",
       "    <tr>\n",
       "      <th>2019-06-06</th>\n",
       "      <td>16.440</td>\n",
       "    </tr>\n",
       "    <tr>\n",
       "      <th>2019-06-07</th>\n",
       "      <td>16.470</td>\n",
       "    </tr>\n",
       "    <tr>\n",
       "      <th>2019-06-10</th>\n",
       "      <td>16.700</td>\n",
       "    </tr>\n",
       "    <tr>\n",
       "      <th>2019-06-11</th>\n",
       "      <td>16.430</td>\n",
       "    </tr>\n",
       "    <tr>\n",
       "      <th>2019-06-12</th>\n",
       "      <td>16.210</td>\n",
       "    </tr>\n",
       "    <tr>\n",
       "      <th>2019-06-13</th>\n",
       "      <td>16.400</td>\n",
       "    </tr>\n",
       "    <tr>\n",
       "      <th>2019-06-14</th>\n",
       "      <td>15.760</td>\n",
       "    </tr>\n",
       "    <tr>\n",
       "      <th>2019-06-17</th>\n",
       "      <td>15.540</td>\n",
       "    </tr>\n",
       "    <tr>\n",
       "      <th>2019-06-18</th>\n",
       "      <td>15.710</td>\n",
       "    </tr>\n",
       "    <tr>\n",
       "      <th>2019-06-19</th>\n",
       "      <td>15.710</td>\n",
       "    </tr>\n",
       "  </tbody>\n",
       "</table>\n",
       "<p>251 rows × 1 columns</p>\n",
       "</div>"
      ],
      "text/plain": [
       "            yy_test\n",
       "DateTime           \n",
       "2018-06-20   15.180\n",
       "2018-06-21   14.600\n",
       "2018-06-22   19.610\n",
       "2018-06-25   17.540\n",
       "2018-06-26   18.190\n",
       "2018-06-27   18.990\n",
       "2018-06-28   16.510\n",
       "2018-06-29   18.080\n",
       "2018-07-02   16.450\n",
       "2018-07-03   16.220\n",
       "2018-07-05   15.450\n",
       "2018-07-06   13.220\n",
       "2018-07-09   13.210\n",
       "2018-07-10   14.150\n",
       "2018-07-11   13.330\n",
       "2018-07-12   12.970\n",
       "2018-07-13   12.970\n",
       "2018-07-16   13.180\n",
       "2018-07-17   12.470\n",
       "2018-07-18   13.090\n",
       "2018-07-19   13.580\n",
       "2018-07-20   13.550\n",
       "2018-07-23   13.210\n",
       "2018-07-24   12.820\n",
       "2018-07-25   12.530\n",
       "2018-07-26   14.260\n",
       "2018-07-27   14.460\n",
       "2018-07-30   14.120\n",
       "2018-07-31   13.630\n",
       "2018-08-01   14.530\n",
       "...             ...\n",
       "2019-05-08   23.380\n",
       "2019-05-09   20.190\n",
       "2019-05-10   21.320\n",
       "2019-05-13   19.650\n",
       "2019-05-14   19.150\n",
       "2019-05-15   17.130\n",
       "2019-05-16   16.810\n",
       "2019-05-17   17.630\n",
       "2019-05-20   16.220\n",
       "2019-05-21   15.440\n",
       "2019-05-22   18.050\n",
       "2019-05-23   16.520\n",
       "2019-05-24   17.700\n",
       "2019-05-28   19.040\n",
       "2019-05-29   18.110\n",
       "2019-05-30   19.720\n",
       "2019-05-31   19.750\n",
       "2019-06-03   18.740\n",
       "2019-06-04   17.490\n",
       "2019-06-05   16.540\n",
       "2019-06-06   16.440\n",
       "2019-06-07   16.470\n",
       "2019-06-10   16.700\n",
       "2019-06-11   16.430\n",
       "2019-06-12   16.210\n",
       "2019-06-13   16.400\n",
       "2019-06-14   15.760\n",
       "2019-06-17   15.540\n",
       "2019-06-18   15.710\n",
       "2019-06-19   15.710\n",
       "\n",
       "[251 rows x 1 columns]"
      ]
     },
     "execution_count": 105,
     "metadata": {},
     "output_type": "execute_result"
    }
   ],
   "source": [
    "# This is the value we are trying to predict\n",
    "# Convert the y_test series to a df\n",
    "yy.to_frame(name='yy_test')"
   ]
  },
  {
   "cell_type": "code",
   "execution_count": 106,
   "metadata": {},
   "outputs": [
    {
     "data": {
      "image/png": "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\n",
      "text/plain": [
       "<Figure size 432x288 with 1 Axes>"
      ]
     },
     "metadata": {},
     "output_type": "display_data"
    }
   ],
   "source": [
    "# Plot the winning model Lasso - using the second data set\n",
    "lasso_pred = fitted_models['lasso'].predict(XX)\n",
    "plt.scatter(lasso_pred, yy)\n",
    "plt.xlabel('predicted')\n",
    "plt.ylabel('actual')\n",
    "plt.show()"
   ]
  },
  {
   "cell_type": "code",
   "execution_count": 107,
   "metadata": {
    "scrolled": false
   },
   "outputs": [
    {
     "name": "stdout",
     "output_type": "stream",
     "text": [
      "Predicted=13.35482920362852, Actual=15.18\n",
      "Predicted=15.435656737241365, Actual=14.6\n",
      "Predicted=15.816528599000364, Actual=19.610001\n",
      "Predicted=19.800261652105235, Actual=17.540001\n",
      "Predicted=17.22245903266782, Actual=18.190001\n",
      "Predicted=18.62883830587967, Actual=18.99\n",
      "Predicted=18.605223301847992, Actual=16.51\n",
      "Predicted=16.71369231348977, Actual=18.08\n",
      "Predicted=17.868174599415024, Actual=16.450001\n",
      "Predicted=15.819532463337925, Actual=16.219999\n",
      "Predicted=15.876204613144038, Actual=15.45\n",
      "Predicted=15.226790294670419, Actual=13.22\n",
      "Predicted=13.577754614809693, Actual=13.21\n",
      "Predicted=13.484846217837049, Actual=14.15\n",
      "Predicted=15.012317079962738, Actual=13.33\n",
      "Predicted=13.736588988948096, Actual=12.97\n",
      "Predicted=13.315262254663502, Actual=12.97\n",
      "Predicted=13.25781518676054, Actual=13.18\n",
      "Predicted=13.3418753590042, Actual=12.47\n",
      "Predicted=13.170343769072954, Actual=13.09\n",
      "Predicted=13.833245517224153, Actual=13.58\n",
      "Predicted=13.989049821151603, Actual=13.55\n",
      "Predicted=13.424831439030248, Actual=13.21\n",
      "Predicted=13.499440278473264, Actual=12.82\n",
      "Predicted=13.338885685705137, Actual=12.53\n",
      "Predicted=13.112467677182131, Actual=14.26\n",
      "Predicted=14.595780201490113, Actual=14.46\n",
      "Predicted=14.816679319778967, Actual=14.12\n",
      "Predicted=14.35230947780391, Actual=13.63\n",
      "Predicted=13.81655111327009, Actual=14.53\n",
      "Predicted=14.464539306921491, Actual=12.46\n",
      "Predicted=12.629061884146108, Actual=12.15\n",
      "Predicted=12.367168536818536, Actual=11.24\n",
      "Predicted=12.036592072961884, Actual=11.18\n",
      "Predicted=11.686455355071857, Actual=11.31\n",
      "Predicted=12.13221524286202, Actual=13.82\n",
      "Predicted=14.546905905142987, Actual=15.02\n",
      "Predicted=14.938110134100755, Actual=14.22\n",
      "Predicted=14.21921094230909, Actual=16.860001\n",
      "Predicted=17.85691903943155, Actual=14.36\n",
      "Predicted=15.503841457153863, Actual=13.96\n",
      "Predicted=14.209645778618695, Actual=12.79\n",
      "Predicted=13.026357993895523, Actual=12.89\n",
      "Predicted=13.197180541433966, Actual=13.29\n",
      "Predicted=13.327794887991432, Actual=12.68\n",
      "Predicted=12.710363377002942, Actual=12.17\n",
      "Predicted=12.417191640381287, Actual=12.48\n",
      "Predicted=12.68069542962363, Actual=12.5\n",
      "Predicted=12.778861937058707, Actual=12.55\n",
      "Predicted=12.801752713227735, Actual=13.95\n",
      "Predicted=14.082332228679732, Actual=14.03\n",
      "Predicted=14.177478531712525, Actual=14.35\n",
      "Predicted=14.766252061335639, Actual=14.3\n",
      "Predicted=14.591372318132226, Actual=15.41\n",
      "Predicted=15.634768873216833, Actual=15.63\n",
      "Predicted=15.596078698228784, Actual=15.2\n",
      "Predicted=14.925455197673907, Actual=14.92\n",
      "Predicted=15.119764273479435, Actual=13.86\n",
      "Predicted=14.168960855827484, Actual=12.91\n",
      "Predicted=13.197228750884815, Actual=13.15\n",
      "Predicted=13.306995510293145, Actual=13.75\n",
      "Predicted=14.240607812317755, Actual=13.48\n",
      "Predicted=13.668918559162696, Actual=12.77\n",
      "Predicted=13.08362794378841, Actual=11.96\n",
      "Predicted=12.874910372026996, Actual=12.03\n",
      "Predicted=13.053225345231805, Actual=12.92\n",
      "Predicted=13.398369033945563, Actual=12.6\n",
      "Predicted=13.139956413246015, Actual=13.13\n",
      "Predicted=13.872146577080134, Actual=13.0\n",
      "Predicted=13.31385345585478, Actual=13.22\n",
      "Predicted=13.950254867068939, Actual=12.4\n",
      "Predicted=13.070330718228615, Actual=12.69\n",
      "Predicted=12.94551037354391, Actual=12.14\n",
      "Predicted=12.907416856860412, Actual=15.84\n",
      "Predicted=16.297967277065347, Actual=17.360001\n",
      "Predicted=17.27669113725028, Actual=18.379999\n",
      "Predicted=17.982411436893436, Actual=17.49\n",
      "Predicted=17.653386162899835, Actual=22.959999\n",
      "Predicted=23.68887122316638, Actual=28.84\n",
      "Predicted=29.68904458640676, Actual=26.799999\n",
      "Predicted=26.413124727026524, Actual=22.889999\n",
      "Predicted=21.63543362722001, Actual=20.559999\n",
      "Predicted=20.1580987418702, Actual=19.549999\n",
      "Predicted=19.394464112788057, Actual=21.57\n",
      "Predicted=21.158482274862553, Actual=21.08\n",
      "Predicted=20.482647385927915, Actual=20.889999\n",
      "Predicted=19.988070014507716, Actual=24.66\n",
      "Predicted=24.51050107795725, Actual=26.379999\n",
      "Predicted=26.200354087106774, Actual=24.780001\n",
      "Predicted=24.43819634845469, Actual=27.52\n",
      "Predicted=27.161352787790047, Actual=27.860001\n",
      "Predicted=27.042931675556687, Actual=25.549999\n",
      "Predicted=25.37770995901928, Actual=22.799999\n",
      "Predicted=22.28229114854551, Actual=21.209999\n",
      "Predicted=20.99990649075286, Actual=21.610001\n",
      "Predicted=21.39349831910707, Actual=20.870001\n",
      "Predicted=20.022408054052562, Actual=20.6\n",
      "Predicted=19.584919170372498, Actual=18.049999\n",
      "Predicted=18.26823100618792, Actual=17.200001\n",
      "Predicted=17.24574316626182, Actual=18.41\n",
      "Predicted=18.86669899676108, Actual=20.709999\n",
      "Predicted=20.358456302926353, Actual=21.25\n",
      "Predicted=21.85426965247821, Actual=22.360001\n",
      "Predicted=22.136320897864156, Actual=22.969999\n",
      "Predicted=22.230882373425253, Actual=21.360001\n",
      "Predicted=21.084496323787853, Actual=20.99\n",
      "Predicted=20.41094449903182, Actual=23.809999\n",
      "Predicted=23.779354439169154, Actual=22.309999\n",
      "Predicted=21.513571782472468, Actual=22.65\n",
      "Predicted=21.172250084441917, Actual=20.799999\n",
      "Predicted=20.26041318987022, Actual=19.93\n",
      "Predicted=19.916178142327905, Actual=19.379999\n",
      "Predicted=19.844820656772725, Actual=20.48\n",
      "Predicted=19.840509519166933, Actual=19.91\n",
      "Predicted=19.809828994432017, Actual=17.280001\n",
      "Predicted=18.003837836781095, Actual=21.940001\n",
      "Predicted=21.901544168499264, Actual=25.940001\n",
      "Predicted=26.66752203795805, Actual=24.709999\n",
      "Predicted=24.718212083923312, Actual=25.940001\n",
      "Predicted=25.464608168573502, Actual=23.6\n",
      "Predicted=22.755774211120908, Actual=21.91\n",
      "Predicted=21.4125483096911, Actual=21.57\n",
      "Predicted=20.882514053336557, Actual=22.469999\n",
      "Predicted=22.346574613829986, Actual=25.879999\n",
      "Predicted=25.427522274278104, Actual=26.139999\n",
      "Predicted=25.98133237682419, Actual=26.639999\n",
      "Predicted=28.27733646211199, Actual=30.299999\n",
      "Predicted=31.145645153585875, Actual=31.35\n",
      "Predicted=31.969770077483453, Actual=36.099998\n",
      "Predicted=33.36889452764473, Actual=36.200001\n",
      "Predicted=34.97414047713421, Actual=33.799999\n",
      "Predicted=32.69086837525177, Actual=31.049999\n",
      "Predicted=29.681648852397952, Actual=27.639999\n",
      "Predicted=26.71755176739216, Actual=28.530001\n",
      "Predicted=27.42174242631424, Actual=26.6\n",
      "Predicted=25.46792853874917, Actual=24.48\n",
      "Predicted=24.00424160012075, Actual=22.709999\n",
      "Predicted=22.113259524633836, Actual=22.030001\n",
      "Predicted=21.561287276553887, Actual=22.799999\n",
      "Predicted=22.205163211666786, Actual=21.32\n",
      "Predicted=20.89778794928143, Actual=20.16\n",
      "Predicted=19.533358169289578, Actual=20.27\n",
      "Predicted=19.457475757048996, Actual=19.200001\n",
      "Predicted=18.526489423605753, Actual=19.040001\n",
      "Predicted=18.508938267902455, Actual=19.719999\n",
      "Predicted=19.04549803961975, Actual=18.18\n",
      "Predicted=18.38501269232123, Actual=21.15\n",
      "Predicted=21.083129702888375, Actual=22.02\n",
      "Predicted=21.86418467150289, Actual=20.25\n",
      "Predicted=19.431756503400695, Actual=18.459999\n",
      "Predicted=17.93350587910797, Actual=20.42\n",
      "Predicted=19.68408076155708, Actual=19.93\n",
      "Predicted=19.119354252609167, Actual=19.309999\n",
      "Predicted=18.804974932050772, Actual=17.719999\n",
      "Predicted=18.10071201188808, Actual=16.83\n",
      "Predicted=16.932316653286037, Actual=16.73\n",
      "Predicted=16.426694489467575, Actual=15.94\n",
      "Predicted=15.672315725012993, Actual=15.87\n",
      "Predicted=15.436946200192795, Actual=17.889999\n",
      "Predicted=18.01862909185998, Actual=17.629999\n",
      "Predicted=17.13176625336017, Actual=16.5\n",
      "Predicted=16.325730197666005, Actual=15.65\n",
      "Predicted=15.64149691496815, Actual=15.91\n",
      "Predicted=15.890253583955763, Actual=17.27\n",
      "Predicted=17.054291874853778, Actual=16.82\n",
      "Predicted=16.65814400403135, Actual=16.16\n",
      "Predicted=15.815928821156106, Actual=15.19\n",
      "Predicted=15.249302069791423, Actual=15.17\n",
      "Predicted=15.270444964015542, Actual=14.47\n",
      "Predicted=14.63364557422649, Actual=14.9\n",
      "Predicted=15.446026384930661, Actual=15.28\n",
      "Predicted=15.228765258955804, Actual=16.17\n",
      "Predicted=15.8532867792267, Actual=15.24\n",
      "Predicted=15.286683383084174, Actual=14.84\n",
      "Predicted=15.704741633343595, Actual=16.98\n",
      "Predicted=17.57252950559377, Actual=15.39\n",
      "Predicted=15.641387964809825, Actual=16.110001\n",
      "Predicted=16.80254829800932, Actual=17.809999\n",
      "Predicted=18.400517943558917, Actual=18.33\n",
      "Predicted=18.21327249409559, Actual=16.43\n",
      "Predicted=16.331027382155032, Actual=14.7\n",
      "Predicted=14.790404155801138, Actual=14.05\n",
      "Predicted=14.464412011527813, Actual=13.84\n",
      "Predicted=14.124545619562355, Actual=13.28\n",
      "Predicted=13.822015573411147, Actual=13.8\n",
      "Predicted=14.005206878689695, Actual=13.77\n",
      "Predicted=14.551573618037773, Actual=14.3\n",
      "Predicted=14.835280987462486, Actual=14.56\n",
      "Predicted=15.280967292414743, Actual=17.52\n",
      "Predicted=18.24586124605102, Actual=17.85\n",
      "Predicted=17.628108353453246, Actual=16.299999\n",
      "Predicted=16.178791603663292, Actual=16.709999\n",
      "Predicted=16.38103556483142, Actual=15.62\n",
      "Predicted=15.316829611923353, Actual=14.43\n",
      "Predicted=14.683792814831682, Actual=14.01\n",
      "Predicted=14.491034298064271, Actual=13.68\n",
      "Predicted=14.095362103332356, Actual=14.27\n",
      "Predicted=14.533413961779983, Actual=14.03\n",
      "Predicted=14.127644742076702, Actual=13.47\n",
      "Predicted=14.214381980559057, Actual=13.77\n",
      "Predicted=13.906014273577593, Actual=14.39\n",
      "Predicted=14.814316243908188, Actual=14.29\n",
      "Predicted=14.240155024471235, Actual=13.58\n",
      "Predicted=13.772422538741834, Actual=12.96\n",
      "Predicted=13.710724596482496, Actual=13.14\n",
      "Predicted=13.238451599431947, Actual=12.47\n",
      "Predicted=12.767937610522463, Actual=13.02\n",
      "Predicted=13.467958032634996, Actual=13.12\n",
      "Predicted=13.493607932498723, Actual=13.36\n",
      "Predicted=13.782923072275524, Actual=12.69\n",
      "Predicted=13.10090223298542, Actual=13.23\n",
      "Predicted=13.480851824993222, Actual=14.3\n",
      "Predicted=14.444348174929026, Actual=13.62\n",
      "Predicted=14.211414428135079, Actual=13.27\n",
      "Predicted=13.730578056165298, Actual=14.05\n",
      "Predicted=14.629136558802678, Actual=14.83\n",
      "Predicted=15.775767263171433, Actual=15.92\n",
      "Predicted=16.99762785289777, Actual=14.15\n",
      "Predicted=14.905632047220275, Actual=18.799999\n",
      "Predicted=18.950603447357928, Actual=21.84\n",
      "Predicted=21.379110744482904, Actual=21.74\n",
      "Predicted=20.58503663501792, Actual=23.379999\n",
      "Predicted=22.241175498040434, Actual=20.190001\n",
      "Predicted=19.65429775094266, Actual=21.32\n",
      "Predicted=20.818236069693718, Actual=19.65\n",
      "Predicted=18.713416024460496, Actual=19.15\n",
      "Predicted=18.30933995135453, Actual=17.129999\n",
      "Predicted=16.696053024652464, Actual=16.809999\n",
      "Predicted=16.624121835408804, Actual=17.629999\n",
      "Predicted=16.85291879924295, Actual=16.219999\n",
      "Predicted=16.41260982938353, Actual=15.44\n",
      "Predicted=15.154027373200407, Actual=18.049999\n",
      "Predicted=18.637530695575045, Actual=16.52\n",
      "Predicted=16.024258982692075, Actual=17.700001\n",
      "Predicted=17.38581153753651, Actual=19.040001\n",
      "Predicted=19.05951295608471, Actual=18.110001\n",
      "Predicted=17.838348776860848, Actual=19.719999\n",
      "Predicted=19.813950405861846, Actual=19.75\n",
      "Predicted=19.70164453100721, Actual=18.74\n",
      "Predicted=18.38410074679999, Actual=17.49\n",
      "Predicted=17.582152236090764, Actual=16.540001\n",
      "Predicted=17.88548534893276, Actual=16.440001\n",
      "Predicted=16.532602457433867, Actual=16.469999\n",
      "Predicted=16.11415638315254, Actual=16.700001\n",
      "Predicted=16.201655912377774, Actual=16.43\n",
      "Predicted=16.21135545005703, Actual=16.209999\n",
      "Predicted=15.92678256980154, Actual=16.4\n",
      "Predicted=15.760190054044275, Actual=15.76\n",
      "Predicted=15.315039799962772, Actual=15.54\n",
      "Predicted=16.059233077022935, Actual=15.71\n",
      "Predicted=15.759005860096948, Actual=15.71\n"
     ]
    }
   ],
   "source": [
    "# Show the inputs and predicted outputs - the second data set\n",
    "for i in range(len(XX)):\n",
    "    print(\"Predicted=%s, Actual=%s\" % (lasso_pred[i], yy[i]))"
   ]
  },
  {
   "cell_type": "code",
   "execution_count": 108,
   "metadata": {},
   "outputs": [
    {
     "name": "stdout",
     "output_type": "stream",
     "text": [
      "Predicted=15.759005860096948, Actual=15.71\n"
     ]
    }
   ],
   "source": [
    "# Make Vix High for tomorrow:\n",
    "print(\"Predicted=%s, Actual=%s\" % (lasso_pred[-1], yy[-1]))"
   ]
  },
  {
   "cell_type": "code",
   "execution_count": 109,
   "metadata": {},
   "outputs": [],
   "source": [
    "# Save the lasso predicted price and also the actual vix values\n",
    "pd.DataFrame(lasso_pred).to_csv('josh_lasso_pred.csv',index=True)\n",
    "\n",
    "# Save the actual values here:\n",
    "yy.to_csv('josh_actual_pred.csv', index=True)",
   ]
  }
 ],
 "metadata": {
  "kernelspec": {
   "display_name": "Python 3",
   "language": "python",
   "name": "python3"
  },
  "language_info": {
   "codemirror_mode": {
    "name": "ipython",
    "version": 3
   },
   "file_extension": ".py",
   "mimetype": "text/x-python",
   "name": "python",
   "nbconvert_exporter": "python",
   "pygments_lexer": "ipython3",
   "version": "3.7.1"
  }
 },
 "nbformat": 4,
 "nbformat_minor": 2
}
