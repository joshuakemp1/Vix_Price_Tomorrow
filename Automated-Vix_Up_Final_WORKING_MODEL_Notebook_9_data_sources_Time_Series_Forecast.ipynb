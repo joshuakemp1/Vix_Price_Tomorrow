{
 "cells": [
  {
   "cell_type": "markdown",
   "metadata": {},
   "source": [
    "# Section #1: Introduction"
   ]
  },
  {
   "cell_type": "markdown",
   "metadata": {},
   "source": [
    "## How cool would it be if you could predict the price of a stock ticker for the following day? \n",
    "\n",
    "### This project's goal is to predict whether or not the VIX will go up or not the following day. \n",
    "\n",
    "The VIX is called the stock market \"fear indicator\", if the VIX is at 20 or above most stocks will go down. Knowing whether it will go up or not the following day would be invaluable when trading stocks."
   ]
  },
  {
   "cell_type": "markdown",
   "metadata": {},
   "source": [
    "Here is more info on the VIX - as it would take a 15 page white paper to explain:\n",
    "https://www.investopedia.com/articles/active-trading/070213/tracking-volatility-how-vix-calculated.asp\n"
   ]
  },
  {
   "cell_type": "markdown",
   "metadata": {},
   "source": [
    "### After talking to several stock traders and investors and doing my own research I looked for postive correlations for the following 53 stock tickers:\n",
    "\n",
    "MSFT ,\n",
    "Amazon,\n",
    "FB,\n",
    "Netflix,\n",
    "Google,\n",
    "SP,\n",
    "Apple,\n",
    "Voo,\n",
    "Bitcoin,\n",
    "USO ( us oil,\n",
    "EUR/USD,\n",
    "GLD,\n",
    "SPX,\n",
    "SLV,\n",
    "YUMA ( copper ),\n",
    "ITOT,\n",
    "IWB,\n",
    "RSP,\n",
    "SCHX,\n",
    "SPY,\n",
    "USMV,\n",
    "VIG,\n",
    "VTI,\n",
    "VV,\n",
    "IVV,\n",
    "AAL,\n",
    "JJC,\n",
    "ECA,\n",
    "MTDR,\n",
    "XLE,\n",
    "OIH,\n",
    "VDE,\n",
    "APD,\n",
    "UNVR,\n",
    "EMN,\n",
    "XLI,\n",
    "VIS,\n",
    "FIDU,\n",
    "CNBKA,\n",
    "RILY,\n",
    "GHL,\n",
    "XLF,\n",
    "VFH,\n",
    "KRE,\n",
    "INTC,\n",
    "APPN,\n",
    "SSNC,\n",
    "XLK,\n",
    "VGT,\n",
    "IYW,\n",
    "Nasdaq compostie IXIC,\n",
    "NYSE composite ( down jones ) ticker NYA,\n",
    "Japan stock JPXGY"
   ]
  },
  {
   "cell_type": "markdown",
   "metadata": {},
   "source": [
    "#### For all of the above 53 stocks I got 1 - 5 years worth of end of day historical stock data from one of the following data sources:\n",
    "IEX API - using self written Python Script\n",
    "Quandl - Using self written Python Script\n",
    "Yahoo Finance for VIX\n",
    "\n",
    "All data was Cleaned up and explored for postive correlations. I used a positve score of 50 or better to make the final list of stocks to use for predicting the VIX. Here are the final 10 features ( stocks ) that I used to predict the VIX:\n",
    "\n",
    "IVV,\n",
    "RSP,\n",
    "SCHX,\n",
    "SPY,\n",
    "VOO,\n",
    "VTI,\n",
    "XLE,\n",
    "XLI,\n",
    "XLK \n",
    "\n",
    "I also created an 11th feature using Pandas .shift method called \"VIX High_Price_Tomorrow\" to try and predict whether or not the VIX would spike or drop the following day.\n"
   ]
  },
  {
   "cell_type": "markdown",
   "metadata": {},
   "source": [
    "I tried ARIMA time forecasting with time series but think that may be something I should try next once I have tackled this challenge using my existing approach."
   ]
  },
  {
   "cell_type": "markdown",
   "metadata": {},
   "source": [
    "# Important Findings"
   ]
  },
  {
   "cell_type": "markdown",
   "metadata": {},
   "source": [
    "The model was able to predict with greater than 50% accuracy the trend direction of the VIX for the following day."
   ]
  },
  {
   "cell_type": "markdown",
   "metadata": {},
   "source": [
    " I used the Lasso Regression algorith as it performed slightly better than a Ridge Regression algorithm"
   ]
  },
  {
   "cell_type": "markdown",
   "metadata": {},
   "source": [
    "# Challenges\n"
   ]
  },
  {
   "cell_type": "markdown",
   "metadata": {},
   "source": [
    "##### I didn't want to spend any money on data for this model ( just yet ), finding free data that I could use was challenging at first but was overcome with the above data resources.\n",
    "\n",
    "##### Another challenge was cleaning the data as the data from 3 different sources had missing data and different column names etc. This was a great challenge to improve my data cleaning abilities.\n",
    "\n",
    "##### The toughest challenge was handling the .shift NAN data. I may not have handle this correctly and would love any feedback or input regarding how to handle this better. The algorithm appears to work well as it is, but improvements would be amazing! The challenge was not being able to run the alrorithm with the NAN, you can see my solution below."
   ]
  },
  {
   "cell_type": "markdown",
   "metadata": {},
   "source": [
    "# Motivation"
   ]
  },
  {
   "cell_type": "markdown",
   "metadata": {},
   "source": [
    "##### I love trend trading stocks and have been fairly successful at it thus far. How cool would it be to KNOW the trend for the following day ahead of everyone else?!?!\n",
    "\n",
    "##### I feel coding and Machine Learning give you the closest thing you can posses to superhumna abilities. I think over time this algorithm will help me make money with stocks. The challenge was great in and of itself, but having a trained model to predict the trend of the VIX is amazing!"
   ]
  },
  {
   "cell_type": "markdown",
   "metadata": {},
   "source": [
    "Who doesn't like a little more money :-)"
   ]
  },
  {
   "cell_type": "markdown",
   "metadata": {},
   "source": [
    "# Section 2 \n",
    "\n",
    "\n",
    "## Library Imports"
   ]
  },
  {
   "cell_type": "code",
   "execution_count": 1447,
   "metadata": {},
   "outputs": [],
   "source": [
    "# Numpy for numerical computing\n",
    "import numpy as np\n",
    "\n",
    "# Pandas for DataFrames\n",
    "import pandas as pd \n",
    "pd.set_option('display.max_columns', 100)\n",
    "\n",
    "# Matplotlib for visualization\n",
    "from matplotlib import pyplot as plt\n",
    "\n",
    "# display plots in the notebook\n",
    "%matplotlib inline\n",
    "\n",
    "# Seaborn for easier visualization\n",
    "import seaborn as sns\n",
    "\n",
    "# Function for splitting training and test set\n",
    "from sklearn.model_selection import train_test_split\n",
    "\n",
    "# Import Regularized Regression algos\n",
    "from sklearn.linear_model import Lasso, Ridge, ElasticNet\n",
    "\n",
    "# Import Tree Ensemble algos\n",
    "from sklearn.ensemble import RandomForestRegressor, GradientBoostingRegressor\n",
    "\n",
    "# Function for splitting training and test set\n",
    "from sklearn.model_selection import train_test_split\n",
    "\n",
    "# Show all values in Pandas as numbers with 3 decimals\n",
    "pd.set_option('display.float_format', lambda x: '%.3f' % x)\n",
    "\n",
    "# Function for creating model pipelines\n",
    "from sklearn.pipeline import make_pipeline\n",
    "\n",
    "# For standardization\n",
    "from sklearn.preprocessing import StandardScaler\n",
    "\n",
    "# Helper for cross-validation\n",
    "from sklearn.model_selection import GridSearchCV\n",
    "\n",
    "# Helper to calculate R2 on the test set\n",
    "from sklearn.metrics import r2_score\n",
    "\n",
    "# Another metric to help pick best model Mean Absolute Error MAE\n",
    "from sklearn.metrics import mean_absolute_error\n",
    "\n",
    "# Another metric to help pick the best model Mean Squared Error\n",
    "from sklearn.metrics import mean_squared_error\n",
    "\n",
    "# Check for model fitting errors\n",
    "from sklearn.exceptions import NotFittedError\n",
    "\n",
    "# Save the winning model's pipeline\n",
    "import pickle "
   ]
  },
  {
   "cell_type": "markdown",
   "metadata": {},
   "source": [
    "# Section 3\n",
    "\n",
    "## Exploratory Analysis"
   ]
  },
  {
   "cell_type": "code",
   "execution_count": 1448,
   "metadata": {},
   "outputs": [],
   "source": [
    "# Load Vix historical data for the past year - Two vix as we will use 'vix_df_2' to grab the header for 'vix_df'\n",
    "vix_df = pd.read_csv('vixcurrent.csv', header=None )\n",
    "vix_df_2 = pd.read_csv('vixcurrent.csv', header=None )"
   ]
  },
  {
   "cell_type": "code",
   "execution_count": 1449,
   "metadata": {
    "scrolled": true
   },
   "outputs": [],
   "source": [
    "# Grav vix_df_2 first row and set it as the 'vix_df' header\n",
    "new_header = vix_df_2.iloc[0]\n",
    "vix_df.columns = new_header"
   ]
  },
  {
   "cell_type": "code",
   "execution_count": 1450,
   "metadata": {},
   "outputs": [],
   "source": [
    "# Remove first row of 'vix_df' as it shows up as it is a duplicate of the header\n",
    "vix_df = vix_df.iloc[1:]"
   ]
  },
  {
   "cell_type": "code",
   "execution_count": 1451,
   "metadata": {},
   "outputs": [],
   "source": [
    "# Convert 'Date' object to 'Date' datetime object to allow easier filtering\n",
    "vix_df['Date'] = pd.to_datetime(vix_df['Date'])"
   ]
  },
  {
   "cell_type": "markdown",
   "metadata": {},
   "source": [
    "# Create Data Filter Mask"
   ]
  },
  {
   "cell_type": "code",
   "execution_count": 1452,
   "metadata": {},
   "outputs": [],
   "source": [
    "# Set the start and end dates that we will use to slice the VIX historical data\n",
    "# start_date = '06-24-2014'\n",
    "# end_date = '06-24-2019'"
   ]
  },
  {
   "cell_type": "code",
   "execution_count": 1453,
   "metadata": {},
   "outputs": [],
   "source": [
    "# Create maske to filter the 'vix_df' - may not need this step \n",
    "# mask = (vix_df['Date'] >= start_date) & (vix_df['Date'] <= end_date)"
   ]
  },
  {
   "cell_type": "code",
   "execution_count": 1454,
   "metadata": {
    "scrolled": false
   },
   "outputs": [],
   "source": [
    "# Rename column 'High' to 'VIX High'\n",
    "vix_df.rename(columns={'High': 'VIX High'}, inplace=True)"
   ]
  },
  {
   "cell_type": "code",
   "execution_count": 1455,
   "metadata": {},
   "outputs": [],
   "source": [
    "# Dropping the Open, Low, Close, Adj CLose, and Volume columns\n",
    "vix_df = vix_df.drop(['Open', 'Low', 'Close', 'Adj Close', 'Volume'], axis=1)"
   ]
  },
  {
   "cell_type": "code",
   "execution_count": 1456,
   "metadata": {
    "scrolled": false
   },
   "outputs": [
    {
     "name": "stdout",
     "output_type": "stream",
     "text": [
      "False\n"
     ]
    }
   ],
   "source": [
    "# Checking vix_df for nan values - should be false\n",
    "print(vix_df.isnull().values.any())"
   ]
  },
  {
   "cell_type": "code",
   "execution_count": 1457,
   "metadata": {
    "scrolled": true
   },
   "outputs": [],
   "source": [
    "# Convert the vix_df dataframe from an object arrary into a float arrary\n",
    "vix_df['Date'] = vix_df['Date'].values.astype(float)\n",
    "vix_df = vix_df.astype(np.float)"
   ]
  },
  {
   "cell_type": "markdown",
   "metadata": {},
   "source": [
    "# Section 4\n",
    "\n",
    "## Data Cleaning"
   ]
  },
  {
   "cell_type": "markdown",
   "metadata": {},
   "source": [
    "# Clean each of the following 9 data input sources:\n",
    "### IVV, RSP, SCHX, SPY, VOO, VTI, XLE, XLI, XLK"
   ]
  },
  {
   "cell_type": "markdown",
   "metadata": {},
   "source": [
    "### Start IVV data cleaning"
   ]
  },
  {
   "cell_type": "code",
   "execution_count": 1458,
   "metadata": {},
   "outputs": [],
   "source": [
    "# Get 1 year of IVV data\n",
    "IVV_data_df = pd.read_json('IVV_current.json') # Get this data from IEX API\n",
    "\n",
    "# Adding a new column as a datetime object\n",
    "IVV_data_df['DateTime'] = pd.to_datetime(IVV_data_df['date'])\n",
    "\n",
    "# Drop all columns except for 'DateTime' and \"Volume\"\n",
    "IVV_data_df = IVV_data_df.drop(['change','changeOverTime','changePercent','close','date','high','label','low','open','uClose','uHigh','uLow','uOpen','uVolume'], axis=1)"
   ]
  },
  {
   "cell_type": "code",
   "execution_count": 1459,
   "metadata": {},
   "outputs": [],
   "source": [
    "# Convert vix_df['Date'] to be float Data type\n",
    "IVV_data_df['DateTime'].isin(vix_df['Date'])\n",
    "\n",
    "# Filter against 'vix_df' records\n",
    "IVV_data_df = IVV_data_df[IVV_data_df['DateTime'].isin(vix_df['Date'])]"
   ]
  },
  {
   "cell_type": "code",
   "execution_count": 1460,
   "metadata": {},
   "outputs": [
    {
     "name": "stdout",
     "output_type": "stream",
     "text": [
      "[]\n",
      "[]\n"
     ]
    }
   ],
   "source": [
    "# Check IVV_data_df columns for NANs\n",
    "print(IVV_data_df.columns[IVV_data_df.isna().any()].tolist())\n",
    "\n",
    "# Check vix_df columns for NANs\n",
    "print(vix_df.columns[vix_df.isna().any()].tolist())"
   ]
  },
  {
   "cell_type": "code",
   "execution_count": 1461,
   "metadata": {},
   "outputs": [
    {
     "name": "stdout",
     "output_type": "stream",
     "text": [
      "volume      0\n",
      "DateTime    0\n",
      "dtype: int64\n"
     ]
    }
   ],
   "source": [
    "# Verify no Nan are present in 'IVV_data_df' data\n",
    "print(IVV_data_df.isnull().sum())"
   ]
  },
  {
   "cell_type": "code",
   "execution_count": 1462,
   "metadata": {},
   "outputs": [
    {
     "data": {
      "text/html": [
       "<div>\n",
       "<style scoped>\n",
       "    .dataframe tbody tr th:only-of-type {\n",
       "        vertical-align: middle;\n",
       "    }\n",
       "\n",
       "    .dataframe tbody tr th {\n",
       "        vertical-align: top;\n",
       "    }\n",
       "\n",
       "    .dataframe thead th {\n",
       "        text-align: right;\n",
       "    }\n",
       "</style>\n",
       "<table border=\"1\" class=\"dataframe\">\n",
       "  <thead>\n",
       "    <tr style=\"text-align: right;\">\n",
       "      <th></th>\n",
       "      <th>volume</th>\n",
       "      <th>DateTime</th>\n",
       "    </tr>\n",
       "  </thead>\n",
       "  <tbody>\n",
       "    <tr>\n",
       "      <th>246</th>\n",
       "      <td>4408953</td>\n",
       "      <td>2019-06-20</td>\n",
       "    </tr>\n",
       "    <tr>\n",
       "      <th>247</th>\n",
       "      <td>3628064</td>\n",
       "      <td>2019-06-21</td>\n",
       "    </tr>\n",
       "    <tr>\n",
       "      <th>248</th>\n",
       "      <td>3549268</td>\n",
       "      <td>2019-06-24</td>\n",
       "    </tr>\n",
       "    <tr>\n",
       "      <th>249</th>\n",
       "      <td>2975598</td>\n",
       "      <td>2019-06-25</td>\n",
       "    </tr>\n",
       "    <tr>\n",
       "      <th>250</th>\n",
       "      <td>4210219</td>\n",
       "      <td>2019-06-26</td>\n",
       "    </tr>\n",
       "  </tbody>\n",
       "</table>\n",
       "</div>"
      ],
      "text/plain": [
       "      volume   DateTime\n",
       "246  4408953 2019-06-20\n",
       "247  3628064 2019-06-21\n",
       "248  3549268 2019-06-24\n",
       "249  2975598 2019-06-25\n",
       "250  4210219 2019-06-26"
      ]
     },
     "execution_count": 1462,
     "metadata": {},
     "output_type": "execute_result"
    }
   ],
   "source": [
    "IVV_data_df.tail()"
   ]
  },
  {
   "cell_type": "code",
   "execution_count": 1463,
   "metadata": {},
   "outputs": [],
   "source": [
    "# Save the cleaned up data_df to the final data folder, save the index\n",
    "IVV_data_df.to_csv('IVV_cleaned_data_df.csv',index=False)"
   ]
  },
  {
   "cell_type": "markdown",
   "metadata": {},
   "source": [
    "# End IVV Data Cleaning"
   ]
  },
  {
   "cell_type": "markdown",
   "metadata": {},
   "source": [
    "### Start RSP Data Cleaning"
   ]
  },
  {
   "cell_type": "code",
   "execution_count": 1464,
   "metadata": {},
   "outputs": [],
   "source": [
    "# Get 1 year of RSP data\n",
    "RSP_data_df = pd.read_json('RSP_current.json') # Get this data from IEX API\n",
    "\n",
    "# Adding a new column as a datetime object\n",
    "RSP_data_df['DateTime'] = pd.to_datetime(RSP_data_df['date'])\n",
    "\n",
    "# Drop all columns except for 'DateTime' and \"Volume\"\n",
    "RSP_data_df = RSP_data_df.drop(['change','changeOverTime','changePercent','close','date','high','label','low','open','uClose','uHigh','uLow','uOpen','uVolume'], axis=1)"
   ]
  },
  {
   "cell_type": "code",
   "execution_count": 1465,
   "metadata": {},
   "outputs": [],
   "source": [
    "# Remove extra records from 'RSP_data_df' not found in the 'vix_df'\n",
    "RSP_data_df['DateTime'].isin(vix_df['Date'])\n",
    "RSP_data_df = RSP_data_df[RSP_data_df['DateTime'].isin(vix_df['Date'])]"
   ]
  },
  {
   "cell_type": "code",
   "execution_count": 1466,
   "metadata": {},
   "outputs": [
    {
     "name": "stdout",
     "output_type": "stream",
     "text": [
      "[]\n",
      "[]\n"
     ]
    }
   ],
   "source": [
    "# Check 'RSP_data_df' columns for NANs\n",
    "print(RSP_data_df.columns[RSP_data_df.isna().any()].tolist())\n",
    "# Check 'vix_df' columns for NANs\n",
    "print(vix_df.columns[vix_df.isna().any()].tolist())"
   ]
  },
  {
   "cell_type": "code",
   "execution_count": 1467,
   "metadata": {},
   "outputs": [
    {
     "name": "stdout",
     "output_type": "stream",
     "text": [
      "volume      0\n",
      "DateTime    0\n",
      "dtype: int64\n"
     ]
    }
   ],
   "source": [
    "# Verify Nans were removed\n",
    "print(RSP_data_df.isnull().sum())"
   ]
  },
  {
   "cell_type": "code",
   "execution_count": 1468,
   "metadata": {},
   "outputs": [],
   "source": [
    "# Save the cleaned up data_df to the final data folder, save the index\n",
    "RSP_data_df.to_csv('RSP_cleaned_data_df.csv',index=False)"
   ]
  },
  {
   "cell_type": "markdown",
   "metadata": {},
   "source": [
    "# End of RSP Data Cleaning"
   ]
  },
  {
   "cell_type": "markdown",
   "metadata": {},
   "source": [
    "### Start SCHX Data Cleaning"
   ]
  },
  {
   "cell_type": "code",
   "execution_count": 1469,
   "metadata": {},
   "outputs": [],
   "source": [
    "# Get 1 year of SCHX data\n",
    "SCHX_data_df = pd.read_json('SCHX_current.json') # Get this data from IEX API\n",
    "\n",
    "# Adding a new column as a datetime object\n",
    "SCHX_data_df['DateTime'] = pd.to_datetime(SCHX_data_df['date'])\n",
    "\n",
    "# Drop all columns except for 'DateTime' and \"Volume\"\n",
    "SCHX_data_df = SCHX_data_df.drop(['change','changeOverTime','changePercent','close','date','high','label','low','open','uClose','uHigh','uLow','uOpen','uVolume'], axis=1)"
   ]
  },
  {
   "cell_type": "code",
   "execution_count": 1470,
   "metadata": {},
   "outputs": [],
   "source": [
    "# Remove the extra records from 'SCHX_data_df' not found in the 'vix_df'\n",
    "SCHX_data_df['DateTime'].isin(vix_df['Date'])\n",
    "SCHX_data_df = SCHX_data_df[SCHX_data_df['DateTime'].isin(vix_df['Date'])]"
   ]
  },
  {
   "cell_type": "code",
   "execution_count": 1471,
   "metadata": {},
   "outputs": [
    {
     "name": "stdout",
     "output_type": "stream",
     "text": [
      "[]\n",
      "[]\n"
     ]
    }
   ],
   "source": [
    "# Check 'SCHX_data_df' columns for NANs\n",
    "print(SCHX_data_df.columns[SCHX_data_df.isna().any()].tolist())\n",
    "# Check 'vix_df' columns for NANs\n",
    "print(vix_df.columns[vix_df.isna().any()].tolist())"
   ]
  },
  {
   "cell_type": "code",
   "execution_count": 1472,
   "metadata": {},
   "outputs": [
    {
     "name": "stdout",
     "output_type": "stream",
     "text": [
      "volume      0\n",
      "DateTime    0\n",
      "dtype: int64\n"
     ]
    }
   ],
   "source": [
    "# Verify Nan were removed\n",
    "print(SCHX_data_df.isnull().sum())"
   ]
  },
  {
   "cell_type": "code",
   "execution_count": 1473,
   "metadata": {},
   "outputs": [],
   "source": [
    "# Save the cleaned up data_df to the final data folder, save the index\n",
    "SCHX_data_df.to_csv('SCHX_cleaned_data_df.csv',index=False)"
   ]
  },
  {
   "cell_type": "markdown",
   "metadata": {},
   "source": [
    "# End of SCHX Data Cleaning"
   ]
  },
  {
   "cell_type": "markdown",
   "metadata": {},
   "source": [
    "### Start SPY Data Cleaning"
   ]
  },
  {
   "cell_type": "code",
   "execution_count": 1474,
   "metadata": {},
   "outputs": [],
   "source": [
    "# Get 1 year of SPY data\n",
    "SPY_data_df = pd.read_json('SPY_current.json') # Get this data from IEX API\n",
    "\n",
    "# Adding a new column as a datetime object\n",
    "SPY_data_df['DateTime'] = pd.to_datetime(SPY_data_df['date'])\n",
    "\n",
    "# Drop all columns except for 'DateTime' and \"Volume\"\n",
    "SPY_data_df = SPY_data_df.drop(['change','changeOverTime','changePercent','close','date','high','label','low','open','uClose','uHigh','uLow','uOpen','uVolume'], axis=1)"
   ]
  },
  {
   "cell_type": "code",
   "execution_count": 1475,
   "metadata": {},
   "outputs": [],
   "source": [
    "# Remove the extra 'SPY_data_df' records that are not in 'vix_df'\n",
    "SPY_data_df['DateTime'].isin(vix_df['Date'])\n",
    "SPY_data_df = SPY_data_df[SPY_data_df['DateTime'].isin(vix_df['Date'])]"
   ]
  },
  {
   "cell_type": "code",
   "execution_count": 1476,
   "metadata": {},
   "outputs": [
    {
     "name": "stdout",
     "output_type": "stream",
     "text": [
      "[]\n",
      "[]\n"
     ]
    }
   ],
   "source": [
    "# Check 'SPY_data_df' columns for NANs\n",
    "print(SPY_data_df.columns[SPY_data_df.isna().any()].tolist())\n",
    "# Check 'vix_df' columns for NANs\n",
    "print(vix_df.columns[vix_df.isna().any()].tolist())"
   ]
  },
  {
   "cell_type": "code",
   "execution_count": 1477,
   "metadata": {},
   "outputs": [
    {
     "name": "stdout",
     "output_type": "stream",
     "text": [
      "volume      0\n",
      "DateTime    0\n",
      "dtype: int64\n"
     ]
    }
   ],
   "source": [
    "# Verify Nan were removed\n",
    "print(SPY_data_df.isnull().sum()) # Displays the total number of NANs per column"
   ]
  },
  {
   "cell_type": "code",
   "execution_count": 1478,
   "metadata": {},
   "outputs": [],
   "source": [
    "# Save the cleaned up data_df to the final data folder, save the index\n",
    "SPY_data_df.to_csv('SPY_cleaned_data_df.csv',index=False)"
   ]
  },
  {
   "cell_type": "markdown",
   "metadata": {},
   "source": [
    "# End of SPY Data Cleaning"
   ]
  },
  {
   "cell_type": "markdown",
   "metadata": {},
   "source": [
    "### Start VOO Data Cleaning"
   ]
  },
  {
   "cell_type": "code",
   "execution_count": 1479,
   "metadata": {},
   "outputs": [],
   "source": [
    "# Get 1 year of VOO data\n",
    "VOO_data_df = pd.read_json('VOO_current.json') # Get this data from IEX API\n",
    "\n",
    "# Adding a new column as a datetime object\n",
    "VOO_data_df['DateTime'] = pd.to_datetime(VOO_data_df['date'])\n",
    "\n",
    "# Drop all columns except for 'DateTime' and \"Volume\"\n",
    "VOO_data_df = VOO_data_df.drop(['change','changeOverTime','changePercent','close','date','high','label','low','open','uClose','uHigh','uLow','uOpen','uVolume'], axis=1)"
   ]
  },
  {
   "cell_type": "code",
   "execution_count": 1480,
   "metadata": {},
   "outputs": [],
   "source": [
    "# Remove the extra 'VOO_data_df' records that are not in the 'vix_df'\n",
    "VOO_data_df['DateTime'].isin(vix_df['Date'])\n",
    "VOO_data_df = VOO_data_df[VOO_data_df['DateTime'].isin(vix_df['Date'])]"
   ]
  },
  {
   "cell_type": "code",
   "execution_count": 1481,
   "metadata": {},
   "outputs": [
    {
     "name": "stdout",
     "output_type": "stream",
     "text": [
      "[]\n",
      "[]\n"
     ]
    }
   ],
   "source": [
    "# Check 'VOO_data_df' columns for NANs\n",
    "print(VOO_data_df.columns[VOO_data_df.isna().any()].tolist())\n",
    "# Check 'vix_df' columns for NANs\n",
    "print(vix_df.columns[vix_df.isna().any()].tolist())"
   ]
  },
  {
   "cell_type": "code",
   "execution_count": 1482,
   "metadata": {},
   "outputs": [
    {
     "name": "stdout",
     "output_type": "stream",
     "text": [
      "volume      0\n",
      "DateTime    0\n",
      "dtype: int64\n"
     ]
    }
   ],
   "source": [
    "# Verify Nan are removed\n",
    "print(VOO_data_df.isnull().sum()) # Displays the total number of NANs per column"
   ]
  },
  {
   "cell_type": "code",
   "execution_count": 1483,
   "metadata": {},
   "outputs": [],
   "source": [
    "# Save the cleaned up data_df to the final data folder, save the index\n",
    "VOO_data_df.to_csv('VOO_cleaned_data_df.csv',index=False)"
   ]
  },
  {
   "cell_type": "markdown",
   "metadata": {},
   "source": [
    "# End of VOO Data Cleaning"
   ]
  },
  {
   "cell_type": "markdown",
   "metadata": {},
   "source": [
    "### Start VTI Data Cleaning"
   ]
  },
  {
   "cell_type": "code",
   "execution_count": 1484,
   "metadata": {},
   "outputs": [],
   "source": [
    "# Get 1 year of VTI data\n",
    "VTI_data_df = pd.read_json('VTI_current.json') # Get this data from IEX API\n",
    "\n",
    "# Adding a new column as a datetime object\n",
    "VTI_data_df['DateTime'] = pd.to_datetime(VTI_data_df['date'])\n",
    "\n",
    "# Drop all columns except for 'DateTime' and \"Volume\"\n",
    "VTI_data_df = VTI_data_df.drop(['change','changeOverTime','changePercent','close','date','high','label','low','open','uClose','uHigh','uLow','uOpen','uVolume'], axis=1)"
   ]
  },
  {
   "cell_type": "code",
   "execution_count": 1485,
   "metadata": {},
   "outputs": [],
   "source": [
    "# Remove the extra 'VTI_data_df' records that are not in the 'vix_df'\n",
    "VTI_data_df['DateTime'].isin(vix_df['Date'])\n",
    "VTI_data_df = VTI_data_df[VTI_data_df['DateTime'].isin(vix_df['Date'])]"
   ]
  },
  {
   "cell_type": "code",
   "execution_count": 1486,
   "metadata": {},
   "outputs": [
    {
     "name": "stdout",
     "output_type": "stream",
     "text": [
      "[]\n",
      "[]\n"
     ]
    }
   ],
   "source": [
    "# Check 'VTI_data_df' columns for NANs\n",
    "print(VTI_data_df.columns[VTI_data_df.isna().any()].tolist())\n",
    "# Check 'vix_df' columns for NANs\n",
    "print(vix_df.columns[vix_df.isna().any()].tolist())"
   ]
  },
  {
   "cell_type": "code",
   "execution_count": 1487,
   "metadata": {},
   "outputs": [
    {
     "name": "stdout",
     "output_type": "stream",
     "text": [
      "volume      0\n",
      "DateTime    0\n",
      "dtype: int64\n"
     ]
    }
   ],
   "source": [
    "# Verify Nan are removed\n",
    "print(VTI_data_df.isnull().sum()) # Displays the total number of NANs per column"
   ]
  },
  {
   "cell_type": "code",
   "execution_count": 1488,
   "metadata": {},
   "outputs": [],
   "source": [
    "# Save the cleaned up data_df to the final data folder, save the index\n",
    "VTI_data_df.to_csv('VTI_cleaned_data_df.csv',index=False)"
   ]
  },
  {
   "cell_type": "markdown",
   "metadata": {},
   "source": [
    "# End of VTI Data Cleaning"
   ]
  },
  {
   "cell_type": "markdown",
   "metadata": {},
   "source": [
    "### Start XLE Data Cleaning"
   ]
  },
  {
   "cell_type": "code",
   "execution_count": 1489,
   "metadata": {},
   "outputs": [],
   "source": [
    "# Get 1 year of XLE data\n",
    "XLE_data_df = pd.read_json('XLE_current.json') # Get this data from IEX API\n",
    "\n",
    "# Adding a new column as a datetime object\n",
    "XLE_data_df['DateTime'] = pd.to_datetime(XLE_data_df['date'])\n",
    "\n",
    "# Drop all columns except for 'DateTime' and \"Volume\"\n",
    "XLE_data_df = XLE_data_df.drop(['change','changeOverTime','changePercent','close','date','high','label','low','open','uClose','uHigh','uLow','uOpen','uVolume'], axis=1)"
   ]
  },
  {
   "cell_type": "code",
   "execution_count": 1490,
   "metadata": {},
   "outputs": [],
   "source": [
    "# Remove the extra 'XLE_data_df' records that are not in the 'vix_df'\n",
    "XLE_data_df['DateTime'].isin(vix_df['Date'])\n",
    "XLE_data_df = XLE_data_df[XLE_data_df['DateTime'].isin(vix_df['Date'])]"
   ]
  },
  {
   "cell_type": "code",
   "execution_count": 1491,
   "metadata": {},
   "outputs": [
    {
     "name": "stdout",
     "output_type": "stream",
     "text": [
      "[]\n",
      "[]\n"
     ]
    }
   ],
   "source": [
    "# Check 'XLE_data_df' columns for NANs\n",
    "print(XLE_data_df.columns[XLE_data_df.isna().any()].tolist())\n",
    "# Check 'vix_df' columns for NANs\n",
    "print(vix_df.columns[vix_df.isna().any()].tolist())"
   ]
  },
  {
   "cell_type": "code",
   "execution_count": 1492,
   "metadata": {},
   "outputs": [
    {
     "name": "stdout",
     "output_type": "stream",
     "text": [
      "volume      0\n",
      "DateTime    0\n",
      "dtype: int64\n"
     ]
    }
   ],
   "source": [
    "# Verify Nan are removed\n",
    "print(XLE_data_df.isnull().sum()) # Displays the total number of NANs per column"
   ]
  },
  {
   "cell_type": "code",
   "execution_count": 1493,
   "metadata": {},
   "outputs": [],
   "source": [
    "# Save the cleaned up data_df to the final data folder, save the index\n",
    "XLE_data_df.to_csv('XLE_cleaned_data_df.csv',index=False)"
   ]
  },
  {
   "cell_type": "markdown",
   "metadata": {},
   "source": [
    "# End of XLE Data Cleaning"
   ]
  },
  {
   "cell_type": "markdown",
   "metadata": {},
   "source": [
    "### Start XLI Data Cleaning"
   ]
  },
  {
   "cell_type": "code",
   "execution_count": 1494,
   "metadata": {},
   "outputs": [],
   "source": [
    "# Get 1 year of XLI data\n",
    "XLI_data_df = pd.read_json('XLI_current.json') # Get this data from IEX API\n",
    "\n",
    "# Adding a new column as a datetime object\n",
    "XLI_data_df['DateTime'] = pd.to_datetime(XLI_data_df['date'])\n",
    "\n",
    "# Drop all columns except for 'DateTime' and \"Volume\"\n",
    "XLI_data_df = XLI_data_df.drop(['change','changeOverTime','changePercent','close','date','high','label','low','open','uClose','uHigh','uLow','uOpen','uVolume'], axis=1)"
   ]
  },
  {
   "cell_type": "code",
   "execution_count": 1495,
   "metadata": {},
   "outputs": [],
   "source": [
    "# Remove the extra 'XLI_data_df' records that are not in the 'vix_df'\n",
    "XLI_data_df['DateTime'].isin(vix_df['Date'])\n",
    "XLI_data_df = XLI_data_df[XLI_data_df['DateTime'].isin(vix_df['Date'])]"
   ]
  },
  {
   "cell_type": "code",
   "execution_count": 1496,
   "metadata": {},
   "outputs": [
    {
     "name": "stdout",
     "output_type": "stream",
     "text": [
      "[]\n",
      "[]\n"
     ]
    }
   ],
   "source": [
    "# Check 'XLI_data_df' columns for NANs\n",
    "print(XLI_data_df.columns[XLI_data_df.isna().any()].tolist())\n",
    "# Check 'vix_df' columns for NANs\n",
    "print(vix_df.columns[vix_df.isna().any()].tolist())"
   ]
  },
  {
   "cell_type": "code",
   "execution_count": 1497,
   "metadata": {},
   "outputs": [
    {
     "name": "stdout",
     "output_type": "stream",
     "text": [
      "volume      0\n",
      "DateTime    0\n",
      "dtype: int64\n"
     ]
    }
   ],
   "source": [
    "# Verify Nan are removed\n",
    "print(XLI_data_df.isnull().sum()) # Displays the total number of NANs per column"
   ]
  },
  {
   "cell_type": "code",
   "execution_count": 1498,
   "metadata": {},
   "outputs": [],
   "source": [
    "# Save the cleaned up data_df to the final data folder, save the index\n",
    "XLI_data_df.to_csv('XLI_cleaned_data_df.csv',index=False)"
   ]
  },
  {
   "cell_type": "markdown",
   "metadata": {},
   "source": [
    "# End of XLI Data Cleaning"
   ]
  },
  {
   "cell_type": "markdown",
   "metadata": {},
   "source": [
    "### Start XLK Data Cleaning"
   ]
  },
  {
   "cell_type": "code",
   "execution_count": 1499,
   "metadata": {},
   "outputs": [],
   "source": [
    "# Get 1 year of XLK data\n",
    "XLK_data_df = pd.read_json('XLK_current.json') # Get this data from IEX API\n",
    "\n",
    "# Adding a new column as a datetime object\n",
    "XLK_data_df['DateTime'] = pd.to_datetime(XLK_data_df['date'])\n",
    "\n",
    "# Drop all columns except for 'DateTime' and \"Volume\"\n",
    "XLK_data_df = XLK_data_df.drop(['change','changeOverTime','changePercent','close','date','high','label','low','open','uClose','uHigh','uLow','uOpen','uVolume'], axis=1)"
   ]
  },
  {
   "cell_type": "code",
   "execution_count": 1500,
   "metadata": {},
   "outputs": [],
   "source": [
    "# Remove the extra 'XLK_data_df' records that are not in the 'vix_df'\n",
    "XLK_data_df['DateTime'].isin(vix_df['Date'])\n",
    "XLK_data_df = XLK_data_df[XLK_data_df['DateTime'].isin(vix_df['Date'])]"
   ]
  },
  {
   "cell_type": "code",
   "execution_count": 1501,
   "metadata": {},
   "outputs": [
    {
     "name": "stdout",
     "output_type": "stream",
     "text": [
      "[]\n",
      "[]\n"
     ]
    }
   ],
   "source": [
    "# Check 'XLK_data_df' columns for NANs\n",
    "print(XLK_data_df.columns[XLK_data_df.isna().any()].tolist())\n",
    "# Check 'vix_df' columns for NANs\n",
    "print(vix_df.columns[vix_df.isna().any()].tolist())"
   ]
  },
  {
   "cell_type": "code",
   "execution_count": 1502,
   "metadata": {},
   "outputs": [
    {
     "name": "stdout",
     "output_type": "stream",
     "text": [
      "volume      0\n",
      "DateTime    0\n",
      "dtype: int64\n"
     ]
    }
   ],
   "source": [
    "# Verify Nan are removed\n",
    "print(XLK_data_df.isnull().sum()) # Displays the total number of NANs per column"
   ]
  },
  {
   "cell_type": "code",
   "execution_count": 1503,
   "metadata": {},
   "outputs": [],
   "source": [
    "# Save the cleaned up data_df to the final data folder, save the index\n",
    "XLK_data_df.to_csv('XLK_cleaned_data_df.csv',index=False)"
   ]
  },
  {
   "cell_type": "markdown",
   "metadata": {},
   "source": [
    "# End of XLK Data Cleaning"
   ]
  },
  {
   "cell_type": "markdown",
   "metadata": {},
   "source": [
    "# Grab Latest Volume for current date for all 9 features"
   ]
  },
  {
   "cell_type": "code",
   "execution_count": 1504,
   "metadata": {
    "scrolled": true
   },
   "outputs": [],
   "source": [
    "# Make an API call to get the latest volume for current date and append to bottom of '_cleaned_data_df.csv'\n",
    "# Script to get the latest stock volume and for current date\n",
    "# import IEX_Stock_Latest_Price\n",
    "# !python IEX_Stock_Latest_Price.py\n",
    "\n",
    "# START HERE! make sure script stll loads after here and figure out if handling NAN correctly or not\n",
    "# ask in stack overflow"
   ]
  },
  {
   "cell_type": "markdown",
   "metadata": {},
   "source": [
    "# Read in all 9 cleaned data sources with Volume and DateTime features ( Columns )\n",
    "### IVV, RSP, SCHX, SPY, VOO, VTI, XLE, XLI, XLK"
   ]
  },
  {
   "cell_type": "markdown",
   "metadata": {},
   "source": [
    "### Read in IVV_cleaned_data_df"
   ]
  },
  {
   "cell_type": "code",
   "execution_count": 1505,
   "metadata": {},
   "outputs": [],
   "source": [
    "# Read in all 9 cleaned data sources\n",
    "IVV_data_df = pd.read_csv('IVV_cleaned_data_df.csv')\n",
    "RSP_data_df = pd.read_csv('RSP_cleaned_data_df.csv')\n",
    "SCHX_data_df = pd.read_csv('SCHX_cleaned_data_df.csv')\n",
    "SPY_data_df = pd.read_csv('SPY_cleaned_data_df.csv')\n",
    "VOO_data_df = pd.read_csv('VOO_cleaned_data_df.csv')\n",
    "VTI_data_df = pd.read_csv('VTI_cleaned_data_df.csv')\n",
    "XLE_data_df = pd.read_csv('XLE_cleaned_data_df.csv')\n",
    "XLI_data_df = pd.read_csv('XLI_cleaned_data_df.csv')\n",
    "XLK_data_df = pd.read_csv('XLK_cleaned_data_df.csv')"
   ]
  },
  {
   "cell_type": "markdown",
   "metadata": {},
   "source": [
    "## Set index to DateTime, drop DateTime column for all 10 data sources"
   ]
  },
  {
   "cell_type": "code",
   "execution_count": 1506,
   "metadata": {},
   "outputs": [
    {
     "name": "stdout",
     "output_type": "stream",
     "text": [
      "      volume    DateTime\n",
      "0    6335395  2018-06-27\n",
      "1    5285802  2018-06-28\n",
      "2    7694371  2018-06-29\n",
      "3    4579718  2018-07-02\n",
      "4    1367814  2018-07-03\n",
      "5    2605662  2018-07-05\n",
      "6    2942161  2018-07-06\n",
      "7    4775363  2018-07-09\n",
      "8    3426772  2018-07-10\n",
      "9    3781287  2018-07-11\n",
      "10   3444871  2018-07-12\n",
      "11   3122705  2018-07-13\n",
      "12   2224098  2018-07-16\n",
      "13   2322582  2018-07-17\n",
      "14   3603936  2018-07-18\n",
      "15   3220915  2018-07-19\n",
      "16   4868554  2018-07-20\n",
      "17   1880195  2018-07-23\n",
      "18   2253020  2018-07-24\n",
      "19   3310845  2018-07-25\n",
      "20   4088761  2018-07-26\n",
      "21   2798143  2018-07-27\n",
      "22   4929771  2018-07-30\n",
      "23   3588979  2018-07-31\n",
      "24   2679918  2018-08-01\n",
      "25   2327589  2018-08-02\n",
      "26   2257880  2018-08-03\n",
      "27   2988646  2018-08-06\n",
      "28   5084693  2018-08-07\n",
      "29   3483848  2018-08-08\n",
      "..       ...         ...\n",
      "221  3135635  2019-05-15\n",
      "222  3911224  2019-05-16\n",
      "223  3833735  2019-05-17\n",
      "224  2515977  2019-05-20\n",
      "225  3634882  2019-05-21\n",
      "226  3147661  2019-05-22\n",
      "227  4419359  2019-05-23\n",
      "228  1809862  2019-05-24\n",
      "229  2455572  2019-05-28\n",
      "230  6641224  2019-05-29\n",
      "231  3840044  2019-05-30\n",
      "232  5428476  2019-05-31\n",
      "233  5589736  2019-06-03\n",
      "234  3598917  2019-06-04\n",
      "235  4674039  2019-06-05\n",
      "236  4294539  2019-06-06\n",
      "237  3180251  2019-06-07\n",
      "238  3862913  2019-06-10\n",
      "239  2923455  2019-06-11\n",
      "240  2310269  2019-06-12\n",
      "241  2304977  2019-06-13\n",
      "242  2000184  2019-06-14\n",
      "243  2511178  2019-06-17\n",
      "244  4622740  2019-06-18\n",
      "245  7606221  2019-06-19\n",
      "246  4408953  2019-06-20\n",
      "247  3628064  2019-06-21\n",
      "248  3549268  2019-06-24\n",
      "249  2975598  2019-06-25\n",
      "250  4210219  2019-06-26\n",
      "\n",
      "[251 rows x 2 columns]\n",
      "      volume    DateTime\n",
      "0     597525  2018-06-27\n",
      "1     535937  2018-06-28\n",
      "2     740935  2018-06-29\n",
      "3     889804  2018-07-02\n",
      "4     310724  2018-07-03\n",
      "5     476492  2018-07-05\n",
      "6     584279  2018-07-06\n",
      "7     421243  2018-07-09\n",
      "8     557886  2018-07-10\n",
      "9     317999  2018-07-11\n",
      "10    665216  2018-07-12\n",
      "11    384320  2018-07-13\n",
      "12    572213  2018-07-16\n",
      "13    322457  2018-07-17\n",
      "14    280671  2018-07-18\n",
      "15    483613  2018-07-19\n",
      "16    208327  2018-07-20\n",
      "17    206256  2018-07-23\n",
      "18   1505295  2018-07-24\n",
      "19    447647  2018-07-25\n",
      "20    377104  2018-07-26\n",
      "21    301317  2018-07-27\n",
      "22    303802  2018-07-30\n",
      "23   1085687  2018-07-31\n",
      "24    405390  2018-08-01\n",
      "25    383336  2018-08-02\n",
      "26    309505  2018-08-03\n",
      "27    398230  2018-08-06\n",
      "28    451561  2018-08-07\n",
      "29    277255  2018-08-08\n",
      "..       ...         ...\n",
      "221   870952  2019-05-15\n",
      "222   700083  2019-05-16\n",
      "223   684788  2019-05-17\n",
      "224   410897  2019-05-20\n",
      "225   423039  2019-05-21\n",
      "226   651461  2019-05-22\n",
      "227   972942  2019-05-23\n",
      "228   715467  2019-05-24\n",
      "229   552558  2019-05-28\n",
      "230   735159  2019-05-29\n",
      "231   705319  2019-05-30\n",
      "232  1224470  2019-05-31\n",
      "233  1346032  2019-06-03\n",
      "234   659489  2019-06-04\n",
      "235   579349  2019-06-05\n",
      "236   518449  2019-06-06\n",
      "237   663393  2019-06-07\n",
      "238   391813  2019-06-10\n",
      "239   436263  2019-06-11\n",
      "240  1950871  2019-06-12\n",
      "241   959749  2019-06-13\n",
      "242   308672  2019-06-14\n",
      "243   287787  2019-06-17\n",
      "244   564842  2019-06-18\n",
      "245   610867  2019-06-19\n",
      "246   853766  2019-06-20\n",
      "247   620376  2019-06-21\n",
      "248   428676  2019-06-24\n",
      "249   358048  2019-06-25\n",
      "250   382706  2019-06-26\n",
      "\n",
      "[251 rows x 2 columns]\n",
      "       volume    DateTime\n",
      "0     1022170  2018-06-27\n",
      "1     1257525  2018-06-28\n",
      "2      768511  2018-06-29\n",
      "3     1497191  2018-07-02\n",
      "4      893330  2018-07-03\n",
      "5      719472  2018-07-05\n",
      "6      939000  2018-07-06\n",
      "7      923883  2018-07-09\n",
      "8    13570521  2018-07-10\n",
      "9      773501  2018-07-11\n",
      "10    1631219  2018-07-12\n",
      "11     798684  2018-07-13\n",
      "12     740443  2018-07-16\n",
      "13     648369  2018-07-17\n",
      "14     583461  2018-07-18\n",
      "15     742928  2018-07-19\n",
      "16     647089  2018-07-20\n",
      "17     971560  2018-07-23\n",
      "18     971679  2018-07-24\n",
      "19    1201049  2018-07-25\n",
      "20     724640  2018-07-26\n",
      "21    1059967  2018-07-27\n",
      "22    1169494  2018-07-30\n",
      "23     649982  2018-07-31\n",
      "24    1255739  2018-08-01\n",
      "25     892310  2018-08-02\n",
      "26    1058301  2018-08-03\n",
      "27     741188  2018-08-06\n",
      "28     933629  2018-08-07\n",
      "29     613864  2018-08-08\n",
      "..        ...         ...\n",
      "221    856186  2019-05-15\n",
      "222    946762  2019-05-16\n",
      "223    691206  2019-05-17\n",
      "224    896485  2019-05-20\n",
      "225    597234  2019-05-21\n",
      "226    604593  2019-05-22\n",
      "227   1126291  2019-05-23\n",
      "228    700439  2019-05-24\n",
      "229    735214  2019-05-28\n",
      "230   1550933  2019-05-29\n",
      "231   1312028  2019-05-30\n",
      "232   1115423  2019-05-31\n",
      "233   4863828  2019-06-03\n",
      "234   1109094  2019-06-04\n",
      "235   1477812  2019-06-05\n",
      "236    936279  2019-06-06\n",
      "237    764134  2019-06-07\n",
      "238    890600  2019-06-10\n",
      "239    625275  2019-06-11\n",
      "240    880270  2019-06-12\n",
      "241    767419  2019-06-13\n",
      "242    682456  2019-06-14\n",
      "243   1132814  2019-06-17\n",
      "244    997612  2019-06-18\n",
      "245    949638  2019-06-19\n",
      "246    813156  2019-06-20\n",
      "247    790153  2019-06-21\n",
      "248    606602  2019-06-24\n",
      "249    994354  2019-06-25\n",
      "250    756312  2019-06-26\n",
      "\n",
      "[251 rows x 2 columns]\n",
      "        volume    DateTime\n",
      "0    105110674  2018-06-27\n",
      "1     76650517  2018-06-28\n",
      "2     97592499  2018-06-29\n",
      "3     63554774  2018-07-02\n",
      "4     42187071  2018-07-03\n",
      "5     56925919  2018-07-05\n",
      "6     66493696  2018-07-06\n",
      "7     50550399  2018-07-09\n",
      "8     51966829  2018-07-10\n",
      "9     77054739  2018-07-11\n",
      "10    60124687  2018-07-12\n",
      "11    48234964  2018-07-13\n",
      "12    48201038  2018-07-16\n",
      "13    52315500  2018-07-17\n",
      "14    44593465  2018-07-18\n",
      "15    61412117  2018-07-19\n",
      "16    82372729  2018-07-20\n",
      "17    47047565  2018-07-23\n",
      "18    68026935  2018-07-24\n",
      "19    78882927  2018-07-25\n",
      "20    57919495  2018-07-26\n",
      "21    76783177  2018-07-27\n",
      "22    63742508  2018-07-30\n",
      "23    68570493  2018-07-31\n",
      "24    53853326  2018-08-01\n",
      "25    63426363  2018-08-02\n",
      "26    53935386  2018-08-03\n",
      "27    39400887  2018-08-06\n",
      "28    43196646  2018-08-07\n",
      "29    42114551  2018-08-08\n",
      "..         ...         ...\n",
      "221   73956407  2019-05-15\n",
      "222   76749643  2019-05-16\n",
      "223  100353024  2019-05-17\n",
      "224   62877610  2019-05-20\n",
      "225   46847085  2019-05-21\n",
      "226   49482472  2019-05-22\n",
      "227   98733847  2019-05-23\n",
      "228   55268095  2019-05-24\n",
      "229   70029356  2019-05-28\n",
      "230  104972927  2019-05-29\n",
      "231   62523780  2019-05-30\n",
      "232   86862782  2019-05-31\n",
      "233   96427952  2019-06-03\n",
      "234   77231889  2019-06-04\n",
      "235   71169717  2019-06-05\n",
      "236   69430381  2019-06-06\n",
      "237   74272199  2019-06-07\n",
      "238   60799053  2019-06-10\n",
      "239   58641325  2019-06-11\n",
      "240   47096312  2019-06-12\n",
      "241   48945156  2019-06-13\n",
      "242   52324716  2019-06-14\n",
      "243   39205709  2019-06-17\n",
      "244   85434823  2019-06-18\n",
      "245   78674377  2019-06-19\n",
      "246  116570017  2019-06-20\n",
      "247   83309466  2019-06-21\n",
      "248   47582730  2019-06-24\n",
      "249   82028656  2019-06-25\n",
      "250   51584902  2019-06-26\n",
      "\n",
      "[251 rows x 2 columns]\n",
      "      volume    DateTime\n",
      "0    3433775  2018-06-27\n",
      "1    2638408  2018-06-28\n",
      "2    3711575  2018-06-29\n",
      "3    1943137  2018-07-02\n",
      "4    1157884  2018-07-03\n",
      "5    1948090  2018-07-05\n",
      "6    2622491  2018-07-06\n",
      "7    3979469  2018-07-09\n",
      "8    1314531  2018-07-10\n",
      "9    2335052  2018-07-11\n",
      "10   2874031  2018-07-12\n",
      "11   1814928  2018-07-13\n",
      "12    993457  2018-07-16\n",
      "13   1825871  2018-07-17\n",
      "14   2606817  2018-07-18\n",
      "15   2050473  2018-07-19\n",
      "16   2710786  2018-07-20\n",
      "17   1447020  2018-07-23\n",
      "18   2916394  2018-07-24\n",
      "19   2623349  2018-07-25\n",
      "20   2166453  2018-07-26\n",
      "21   2666731  2018-07-27\n",
      "22   1601425  2018-07-30\n",
      "23   1992498  2018-07-31\n",
      "24   1651723  2018-08-01\n",
      "25   1767326  2018-08-02\n",
      "26   2017560  2018-08-03\n",
      "27   1842998  2018-08-06\n",
      "28   2619229  2018-08-07\n",
      "29   1560785  2018-08-08\n",
      "..       ...         ...\n",
      "221  2444406  2019-05-15\n",
      "222  3221513  2019-05-16\n",
      "223  2719513  2019-05-17\n",
      "224  2762623  2019-05-20\n",
      "225  2760813  2019-05-21\n",
      "226  3421502  2019-05-22\n",
      "227  3813201  2019-05-23\n",
      "228  1833053  2019-05-24\n",
      "229  2566079  2019-05-28\n",
      "230  4593562  2019-05-29\n",
      "231  2977192  2019-05-30\n",
      "232  3698782  2019-05-31\n",
      "233  3825614  2019-06-03\n",
      "234  3536293  2019-06-04\n",
      "235  2646522  2019-06-05\n",
      "236  2277840  2019-06-06\n",
      "237  1877426  2019-06-07\n",
      "238  2846143  2019-06-10\n",
      "239  1894531  2019-06-11\n",
      "240  1712276  2019-06-12\n",
      "241  1813685  2019-06-13\n",
      "242  1203356  2019-06-14\n",
      "243  1782613  2019-06-17\n",
      "244  2340697  2019-06-18\n",
      "245  1684486  2019-06-19\n",
      "246  3288090  2019-06-20\n",
      "247  2225992  2019-06-21\n",
      "248  3518370  2019-06-24\n",
      "249  2287082  2019-06-25\n",
      "250  2988721  2019-06-26\n",
      "\n",
      "[251 rows x 2 columns]\n",
      "      volume    DateTime\n",
      "0    2958960  2018-06-27\n",
      "1    2490646  2018-06-28\n",
      "2    1849639  2018-06-29\n",
      "3    2825879  2018-07-02\n",
      "4    1325978  2018-07-03\n",
      "5    2796422  2018-07-05\n",
      "6    1756480  2018-07-06\n",
      "7    2153146  2018-07-09\n",
      "8    1437018  2018-07-10\n",
      "9    2042602  2018-07-11\n",
      "10   1440593  2018-07-12\n",
      "11   1965410  2018-07-13\n",
      "12   1571319  2018-07-16\n",
      "13   1767208  2018-07-17\n",
      "14   1327678  2018-07-18\n",
      "15   2034581  2018-07-19\n",
      "16   1507878  2018-07-20\n",
      "17   1444525  2018-07-23\n",
      "18   2340093  2018-07-24\n",
      "19   2126581  2018-07-25\n",
      "20   2084649  2018-07-26\n",
      "21   2535119  2018-07-27\n",
      "22   5379740  2018-07-30\n",
      "23   2004218  2018-07-31\n",
      "24   1524128  2018-08-01\n",
      "25   1508735  2018-08-02\n",
      "26   1977541  2018-08-03\n",
      "27   1802179  2018-08-06\n",
      "28   2532728  2018-08-07\n",
      "29   1270632  2018-08-08\n",
      "..       ...         ...\n",
      "221  2072281  2019-05-15\n",
      "222  2319528  2019-05-16\n",
      "223  1923948  2019-05-17\n",
      "224  1669331  2019-05-20\n",
      "225  1438804  2019-05-21\n",
      "226  1539829  2019-05-22\n",
      "227  2701356  2019-05-23\n",
      "228  1381924  2019-05-24\n",
      "229  3866068  2019-05-28\n",
      "230  2955070  2019-05-29\n",
      "231  2621700  2019-05-30\n",
      "232  2836563  2019-05-31\n",
      "233  4765473  2019-06-03\n",
      "234  2767665  2019-06-04\n",
      "235  5059723  2019-06-05\n",
      "236  2795552  2019-06-06\n",
      "237  1668251  2019-06-07\n",
      "238  2260005  2019-06-10\n",
      "239  1724530  2019-06-11\n",
      "240  1729920  2019-06-12\n",
      "241  1726623  2019-06-13\n",
      "242  1401000  2019-06-14\n",
      "243  2506104  2019-06-17\n",
      "244  2261097  2019-06-18\n",
      "245  4049930  2019-06-19\n",
      "246  2968296  2019-06-20\n",
      "247  2414269  2019-06-21\n",
      "248  1977281  2019-06-24\n",
      "249  2309499  2019-06-25\n",
      "250  1904009  2019-06-26\n",
      "\n"
     ]
    },
    {
     "name": "stdout",
     "output_type": "stream",
     "text": [
      "[251 rows x 2 columns]\n",
      "       volume    DateTime\n",
      "0    20583866  2018-06-27\n",
      "1    14285368  2018-06-28\n",
      "2    13167937  2018-06-29\n",
      "3    15296553  2018-07-02\n",
      "4     9308177  2018-07-03\n",
      "5     9969537  2018-07-05\n",
      "6     9310429  2018-07-06\n",
      "7    11059160  2018-07-09\n",
      "8    11003761  2018-07-10\n",
      "9    19362770  2018-07-11\n",
      "10   12568031  2018-07-12\n",
      "11   11423091  2018-07-13\n",
      "12   11390744  2018-07-16\n",
      "13    9753183  2018-07-17\n",
      "14   15351520  2018-07-18\n",
      "15   16231809  2018-07-19\n",
      "16   10861317  2018-07-20\n",
      "17    7623849  2018-07-23\n",
      "18   10168500  2018-07-24\n",
      "19   11037546  2018-07-25\n",
      "20   12187385  2018-07-26\n",
      "21   12642806  2018-07-27\n",
      "22   11394997  2018-07-30\n",
      "23   11290711  2018-07-31\n",
      "24   11172625  2018-08-01\n",
      "25    9689758  2018-08-02\n",
      "26    7663337  2018-08-03\n",
      "27    8200093  2018-08-06\n",
      "28   11798340  2018-08-07\n",
      "29    9401055  2018-08-08\n",
      "..        ...         ...\n",
      "221  10092343  2019-05-15\n",
      "222   9376619  2019-05-16\n",
      "223  10555799  2019-05-17\n",
      "224   8186324  2019-05-20\n",
      "225  18380450  2019-05-21\n",
      "226   9637121  2019-05-22\n",
      "227  23963613  2019-05-23\n",
      "228  10153381  2019-05-24\n",
      "229  12930642  2019-05-28\n",
      "230  16951585  2019-05-29\n",
      "231  15173861  2019-05-30\n",
      "232  21898542  2019-05-31\n",
      "233  18024661  2019-06-03\n",
      "234  14743427  2019-06-04\n",
      "235  15882054  2019-06-05\n",
      "236  32393915  2019-06-06\n",
      "237  15774071  2019-06-07\n",
      "238   9837825  2019-06-10\n",
      "239   9522629  2019-06-11\n",
      "240  13816452  2019-06-12\n",
      "241  12191939  2019-06-13\n",
      "242   7916416  2019-06-14\n",
      "243   8795248  2019-06-17\n",
      "244  17222144  2019-06-18\n",
      "245   8827665  2019-06-19\n",
      "246  25953969  2019-06-20\n",
      "247  16356327  2019-06-21\n",
      "248  10396671  2019-06-24\n",
      "249  11887333  2019-06-25\n",
      "250  14326784  2019-06-26\n",
      "\n",
      "[251 rows x 2 columns]\n",
      "       volume    DateTime\n",
      "0    19853403  2018-06-27\n",
      "1    15329838  2018-06-28\n",
      "2    14907976  2018-06-29\n",
      "3    14098693  2018-07-02\n",
      "4     7083332  2018-07-03\n",
      "5     8465722  2018-07-05\n",
      "6     9757529  2018-07-06\n",
      "7    13033985  2018-07-09\n",
      "8     9880441  2018-07-10\n",
      "9    14207965  2018-07-11\n",
      "10   12705631  2018-07-12\n",
      "11   18494295  2018-07-13\n",
      "12    9576084  2018-07-16\n",
      "13    7326022  2018-07-17\n",
      "14   13821348  2018-07-18\n",
      "15    8790004  2018-07-19\n",
      "16    7922415  2018-07-20\n",
      "17    7822045  2018-07-23\n",
      "18   12140416  2018-07-24\n",
      "19   17967872  2018-07-25\n",
      "20   15115428  2018-07-26\n",
      "21   11281629  2018-07-27\n",
      "22   13423598  2018-07-30\n",
      "23   17709453  2018-07-31\n",
      "24   14214593  2018-08-01\n",
      "25   10812428  2018-08-02\n",
      "26   11021674  2018-08-03\n",
      "27    5460333  2018-08-06\n",
      "28    8381937  2018-08-07\n",
      "29    4745182  2018-08-08\n",
      "..        ...         ...\n",
      "221  12289963  2019-05-15\n",
      "222   7450005  2019-05-16\n",
      "223  16305654  2019-05-17\n",
      "224  11638491  2019-05-20\n",
      "225  10612265  2019-05-21\n",
      "226   9114746  2019-05-22\n",
      "227  16205768  2019-05-23\n",
      "228  11127434  2019-05-24\n",
      "229  11263080  2019-05-28\n",
      "230  14257069  2019-05-29\n",
      "231  10103505  2019-05-30\n",
      "232  13718389  2019-05-31\n",
      "233  17514954  2019-06-03\n",
      "234  16424739  2019-06-04\n",
      "235  12865641  2019-06-05\n",
      "236  11387334  2019-06-06\n",
      "237   9234296  2019-06-07\n",
      "238   9513873  2019-06-10\n",
      "239  11936562  2019-06-11\n",
      "240   5612474  2019-06-12\n",
      "241   6987036  2019-06-13\n",
      "242   5966596  2019-06-14\n",
      "243   7708766  2019-06-17\n",
      "244  12506299  2019-06-18\n",
      "245  11171676  2019-06-19\n",
      "246  14503224  2019-06-20\n",
      "247  11526835  2019-06-21\n",
      "248   8388348  2019-06-24\n",
      "249   9267637  2019-06-25\n",
      "250   7262692  2019-06-26\n",
      "\n",
      "[251 rows x 2 columns]\n",
      "       volume    DateTime\n",
      "0    22054604  2018-06-27\n",
      "1    17799048  2018-06-28\n",
      "2    10009814  2018-06-29\n",
      "3    12545908  2018-07-02\n",
      "4     6361411  2018-07-03\n",
      "5    13659996  2018-07-05\n",
      "6    12802009  2018-07-06\n",
      "7     8727604  2018-07-09\n",
      "8    11493129  2018-07-10\n",
      "9    12975071  2018-07-11\n",
      "10   11853325  2018-07-12\n",
      "11    9258443  2018-07-13\n",
      "12    6665953  2018-07-16\n",
      "13    7451575  2018-07-17\n",
      "14    7081957  2018-07-18\n",
      "15    7455318  2018-07-19\n",
      "16    7219886  2018-07-20\n",
      "17   12575508  2018-07-23\n",
      "18   10778640  2018-07-24\n",
      "19   15288805  2018-07-25\n",
      "20   12547190  2018-07-26\n",
      "21   31777544  2018-07-27\n",
      "22   17847711  2018-07-30\n",
      "23   14977005  2018-07-31\n",
      "24   14661395  2018-08-01\n",
      "25   13104923  2018-08-02\n",
      "26    7245702  2018-08-03\n",
      "27    7500345  2018-08-06\n",
      "28   10272737  2018-08-07\n",
      "29    7099160  2018-08-08\n",
      "..        ...         ...\n",
      "221  15048875  2019-05-15\n",
      "222  15444976  2019-05-16\n",
      "223  13543996  2019-05-17\n",
      "224  14673932  2019-05-20\n",
      "225  14841128  2019-05-21\n",
      "226  11521081  2019-05-22\n",
      "227  16085696  2019-05-23\n",
      "228  11750019  2019-05-24\n",
      "229  25772770  2019-05-28\n",
      "230  14754806  2019-05-29\n",
      "231  11420530  2019-05-30\n",
      "232  12039782  2019-05-31\n",
      "233  19703698  2019-06-03\n",
      "234  15096174  2019-06-04\n",
      "235  14395841  2019-06-05\n",
      "236  11922461  2019-06-06\n",
      "237  11992069  2019-06-07\n",
      "238  13463779  2019-06-10\n",
      "239  11550125  2019-06-11\n",
      "240   7596943  2019-06-12\n",
      "241   9867761  2019-06-13\n",
      "242   8441689  2019-06-14\n",
      "243   9351130  2019-06-17\n",
      "244  16181183  2019-06-18\n",
      "245  12371290  2019-06-19\n",
      "246  13891896  2019-06-20\n",
      "247  20715371  2019-06-21\n",
      "248   8216118  2019-06-24\n",
      "249  13122665  2019-06-25\n",
      "250   9069181  2019-06-26\n",
      "\n",
      "[251 rows x 2 columns]\n"
     ]
    }
   ],
   "source": [
    "# Create data frame variable\n",
    "df_names = [IVV_data_df, RSP_data_df, SCHX_data_df, SPY_data_df, VOO_data_df, VTI_data_df, XLE_data_df, XLI_data_df, XLK_data_df,  ]\n",
    "    \n",
    "# Loop over 9 cleaned data sources and changing the index to DateTime\n",
    "for df in df_names:\n",
    "    print(df)\n",
    "    df.set_index('DateTime', inplace=True)"
   ]
  },
  {
   "cell_type": "markdown",
   "metadata": {},
   "source": [
    "## Combine all 10 cleaned data sources into 1 data frame"
   ]
  },
  {
   "cell_type": "code",
   "execution_count": 1507,
   "metadata": {},
   "outputs": [],
   "source": [
    "# Merge ( default left join ) all 9 cleaned data sources into 1 final_df dataframe\n",
    "final_df = pd.merge(IVV_data_df, RSP_data_df, on=['DateTime'], suffixes=('_IVV', '_RSP'))\n",
    "final_df = pd.merge(final_df, SCHX_data_df, on=['DateTime'], suffixes=('_IVV', '_SCHX'))\n",
    "final_df = pd.merge(final_df, SPY_data_df, on=['DateTime'], suffixes=('', '_SPY'))\n",
    "final_df = pd.merge(final_df, VOO_data_df, on=['DateTime'], suffixes=('', '_VOO'))\n",
    "final_df = pd.merge(final_df, VTI_data_df, on=['DateTime'], suffixes=('', '_VTI'))\n",
    "final_df = pd.merge(final_df, XLE_data_df, on=['DateTime'], suffixes=('', '_XLE'))\n",
    "final_df = pd.merge(final_df, XLI_data_df, on=['DateTime'], suffixes=('', '_XLI'))\n",
    "final_df = pd.merge(final_df, XLK_data_df, on=['DateTime'], suffixes=('', '_XLK'))"
   ]
  },
  {
   "cell_type": "code",
   "execution_count": 1508,
   "metadata": {},
   "outputs": [],
   "source": [
    "# Rename 'volume' column to 'volume_SCHX' as the merge creates 1 column with the name of 'volume'\n",
    "final_df.rename(columns={'volume':'volume_SCHX'}, inplace=True)"
   ]
  },
  {
   "cell_type": "code",
   "execution_count": 1509,
   "metadata": {},
   "outputs": [],
   "source": [
    "# Save final_df to csv so I can read it back out and change the data values - this makes converting the data types to floats easier\n",
    "final_df.to_csv('final_df.csv',index=True)"
   ]
  },
  {
   "cell_type": "code",
   "execution_count": 1510,
   "metadata": {},
   "outputs": [],
   "source": [
    "# Read in the final_df csv and change the data types to float\n",
    "converted_data_final_df = pd.read_csv(\"final_df.csv\",  \n",
    "                 dtype={'volume_IVV': float,'volume_RSP': float, 'volume_SCHX': float, 'volume_SPY': float, 'volume_VOO': float, 'volume_VTI': float, 'volume_XLE': float, 'volume_XLI': float, 'volume_XLK': float})"
   ]
  },
  {
   "cell_type": "code",
   "execution_count": 1511,
   "metadata": {},
   "outputs": [],
   "source": [
    "# Convert \"DateTime\" from object to datetime\n",
    "converted_data_final_df['DateTime'] = pd.to_datetime(converted_data_final_df['DateTime'])"
   ]
  },
  {
   "cell_type": "code",
   "execution_count": 1512,
   "metadata": {},
   "outputs": [],
   "source": [
    "# Setting the index as 'DateTime'\n",
    "converted_data_final_df.set_index('DateTime', inplace=True)"
   ]
  },
  {
   "cell_type": "code",
   "execution_count": 1513,
   "metadata": {},
   "outputs": [],
   "source": [
    "# Convert from float to datetime\n",
    "vix_df['Date'] = pd.to_datetime(vix_df['Date'])"
   ]
  },
  {
   "cell_type": "code",
   "execution_count": 1514,
   "metadata": {},
   "outputs": [],
   "source": [
    "# Set the Vix_df index as 'Date'\n",
    "vix_df.set_index('Date', inplace=True)"
   ]
  },
  {
   "cell_type": "code",
   "execution_count": 1515,
   "metadata": {},
   "outputs": [],
   "source": [
    "# Merge 'vix_df' into 'converted_data_final_df'\n",
    "converted_data_final_df = converted_data_final_df.merge(vix_df, left_index=True, right_index=True, how='inner')"
   ]
  },
  {
   "cell_type": "code",
   "execution_count": 1516,
   "metadata": {},
   "outputs": [
    {
     "data": {
      "text/html": [
       "<div>\n",
       "<style scoped>\n",
       "    .dataframe tbody tr th:only-of-type {\n",
       "        vertical-align: middle;\n",
       "    }\n",
       "\n",
       "    .dataframe tbody tr th {\n",
       "        vertical-align: top;\n",
       "    }\n",
       "\n",
       "    .dataframe thead th {\n",
       "        text-align: right;\n",
       "    }\n",
       "</style>\n",
       "<table border=\"1\" class=\"dataframe\">\n",
       "  <thead>\n",
       "    <tr style=\"text-align: right;\">\n",
       "      <th></th>\n",
       "      <th>volume_IVV</th>\n",
       "      <th>volume_RSP</th>\n",
       "      <th>volume_SCHX</th>\n",
       "      <th>volume_SPY</th>\n",
       "      <th>volume_VOO</th>\n",
       "      <th>volume_VTI</th>\n",
       "      <th>volume_XLE</th>\n",
       "      <th>volume_XLI</th>\n",
       "      <th>volume_XLK</th>\n",
       "      <th>VIX High</th>\n",
       "    </tr>\n",
       "  </thead>\n",
       "  <tbody>\n",
       "    <tr>\n",
       "      <th>2019-06-20</th>\n",
       "      <td>4408953.000</td>\n",
       "      <td>853766.000</td>\n",
       "      <td>813156.000</td>\n",
       "      <td>116570017.000</td>\n",
       "      <td>3288090.000</td>\n",
       "      <td>2968296.000</td>\n",
       "      <td>25953969.000</td>\n",
       "      <td>14503224.000</td>\n",
       "      <td>13891896.000</td>\n",
       "      <td>16.030</td>\n",
       "    </tr>\n",
       "    <tr>\n",
       "      <th>2019-06-21</th>\n",
       "      <td>3628064.000</td>\n",
       "      <td>620376.000</td>\n",
       "      <td>790153.000</td>\n",
       "      <td>83309466.000</td>\n",
       "      <td>2225992.000</td>\n",
       "      <td>2414269.000</td>\n",
       "      <td>16356327.000</td>\n",
       "      <td>11526835.000</td>\n",
       "      <td>20715371.000</td>\n",
       "      <td>15.480</td>\n",
       "    </tr>\n",
       "    <tr>\n",
       "      <th>2019-06-24</th>\n",
       "      <td>3549268.000</td>\n",
       "      <td>428676.000</td>\n",
       "      <td>606602.000</td>\n",
       "      <td>47582730.000</td>\n",
       "      <td>3518370.000</td>\n",
       "      <td>1977281.000</td>\n",
       "      <td>10396671.000</td>\n",
       "      <td>8388348.000</td>\n",
       "      <td>8216118.000</td>\n",
       "      <td>15.560</td>\n",
       "    </tr>\n",
       "    <tr>\n",
       "      <th>2019-06-25</th>\n",
       "      <td>2975598.000</td>\n",
       "      <td>358048.000</td>\n",
       "      <td>994354.000</td>\n",
       "      <td>82028656.000</td>\n",
       "      <td>2287082.000</td>\n",
       "      <td>2309499.000</td>\n",
       "      <td>11887333.000</td>\n",
       "      <td>9267637.000</td>\n",
       "      <td>13122665.000</td>\n",
       "      <td>16.680</td>\n",
       "    </tr>\n",
       "    <tr>\n",
       "      <th>2019-06-26</th>\n",
       "      <td>4210219.000</td>\n",
       "      <td>382706.000</td>\n",
       "      <td>756312.000</td>\n",
       "      <td>51584902.000</td>\n",
       "      <td>2988721.000</td>\n",
       "      <td>1904009.000</td>\n",
       "      <td>14326784.000</td>\n",
       "      <td>7262692.000</td>\n",
       "      <td>9069181.000</td>\n",
       "      <td>16.500</td>\n",
       "    </tr>\n",
       "  </tbody>\n",
       "</table>\n",
       "</div>"
      ],
      "text/plain": [
       "            volume_IVV  volume_RSP  volume_SCHX    volume_SPY  volume_VOO  \\\n",
       "2019-06-20 4408953.000  853766.000   813156.000 116570017.000 3288090.000   \n",
       "2019-06-21 3628064.000  620376.000   790153.000  83309466.000 2225992.000   \n",
       "2019-06-24 3549268.000  428676.000   606602.000  47582730.000 3518370.000   \n",
       "2019-06-25 2975598.000  358048.000   994354.000  82028656.000 2287082.000   \n",
       "2019-06-26 4210219.000  382706.000   756312.000  51584902.000 2988721.000   \n",
       "\n",
       "            volume_VTI   volume_XLE   volume_XLI   volume_XLK  VIX High  \n",
       "2019-06-20 2968296.000 25953969.000 14503224.000 13891896.000    16.030  \n",
       "2019-06-21 2414269.000 16356327.000 11526835.000 20715371.000    15.480  \n",
       "2019-06-24 1977281.000 10396671.000  8388348.000  8216118.000    15.560  \n",
       "2019-06-25 2309499.000 11887333.000  9267637.000 13122665.000    16.680  \n",
       "2019-06-26 1904009.000 14326784.000  7262692.000  9069181.000    16.500  "
      ]
     },
     "execution_count": 1516,
     "metadata": {},
     "output_type": "execute_result"
    }
   ],
   "source": [
    "converted_data_final_df.tail()"
   ]
  },
  {
   "cell_type": "markdown",
   "metadata": {},
   "source": [
    "# Feature Engineering\n",
    "\n",
    "### VIX High_Price_Tomorrow"
   ]
  },
  {
   "cell_type": "code",
   "execution_count": 1517,
   "metadata": {},
   "outputs": [],
   "source": [
    "# Create a new vix high column for tomorrow's price by copying the existing VIX High\n",
    "converted_data_final_df['VIX High_Price_Tomorrow'] = (converted_data_final_df['VIX High'])"
   ]
  },
  {
   "cell_type": "code",
   "execution_count": 1518,
   "metadata": {
    "scrolled": true
   },
   "outputs": [
    {
     "name": "stdout",
     "output_type": "stream",
     "text": [
      "volume_IVV                 0\n",
      "volume_RSP                 0\n",
      "volume_SCHX                0\n",
      "volume_SPY                 0\n",
      "volume_VOO                 0\n",
      "volume_VTI                 0\n",
      "volume_XLE                 0\n",
      "volume_XLI                 0\n",
      "volume_XLK                 0\n",
      "VIX High                   0\n",
      "VIX High_Price_Tomorrow    0\n",
      "dtype: int64\n"
     ]
    }
   ],
   "source": [
    "# Check for missing values by (numeric) feature\n",
    "print(converted_data_final_df.select_dtypes(exclude=['object']).isnull().sum())"
   ]
  },
  {
   "cell_type": "code",
   "execution_count": 1519,
   "metadata": {
    "scrolled": true
   },
   "outputs": [
    {
     "name": "stdout",
     "output_type": "stream",
     "text": [
      "            volume_IVV  volume_RSP  volume_SCHX   volume_SPY  volume_VOO  \\\n",
      "2019-06-26 4210219.000  382706.000   756312.000 51584902.000 2988721.000   \n",
      "\n",
      "            volume_VTI   volume_XLE  volume_XLI  volume_XLK  VIX High  \\\n",
      "2019-06-26 1904009.000 14326784.000 7262692.000 9069181.000    16.500   \n",
      "\n",
      "            VIX High_Price_Tomorrow  \n",
      "2019-06-26                   16.500  \n"
     ]
    }
   ],
   "source": [
    "# # Adding 1 row of Dummy data to converted_data_final_df - so when we drop the NAN will be gone\n",
    "dummy_last_row = converted_data_final_df.iloc[-1:] #grab the last row of 'converted_data_final_df'\n",
    "print(dummy_last_row)\n",
    "converted_data_final_df = converted_data_final_df.append(dummy_last_row)"
   ]
  },
  {
   "cell_type": "code",
   "execution_count": 1520,
   "metadata": {
    "scrolled": true
   },
   "outputs": [
    {
     "data": {
      "text/html": [
       "<div>\n",
       "<style scoped>\n",
       "    .dataframe tbody tr th:only-of-type {\n",
       "        vertical-align: middle;\n",
       "    }\n",
       "\n",
       "    .dataframe tbody tr th {\n",
       "        vertical-align: top;\n",
       "    }\n",
       "\n",
       "    .dataframe thead th {\n",
       "        text-align: right;\n",
       "    }\n",
       "</style>\n",
       "<table border=\"1\" class=\"dataframe\">\n",
       "  <thead>\n",
       "    <tr style=\"text-align: right;\">\n",
       "      <th></th>\n",
       "      <th>volume_IVV</th>\n",
       "      <th>volume_RSP</th>\n",
       "      <th>volume_SCHX</th>\n",
       "      <th>volume_SPY</th>\n",
       "      <th>volume_VOO</th>\n",
       "      <th>volume_VTI</th>\n",
       "      <th>volume_XLE</th>\n",
       "      <th>volume_XLI</th>\n",
       "      <th>volume_XLK</th>\n",
       "      <th>VIX High</th>\n",
       "      <th>VIX High_Price_Tomorrow</th>\n",
       "    </tr>\n",
       "  </thead>\n",
       "  <tbody>\n",
       "    <tr>\n",
       "      <th>2019-06-21</th>\n",
       "      <td>3628064.000</td>\n",
       "      <td>620376.000</td>\n",
       "      <td>790153.000</td>\n",
       "      <td>83309466.000</td>\n",
       "      <td>2225992.000</td>\n",
       "      <td>2414269.000</td>\n",
       "      <td>16356327.000</td>\n",
       "      <td>11526835.000</td>\n",
       "      <td>20715371.000</td>\n",
       "      <td>15.480</td>\n",
       "      <td>15.480</td>\n",
       "    </tr>\n",
       "    <tr>\n",
       "      <th>2019-06-24</th>\n",
       "      <td>3549268.000</td>\n",
       "      <td>428676.000</td>\n",
       "      <td>606602.000</td>\n",
       "      <td>47582730.000</td>\n",
       "      <td>3518370.000</td>\n",
       "      <td>1977281.000</td>\n",
       "      <td>10396671.000</td>\n",
       "      <td>8388348.000</td>\n",
       "      <td>8216118.000</td>\n",
       "      <td>15.560</td>\n",
       "      <td>15.560</td>\n",
       "    </tr>\n",
       "    <tr>\n",
       "      <th>2019-06-25</th>\n",
       "      <td>2975598.000</td>\n",
       "      <td>358048.000</td>\n",
       "      <td>994354.000</td>\n",
       "      <td>82028656.000</td>\n",
       "      <td>2287082.000</td>\n",
       "      <td>2309499.000</td>\n",
       "      <td>11887333.000</td>\n",
       "      <td>9267637.000</td>\n",
       "      <td>13122665.000</td>\n",
       "      <td>16.680</td>\n",
       "      <td>16.680</td>\n",
       "    </tr>\n",
       "    <tr>\n",
       "      <th>2019-06-26</th>\n",
       "      <td>4210219.000</td>\n",
       "      <td>382706.000</td>\n",
       "      <td>756312.000</td>\n",
       "      <td>51584902.000</td>\n",
       "      <td>2988721.000</td>\n",
       "      <td>1904009.000</td>\n",
       "      <td>14326784.000</td>\n",
       "      <td>7262692.000</td>\n",
       "      <td>9069181.000</td>\n",
       "      <td>16.500</td>\n",
       "      <td>16.500</td>\n",
       "    </tr>\n",
       "    <tr>\n",
       "      <th>2019-06-26</th>\n",
       "      <td>4210219.000</td>\n",
       "      <td>382706.000</td>\n",
       "      <td>756312.000</td>\n",
       "      <td>51584902.000</td>\n",
       "      <td>2988721.000</td>\n",
       "      <td>1904009.000</td>\n",
       "      <td>14326784.000</td>\n",
       "      <td>7262692.000</td>\n",
       "      <td>9069181.000</td>\n",
       "      <td>16.500</td>\n",
       "      <td>16.500</td>\n",
       "    </tr>\n",
       "  </tbody>\n",
       "</table>\n",
       "</div>"
      ],
      "text/plain": [
       "            volume_IVV  volume_RSP  volume_SCHX   volume_SPY  volume_VOO  \\\n",
       "2019-06-21 3628064.000  620376.000   790153.000 83309466.000 2225992.000   \n",
       "2019-06-24 3549268.000  428676.000   606602.000 47582730.000 3518370.000   \n",
       "2019-06-25 2975598.000  358048.000   994354.000 82028656.000 2287082.000   \n",
       "2019-06-26 4210219.000  382706.000   756312.000 51584902.000 2988721.000   \n",
       "2019-06-26 4210219.000  382706.000   756312.000 51584902.000 2988721.000   \n",
       "\n",
       "            volume_VTI   volume_XLE   volume_XLI   volume_XLK  VIX High  \\\n",
       "2019-06-21 2414269.000 16356327.000 11526835.000 20715371.000    15.480   \n",
       "2019-06-24 1977281.000 10396671.000  8388348.000  8216118.000    15.560   \n",
       "2019-06-25 2309499.000 11887333.000  9267637.000 13122665.000    16.680   \n",
       "2019-06-26 1904009.000 14326784.000  7262692.000  9069181.000    16.500   \n",
       "2019-06-26 1904009.000 14326784.000  7262692.000  9069181.000    16.500   \n",
       "\n",
       "            VIX High_Price_Tomorrow  \n",
       "2019-06-21                   15.480  \n",
       "2019-06-24                   15.560  \n",
       "2019-06-25                   16.680  \n",
       "2019-06-26                   16.500  \n",
       "2019-06-26                   16.500  "
      ]
     },
     "execution_count": 1520,
     "metadata": {},
     "output_type": "execute_result"
    }
   ],
   "source": [
    "converted_data_final_df.tail()"
   ]
  },
  {
   "cell_type": "code",
   "execution_count": 1521,
   "metadata": {},
   "outputs": [],
   "source": [
    "# Adding blank row before shifting so I don't lose data\n",
    "# last_date = converted_data_final_df.iloc[[1]].index\n",
    "# print(type(last_date))\n",
    "# converted_data_final_df = converted_data_final_df.append(pd.DataFrame(index=[last_date]))"
   ]
  },
  {
   "cell_type": "code",
   "execution_count": 1522,
   "metadata": {
    "scrolled": true
   },
   "outputs": [
    {
     "data": {
      "text/html": [
       "<div>\n",
       "<style scoped>\n",
       "    .dataframe tbody tr th:only-of-type {\n",
       "        vertical-align: middle;\n",
       "    }\n",
       "\n",
       "    .dataframe tbody tr th {\n",
       "        vertical-align: top;\n",
       "    }\n",
       "\n",
       "    .dataframe thead th {\n",
       "        text-align: right;\n",
       "    }\n",
       "</style>\n",
       "<table border=\"1\" class=\"dataframe\">\n",
       "  <thead>\n",
       "    <tr style=\"text-align: right;\">\n",
       "      <th></th>\n",
       "      <th>volume_IVV</th>\n",
       "      <th>volume_RSP</th>\n",
       "      <th>volume_SCHX</th>\n",
       "      <th>volume_SPY</th>\n",
       "      <th>volume_VOO</th>\n",
       "      <th>volume_VTI</th>\n",
       "      <th>volume_XLE</th>\n",
       "      <th>volume_XLI</th>\n",
       "      <th>volume_XLK</th>\n",
       "      <th>VIX High</th>\n",
       "      <th>VIX High_Price_Tomorrow</th>\n",
       "    </tr>\n",
       "  </thead>\n",
       "  <tbody>\n",
       "    <tr>\n",
       "      <th>2019-06-21</th>\n",
       "      <td>3628064.000</td>\n",
       "      <td>620376.000</td>\n",
       "      <td>790153.000</td>\n",
       "      <td>83309466.000</td>\n",
       "      <td>2225992.000</td>\n",
       "      <td>2414269.000</td>\n",
       "      <td>16356327.000</td>\n",
       "      <td>11526835.000</td>\n",
       "      <td>20715371.000</td>\n",
       "      <td>15.480</td>\n",
       "      <td>15.480</td>\n",
       "    </tr>\n",
       "    <tr>\n",
       "      <th>2019-06-24</th>\n",
       "      <td>3549268.000</td>\n",
       "      <td>428676.000</td>\n",
       "      <td>606602.000</td>\n",
       "      <td>47582730.000</td>\n",
       "      <td>3518370.000</td>\n",
       "      <td>1977281.000</td>\n",
       "      <td>10396671.000</td>\n",
       "      <td>8388348.000</td>\n",
       "      <td>8216118.000</td>\n",
       "      <td>15.560</td>\n",
       "      <td>15.560</td>\n",
       "    </tr>\n",
       "    <tr>\n",
       "      <th>2019-06-25</th>\n",
       "      <td>2975598.000</td>\n",
       "      <td>358048.000</td>\n",
       "      <td>994354.000</td>\n",
       "      <td>82028656.000</td>\n",
       "      <td>2287082.000</td>\n",
       "      <td>2309499.000</td>\n",
       "      <td>11887333.000</td>\n",
       "      <td>9267637.000</td>\n",
       "      <td>13122665.000</td>\n",
       "      <td>16.680</td>\n",
       "      <td>16.680</td>\n",
       "    </tr>\n",
       "    <tr>\n",
       "      <th>2019-06-26</th>\n",
       "      <td>4210219.000</td>\n",
       "      <td>382706.000</td>\n",
       "      <td>756312.000</td>\n",
       "      <td>51584902.000</td>\n",
       "      <td>2988721.000</td>\n",
       "      <td>1904009.000</td>\n",
       "      <td>14326784.000</td>\n",
       "      <td>7262692.000</td>\n",
       "      <td>9069181.000</td>\n",
       "      <td>16.500</td>\n",
       "      <td>16.500</td>\n",
       "    </tr>\n",
       "    <tr>\n",
       "      <th>2019-06-26</th>\n",
       "      <td>4210219.000</td>\n",
       "      <td>382706.000</td>\n",
       "      <td>756312.000</td>\n",
       "      <td>51584902.000</td>\n",
       "      <td>2988721.000</td>\n",
       "      <td>1904009.000</td>\n",
       "      <td>14326784.000</td>\n",
       "      <td>7262692.000</td>\n",
       "      <td>9069181.000</td>\n",
       "      <td>16.500</td>\n",
       "      <td>16.500</td>\n",
       "    </tr>\n",
       "  </tbody>\n",
       "</table>\n",
       "</div>"
      ],
      "text/plain": [
       "            volume_IVV  volume_RSP  volume_SCHX   volume_SPY  volume_VOO  \\\n",
       "2019-06-21 3628064.000  620376.000   790153.000 83309466.000 2225992.000   \n",
       "2019-06-24 3549268.000  428676.000   606602.000 47582730.000 3518370.000   \n",
       "2019-06-25 2975598.000  358048.000   994354.000 82028656.000 2287082.000   \n",
       "2019-06-26 4210219.000  382706.000   756312.000 51584902.000 2988721.000   \n",
       "2019-06-26 4210219.000  382706.000   756312.000 51584902.000 2988721.000   \n",
       "\n",
       "            volume_VTI   volume_XLE   volume_XLI   volume_XLK  VIX High  \\\n",
       "2019-06-21 2414269.000 16356327.000 11526835.000 20715371.000    15.480   \n",
       "2019-06-24 1977281.000 10396671.000  8388348.000  8216118.000    15.560   \n",
       "2019-06-25 2309499.000 11887333.000  9267637.000 13122665.000    16.680   \n",
       "2019-06-26 1904009.000 14326784.000  7262692.000  9069181.000    16.500   \n",
       "2019-06-26 1904009.000 14326784.000  7262692.000  9069181.000    16.500   \n",
       "\n",
       "            VIX High_Price_Tomorrow  \n",
       "2019-06-21                   15.480  \n",
       "2019-06-24                   15.560  \n",
       "2019-06-25                   16.680  \n",
       "2019-06-26                   16.500  \n",
       "2019-06-26                   16.500  "
      ]
     },
     "execution_count": 1522,
     "metadata": {},
     "output_type": "execute_result"
    }
   ],
   "source": [
    "converted_data_final_df.tail()"
   ]
  },
  {
   "cell_type": "code",
   "execution_count": 1523,
   "metadata": {},
   "outputs": [],
   "source": [
    "# Shift the 'VIX High_Price_Tomorrow' by -1 so we can use it to predict tomorrow's price\n",
    "converted_data_final_df['VIX High_Price_Tomorrow'] = converted_data_final_df['VIX High'].shift(-1)\n",
    "# converted_data_final_df['VIX High_Price_Tomorrow'] = converted_data_final_df['VIX High_Price_Tomorrow'].shift(1)\n"
   ]
  },
  {
   "cell_type": "code",
   "execution_count": 1524,
   "metadata": {},
   "outputs": [
    {
     "data": {
      "text/html": [
       "<div>\n",
       "<style scoped>\n",
       "    .dataframe tbody tr th:only-of-type {\n",
       "        vertical-align: middle;\n",
       "    }\n",
       "\n",
       "    .dataframe tbody tr th {\n",
       "        vertical-align: top;\n",
       "    }\n",
       "\n",
       "    .dataframe thead th {\n",
       "        text-align: right;\n",
       "    }\n",
       "</style>\n",
       "<table border=\"1\" class=\"dataframe\">\n",
       "  <thead>\n",
       "    <tr style=\"text-align: right;\">\n",
       "      <th></th>\n",
       "      <th>volume_IVV</th>\n",
       "      <th>volume_RSP</th>\n",
       "      <th>volume_SCHX</th>\n",
       "      <th>volume_SPY</th>\n",
       "      <th>volume_VOO</th>\n",
       "      <th>volume_VTI</th>\n",
       "      <th>volume_XLE</th>\n",
       "      <th>volume_XLI</th>\n",
       "      <th>volume_XLK</th>\n",
       "      <th>VIX High</th>\n",
       "      <th>VIX High_Price_Tomorrow</th>\n",
       "    </tr>\n",
       "  </thead>\n",
       "  <tbody>\n",
       "    <tr>\n",
       "      <th>2019-06-14</th>\n",
       "      <td>2000184.000</td>\n",
       "      <td>308672.000</td>\n",
       "      <td>682456.000</td>\n",
       "      <td>52324716.000</td>\n",
       "      <td>1203356.000</td>\n",
       "      <td>1401000.000</td>\n",
       "      <td>7916416.000</td>\n",
       "      <td>5966596.000</td>\n",
       "      <td>8441689.000</td>\n",
       "      <td>16.400</td>\n",
       "      <td>15.760</td>\n",
       "    </tr>\n",
       "    <tr>\n",
       "      <th>2019-06-17</th>\n",
       "      <td>2511178.000</td>\n",
       "      <td>287787.000</td>\n",
       "      <td>1132814.000</td>\n",
       "      <td>39205709.000</td>\n",
       "      <td>1782613.000</td>\n",
       "      <td>2506104.000</td>\n",
       "      <td>8795248.000</td>\n",
       "      <td>7708766.000</td>\n",
       "      <td>9351130.000</td>\n",
       "      <td>15.760</td>\n",
       "      <td>15.540</td>\n",
       "    </tr>\n",
       "    <tr>\n",
       "      <th>2019-06-18</th>\n",
       "      <td>4622740.000</td>\n",
       "      <td>564842.000</td>\n",
       "      <td>997612.000</td>\n",
       "      <td>85434823.000</td>\n",
       "      <td>2340697.000</td>\n",
       "      <td>2261097.000</td>\n",
       "      <td>17222144.000</td>\n",
       "      <td>12506299.000</td>\n",
       "      <td>16181183.000</td>\n",
       "      <td>15.540</td>\n",
       "      <td>15.710</td>\n",
       "    </tr>\n",
       "    <tr>\n",
       "      <th>2019-06-19</th>\n",
       "      <td>7606221.000</td>\n",
       "      <td>610867.000</td>\n",
       "      <td>949638.000</td>\n",
       "      <td>78674377.000</td>\n",
       "      <td>1684486.000</td>\n",
       "      <td>4049930.000</td>\n",
       "      <td>8827665.000</td>\n",
       "      <td>11171676.000</td>\n",
       "      <td>12371290.000</td>\n",
       "      <td>15.710</td>\n",
       "      <td>16.030</td>\n",
       "    </tr>\n",
       "    <tr>\n",
       "      <th>2019-06-20</th>\n",
       "      <td>4408953.000</td>\n",
       "      <td>853766.000</td>\n",
       "      <td>813156.000</td>\n",
       "      <td>116570017.000</td>\n",
       "      <td>3288090.000</td>\n",
       "      <td>2968296.000</td>\n",
       "      <td>25953969.000</td>\n",
       "      <td>14503224.000</td>\n",
       "      <td>13891896.000</td>\n",
       "      <td>16.030</td>\n",
       "      <td>15.480</td>\n",
       "    </tr>\n",
       "    <tr>\n",
       "      <th>2019-06-21</th>\n",
       "      <td>3628064.000</td>\n",
       "      <td>620376.000</td>\n",
       "      <td>790153.000</td>\n",
       "      <td>83309466.000</td>\n",
       "      <td>2225992.000</td>\n",
       "      <td>2414269.000</td>\n",
       "      <td>16356327.000</td>\n",
       "      <td>11526835.000</td>\n",
       "      <td>20715371.000</td>\n",
       "      <td>15.480</td>\n",
       "      <td>15.560</td>\n",
       "    </tr>\n",
       "    <tr>\n",
       "      <th>2019-06-24</th>\n",
       "      <td>3549268.000</td>\n",
       "      <td>428676.000</td>\n",
       "      <td>606602.000</td>\n",
       "      <td>47582730.000</td>\n",
       "      <td>3518370.000</td>\n",
       "      <td>1977281.000</td>\n",
       "      <td>10396671.000</td>\n",
       "      <td>8388348.000</td>\n",
       "      <td>8216118.000</td>\n",
       "      <td>15.560</td>\n",
       "      <td>16.680</td>\n",
       "    </tr>\n",
       "    <tr>\n",
       "      <th>2019-06-25</th>\n",
       "      <td>2975598.000</td>\n",
       "      <td>358048.000</td>\n",
       "      <td>994354.000</td>\n",
       "      <td>82028656.000</td>\n",
       "      <td>2287082.000</td>\n",
       "      <td>2309499.000</td>\n",
       "      <td>11887333.000</td>\n",
       "      <td>9267637.000</td>\n",
       "      <td>13122665.000</td>\n",
       "      <td>16.680</td>\n",
       "      <td>16.500</td>\n",
       "    </tr>\n",
       "    <tr>\n",
       "      <th>2019-06-26</th>\n",
       "      <td>4210219.000</td>\n",
       "      <td>382706.000</td>\n",
       "      <td>756312.000</td>\n",
       "      <td>51584902.000</td>\n",
       "      <td>2988721.000</td>\n",
       "      <td>1904009.000</td>\n",
       "      <td>14326784.000</td>\n",
       "      <td>7262692.000</td>\n",
       "      <td>9069181.000</td>\n",
       "      <td>16.500</td>\n",
       "      <td>16.500</td>\n",
       "    </tr>\n",
       "    <tr>\n",
       "      <th>2019-06-26</th>\n",
       "      <td>4210219.000</td>\n",
       "      <td>382706.000</td>\n",
       "      <td>756312.000</td>\n",
       "      <td>51584902.000</td>\n",
       "      <td>2988721.000</td>\n",
       "      <td>1904009.000</td>\n",
       "      <td>14326784.000</td>\n",
       "      <td>7262692.000</td>\n",
       "      <td>9069181.000</td>\n",
       "      <td>16.500</td>\n",
       "      <td>nan</td>\n",
       "    </tr>\n",
       "  </tbody>\n",
       "</table>\n",
       "</div>"
      ],
      "text/plain": [
       "            volume_IVV  volume_RSP  volume_SCHX    volume_SPY  volume_VOO  \\\n",
       "2019-06-14 2000184.000  308672.000   682456.000  52324716.000 1203356.000   \n",
       "2019-06-17 2511178.000  287787.000  1132814.000  39205709.000 1782613.000   \n",
       "2019-06-18 4622740.000  564842.000   997612.000  85434823.000 2340697.000   \n",
       "2019-06-19 7606221.000  610867.000   949638.000  78674377.000 1684486.000   \n",
       "2019-06-20 4408953.000  853766.000   813156.000 116570017.000 3288090.000   \n",
       "2019-06-21 3628064.000  620376.000   790153.000  83309466.000 2225992.000   \n",
       "2019-06-24 3549268.000  428676.000   606602.000  47582730.000 3518370.000   \n",
       "2019-06-25 2975598.000  358048.000   994354.000  82028656.000 2287082.000   \n",
       "2019-06-26 4210219.000  382706.000   756312.000  51584902.000 2988721.000   \n",
       "2019-06-26 4210219.000  382706.000   756312.000  51584902.000 2988721.000   \n",
       "\n",
       "            volume_VTI   volume_XLE   volume_XLI   volume_XLK  VIX High  \\\n",
       "2019-06-14 1401000.000  7916416.000  5966596.000  8441689.000    16.400   \n",
       "2019-06-17 2506104.000  8795248.000  7708766.000  9351130.000    15.760   \n",
       "2019-06-18 2261097.000 17222144.000 12506299.000 16181183.000    15.540   \n",
       "2019-06-19 4049930.000  8827665.000 11171676.000 12371290.000    15.710   \n",
       "2019-06-20 2968296.000 25953969.000 14503224.000 13891896.000    16.030   \n",
       "2019-06-21 2414269.000 16356327.000 11526835.000 20715371.000    15.480   \n",
       "2019-06-24 1977281.000 10396671.000  8388348.000  8216118.000    15.560   \n",
       "2019-06-25 2309499.000 11887333.000  9267637.000 13122665.000    16.680   \n",
       "2019-06-26 1904009.000 14326784.000  7262692.000  9069181.000    16.500   \n",
       "2019-06-26 1904009.000 14326784.000  7262692.000  9069181.000    16.500   \n",
       "\n",
       "            VIX High_Price_Tomorrow  \n",
       "2019-06-14                   15.760  \n",
       "2019-06-17                   15.540  \n",
       "2019-06-18                   15.710  \n",
       "2019-06-19                   16.030  \n",
       "2019-06-20                   15.480  \n",
       "2019-06-21                   15.560  \n",
       "2019-06-24                   16.680  \n",
       "2019-06-25                   16.500  \n",
       "2019-06-26                   16.500  \n",
       "2019-06-26                      nan  "
      ]
     },
     "execution_count": 1524,
     "metadata": {},
     "output_type": "execute_result"
    }
   ],
   "source": [
    "converted_data_final_df.tail(10)"
   ]
  },
  {
   "cell_type": "code",
   "execution_count": 1525,
   "metadata": {},
   "outputs": [],
   "source": [
    "# Drop last row for all columns so I remove the one NAN row for the 'VIX High_Price_Tomorrow' column\n",
    "# converted_data_final_df = converted_data_final_df[:-1]\n",
    "# this is a cleaner approach\n",
    "# df = df.dropna()\n",
    "converted_data_final_df = converted_data_final_df.dropna()"
   ]
  },
  {
   "cell_type": "code",
   "execution_count": 1526,
   "metadata": {},
   "outputs": [
    {
     "data": {
      "text/html": [
       "<div>\n",
       "<style scoped>\n",
       "    .dataframe tbody tr th:only-of-type {\n",
       "        vertical-align: middle;\n",
       "    }\n",
       "\n",
       "    .dataframe tbody tr th {\n",
       "        vertical-align: top;\n",
       "    }\n",
       "\n",
       "    .dataframe thead th {\n",
       "        text-align: right;\n",
       "    }\n",
       "</style>\n",
       "<table border=\"1\" class=\"dataframe\">\n",
       "  <thead>\n",
       "    <tr style=\"text-align: right;\">\n",
       "      <th></th>\n",
       "      <th>volume_IVV</th>\n",
       "      <th>volume_RSP</th>\n",
       "      <th>volume_SCHX</th>\n",
       "      <th>volume_SPY</th>\n",
       "      <th>volume_VOO</th>\n",
       "      <th>volume_VTI</th>\n",
       "      <th>volume_XLE</th>\n",
       "      <th>volume_XLI</th>\n",
       "      <th>volume_XLK</th>\n",
       "      <th>VIX High</th>\n",
       "      <th>VIX High_Price_Tomorrow</th>\n",
       "    </tr>\n",
       "  </thead>\n",
       "  <tbody>\n",
       "    <tr>\n",
       "      <th>2019-06-20</th>\n",
       "      <td>4408953.000</td>\n",
       "      <td>853766.000</td>\n",
       "      <td>813156.000</td>\n",
       "      <td>116570017.000</td>\n",
       "      <td>3288090.000</td>\n",
       "      <td>2968296.000</td>\n",
       "      <td>25953969.000</td>\n",
       "      <td>14503224.000</td>\n",
       "      <td>13891896.000</td>\n",
       "      <td>16.030</td>\n",
       "      <td>15.480</td>\n",
       "    </tr>\n",
       "    <tr>\n",
       "      <th>2019-06-21</th>\n",
       "      <td>3628064.000</td>\n",
       "      <td>620376.000</td>\n",
       "      <td>790153.000</td>\n",
       "      <td>83309466.000</td>\n",
       "      <td>2225992.000</td>\n",
       "      <td>2414269.000</td>\n",
       "      <td>16356327.000</td>\n",
       "      <td>11526835.000</td>\n",
       "      <td>20715371.000</td>\n",
       "      <td>15.480</td>\n",
       "      <td>15.560</td>\n",
       "    </tr>\n",
       "    <tr>\n",
       "      <th>2019-06-24</th>\n",
       "      <td>3549268.000</td>\n",
       "      <td>428676.000</td>\n",
       "      <td>606602.000</td>\n",
       "      <td>47582730.000</td>\n",
       "      <td>3518370.000</td>\n",
       "      <td>1977281.000</td>\n",
       "      <td>10396671.000</td>\n",
       "      <td>8388348.000</td>\n",
       "      <td>8216118.000</td>\n",
       "      <td>15.560</td>\n",
       "      <td>16.680</td>\n",
       "    </tr>\n",
       "    <tr>\n",
       "      <th>2019-06-25</th>\n",
       "      <td>2975598.000</td>\n",
       "      <td>358048.000</td>\n",
       "      <td>994354.000</td>\n",
       "      <td>82028656.000</td>\n",
       "      <td>2287082.000</td>\n",
       "      <td>2309499.000</td>\n",
       "      <td>11887333.000</td>\n",
       "      <td>9267637.000</td>\n",
       "      <td>13122665.000</td>\n",
       "      <td>16.680</td>\n",
       "      <td>16.500</td>\n",
       "    </tr>\n",
       "    <tr>\n",
       "      <th>2019-06-26</th>\n",
       "      <td>4210219.000</td>\n",
       "      <td>382706.000</td>\n",
       "      <td>756312.000</td>\n",
       "      <td>51584902.000</td>\n",
       "      <td>2988721.000</td>\n",
       "      <td>1904009.000</td>\n",
       "      <td>14326784.000</td>\n",
       "      <td>7262692.000</td>\n",
       "      <td>9069181.000</td>\n",
       "      <td>16.500</td>\n",
       "      <td>16.500</td>\n",
       "    </tr>\n",
       "  </tbody>\n",
       "</table>\n",
       "</div>"
      ],
      "text/plain": [
       "            volume_IVV  volume_RSP  volume_SCHX    volume_SPY  volume_VOO  \\\n",
       "2019-06-20 4408953.000  853766.000   813156.000 116570017.000 3288090.000   \n",
       "2019-06-21 3628064.000  620376.000   790153.000  83309466.000 2225992.000   \n",
       "2019-06-24 3549268.000  428676.000   606602.000  47582730.000 3518370.000   \n",
       "2019-06-25 2975598.000  358048.000   994354.000  82028656.000 2287082.000   \n",
       "2019-06-26 4210219.000  382706.000   756312.000  51584902.000 2988721.000   \n",
       "\n",
       "            volume_VTI   volume_XLE   volume_XLI   volume_XLK  VIX High  \\\n",
       "2019-06-20 2968296.000 25953969.000 14503224.000 13891896.000    16.030   \n",
       "2019-06-21 2414269.000 16356327.000 11526835.000 20715371.000    15.480   \n",
       "2019-06-24 1977281.000 10396671.000  8388348.000  8216118.000    15.560   \n",
       "2019-06-25 2309499.000 11887333.000  9267637.000 13122665.000    16.680   \n",
       "2019-06-26 1904009.000 14326784.000  7262692.000  9069181.000    16.500   \n",
       "\n",
       "            VIX High_Price_Tomorrow  \n",
       "2019-06-20                   15.480  \n",
       "2019-06-21                   15.560  \n",
       "2019-06-24                   16.680  \n",
       "2019-06-25                   16.500  \n",
       "2019-06-26                   16.500  "
      ]
     },
     "execution_count": 1526,
     "metadata": {},
     "output_type": "execute_result"
    }
   ],
   "source": [
    "converted_data_final_df.tail()"
   ]
  },
  {
   "cell_type": "code",
   "execution_count": 1527,
   "metadata": {
    "scrolled": true
   },
   "outputs": [
    {
     "data": {
      "image/png": "[encoded data removed]",
      "text/plain": [
       "<Figure size 1008x1008 with 12 Axes>"
      ]
     },
     "metadata": {
      "needs_background": "light"
     },
     "output_type": "display_data"
    }
   ],
   "source": [
    "# Plot histogram grid\n",
    "converted_data_final_df.hist(figsize=(14, 14), xrot=-45)\n",
    "\n",
    "# Clear the text residue\n",
    "plt.show()\n",
    "\n",
    "# vix_df['VIX Close'].hist() # Use this to plot a single column"
   ]
  },
  {
   "cell_type": "code",
   "execution_count": 1528,
   "metadata": {},
   "outputs": [
    {
     "name": "stdout",
     "output_type": "stream",
     "text": [
      "[]\n"
     ]
    }
   ],
   "source": [
    "# Check 'converted_data_df' columns for NANs\n",
    "print(converted_data_final_df.columns[converted_data_final_df.isna().any()].tolist())"
   ]
  },
  {
   "cell_type": "code",
   "execution_count": 1529,
   "metadata": {
    "scrolled": true
   },
   "outputs": [
    {
     "name": "stdout",
     "output_type": "stream",
     "text": [
      "volume_IVV                 0\n",
      "volume_RSP                 0\n",
      "volume_SCHX                0\n",
      "volume_SPY                 0\n",
      "volume_VOO                 0\n",
      "volume_VTI                 0\n",
      "volume_XLE                 0\n",
      "volume_XLI                 0\n",
      "volume_XLK                 0\n",
      "VIX High                   0\n",
      "VIX High_Price_Tomorrow    0\n",
      "dtype: int64\n"
     ]
    }
   ],
   "source": [
    "# Verify Nan were removed\n",
    "print(converted_data_final_df.isnull().sum()) # Displays the total number of NANs per column"
   ]
  },
  {
   "cell_type": "code",
   "execution_count": 1530,
   "metadata": {},
   "outputs": [],
   "source": [
    "# Create data_df Correlations \n",
    "data_correlations = converted_data_final_df.corr()"
   ]
  },
  {
   "cell_type": "code",
   "execution_count": 1531,
   "metadata": {},
   "outputs": [
    {
     "data": {
      "text/html": [
       "<div>\n",
       "<style scoped>\n",
       "    .dataframe tbody tr th:only-of-type {\n",
       "        vertical-align: middle;\n",
       "    }\n",
       "\n",
       "    .dataframe tbody tr th {\n",
       "        vertical-align: top;\n",
       "    }\n",
       "\n",
       "    .dataframe thead th {\n",
       "        text-align: right;\n",
       "    }\n",
       "</style>\n",
       "<table border=\"1\" class=\"dataframe\">\n",
       "  <thead>\n",
       "    <tr style=\"text-align: right;\">\n",
       "      <th></th>\n",
       "      <th>volume_IVV</th>\n",
       "      <th>volume_RSP</th>\n",
       "      <th>volume_SCHX</th>\n",
       "      <th>volume_SPY</th>\n",
       "      <th>volume_VOO</th>\n",
       "      <th>volume_VTI</th>\n",
       "      <th>volume_XLE</th>\n",
       "      <th>volume_XLI</th>\n",
       "      <th>volume_XLK</th>\n",
       "      <th>VIX High</th>\n",
       "      <th>VIX High_Price_Tomorrow</th>\n",
       "    </tr>\n",
       "  </thead>\n",
       "  <tbody>\n",
       "    <tr>\n",
       "      <th>volume_IVV</th>\n",
       "      <td>1.000</td>\n",
       "      <td>0.593</td>\n",
       "      <td>0.555</td>\n",
       "      <td>0.788</td>\n",
       "      <td>0.793</td>\n",
       "      <td>0.771</td>\n",
       "      <td>0.632</td>\n",
       "      <td>0.550</td>\n",
       "      <td>0.593</td>\n",
       "      <td>0.702</td>\n",
       "      <td>0.713</td>\n",
       "    </tr>\n",
       "    <tr>\n",
       "      <th>volume_RSP</th>\n",
       "      <td>0.593</td>\n",
       "      <td>1.000</td>\n",
       "      <td>0.511</td>\n",
       "      <td>0.650</td>\n",
       "      <td>0.630</td>\n",
       "      <td>0.629</td>\n",
       "      <td>0.520</td>\n",
       "      <td>0.490</td>\n",
       "      <td>0.487</td>\n",
       "      <td>0.656</td>\n",
       "      <td>0.630</td>\n",
       "    </tr>\n",
       "    <tr>\n",
       "      <th>volume_SCHX</th>\n",
       "      <td>0.555</td>\n",
       "      <td>0.511</td>\n",
       "      <td>1.000</td>\n",
       "      <td>0.569</td>\n",
       "      <td>0.559</td>\n",
       "      <td>0.622</td>\n",
       "      <td>0.439</td>\n",
       "      <td>0.445</td>\n",
       "      <td>0.473</td>\n",
       "      <td>0.565</td>\n",
       "      <td>0.554</td>\n",
       "    </tr>\n",
       "    <tr>\n",
       "      <th>volume_SPY</th>\n",
       "      <td>0.788</td>\n",
       "      <td>0.650</td>\n",
       "      <td>0.569</td>\n",
       "      <td>1.000</td>\n",
       "      <td>0.818</td>\n",
       "      <td>0.770</td>\n",
       "      <td>0.750</td>\n",
       "      <td>0.788</td>\n",
       "      <td>0.817</td>\n",
       "      <td>0.824</td>\n",
       "      <td>0.829</td>\n",
       "    </tr>\n",
       "    <tr>\n",
       "      <th>volume_VOO</th>\n",
       "      <td>0.793</td>\n",
       "      <td>0.630</td>\n",
       "      <td>0.559</td>\n",
       "      <td>0.818</td>\n",
       "      <td>1.000</td>\n",
       "      <td>0.825</td>\n",
       "      <td>0.621</td>\n",
       "      <td>0.578</td>\n",
       "      <td>0.641</td>\n",
       "      <td>0.746</td>\n",
       "      <td>0.743</td>\n",
       "    </tr>\n",
       "    <tr>\n",
       "      <th>volume_VTI</th>\n",
       "      <td>0.771</td>\n",
       "      <td>0.629</td>\n",
       "      <td>0.622</td>\n",
       "      <td>0.770</td>\n",
       "      <td>0.825</td>\n",
       "      <td>1.000</td>\n",
       "      <td>0.568</td>\n",
       "      <td>0.514</td>\n",
       "      <td>0.621</td>\n",
       "      <td>0.777</td>\n",
       "      <td>0.767</td>\n",
       "    </tr>\n",
       "    <tr>\n",
       "      <th>volume_XLE</th>\n",
       "      <td>0.632</td>\n",
       "      <td>0.520</td>\n",
       "      <td>0.439</td>\n",
       "      <td>0.750</td>\n",
       "      <td>0.621</td>\n",
       "      <td>0.568</td>\n",
       "      <td>1.000</td>\n",
       "      <td>0.653</td>\n",
       "      <td>0.628</td>\n",
       "      <td>0.649</td>\n",
       "      <td>0.676</td>\n",
       "    </tr>\n",
       "    <tr>\n",
       "      <th>volume_XLI</th>\n",
       "      <td>0.550</td>\n",
       "      <td>0.490</td>\n",
       "      <td>0.445</td>\n",
       "      <td>0.788</td>\n",
       "      <td>0.578</td>\n",
       "      <td>0.514</td>\n",
       "      <td>0.653</td>\n",
       "      <td>1.000</td>\n",
       "      <td>0.777</td>\n",
       "      <td>0.606</td>\n",
       "      <td>0.609</td>\n",
       "    </tr>\n",
       "    <tr>\n",
       "      <th>volume_XLK</th>\n",
       "      <td>0.593</td>\n",
       "      <td>0.487</td>\n",
       "      <td>0.473</td>\n",
       "      <td>0.817</td>\n",
       "      <td>0.641</td>\n",
       "      <td>0.621</td>\n",
       "      <td>0.628</td>\n",
       "      <td>0.777</td>\n",
       "      <td>1.000</td>\n",
       "      <td>0.609</td>\n",
       "      <td>0.614</td>\n",
       "    </tr>\n",
       "    <tr>\n",
       "      <th>VIX High</th>\n",
       "      <td>0.702</td>\n",
       "      <td>0.656</td>\n",
       "      <td>0.565</td>\n",
       "      <td>0.824</td>\n",
       "      <td>0.746</td>\n",
       "      <td>0.777</td>\n",
       "      <td>0.649</td>\n",
       "      <td>0.606</td>\n",
       "      <td>0.609</td>\n",
       "      <td>1.000</td>\n",
       "      <td>0.949</td>\n",
       "    </tr>\n",
       "    <tr>\n",
       "      <th>VIX High_Price_Tomorrow</th>\n",
       "      <td>0.713</td>\n",
       "      <td>0.630</td>\n",
       "      <td>0.554</td>\n",
       "      <td>0.829</td>\n",
       "      <td>0.743</td>\n",
       "      <td>0.767</td>\n",
       "      <td>0.676</td>\n",
       "      <td>0.609</td>\n",
       "      <td>0.614</td>\n",
       "      <td>0.949</td>\n",
       "      <td>1.000</td>\n",
       "    </tr>\n",
       "  </tbody>\n",
       "</table>\n",
       "</div>"
      ],
      "text/plain": [
       "                         volume_IVV  volume_RSP  volume_SCHX  volume_SPY  \\\n",
       "volume_IVV                    1.000       0.593        0.555       0.788   \n",
       "volume_RSP                    0.593       1.000        0.511       0.650   \n",
       "volume_SCHX                   0.555       0.511        1.000       0.569   \n",
       "volume_SPY                    0.788       0.650        0.569       1.000   \n",
       "volume_VOO                    0.793       0.630        0.559       0.818   \n",
       "volume_VTI                    0.771       0.629        0.622       0.770   \n",
       "volume_XLE                    0.632       0.520        0.439       0.750   \n",
       "volume_XLI                    0.550       0.490        0.445       0.788   \n",
       "volume_XLK                    0.593       0.487        0.473       0.817   \n",
       "VIX High                      0.702       0.656        0.565       0.824   \n",
       "VIX High_Price_Tomorrow       0.713       0.630        0.554       0.829   \n",
       "\n",
       "                         volume_VOO  volume_VTI  volume_XLE  volume_XLI  \\\n",
       "volume_IVV                    0.793       0.771       0.632       0.550   \n",
       "volume_RSP                    0.630       0.629       0.520       0.490   \n",
       "volume_SCHX                   0.559       0.622       0.439       0.445   \n",
       "volume_SPY                    0.818       0.770       0.750       0.788   \n",
       "volume_VOO                    1.000       0.825       0.621       0.578   \n",
       "volume_VTI                    0.825       1.000       0.568       0.514   \n",
       "volume_XLE                    0.621       0.568       1.000       0.653   \n",
       "volume_XLI                    0.578       0.514       0.653       1.000   \n",
       "volume_XLK                    0.641       0.621       0.628       0.777   \n",
       "VIX High                      0.746       0.777       0.649       0.606   \n",
       "VIX High_Price_Tomorrow       0.743       0.767       0.676       0.609   \n",
       "\n",
       "                         volume_XLK  VIX High  VIX High_Price_Tomorrow  \n",
       "volume_IVV                    0.593     0.702                    0.713  \n",
       "volume_RSP                    0.487     0.656                    0.630  \n",
       "volume_SCHX                   0.473     0.565                    0.554  \n",
       "volume_SPY                    0.817     0.824                    0.829  \n",
       "volume_VOO                    0.641     0.746                    0.743  \n",
       "volume_VTI                    0.621     0.777                    0.767  \n",
       "volume_XLE                    0.628     0.649                    0.676  \n",
       "volume_XLI                    0.777     0.606                    0.609  \n",
       "volume_XLK                    1.000     0.609                    0.614  \n",
       "VIX High                      0.609     1.000                    0.949  \n",
       "VIX High_Price_Tomorrow       0.614     0.949                    1.000  "
      ]
     },
     "execution_count": 1531,
     "metadata": {},
     "output_type": "execute_result"
    }
   ],
   "source": [
    "# Check for NAN in data_correlations\n",
    "data_correlations"
   ]
  },
  {
   "cell_type": "code",
   "execution_count": 1532,
   "metadata": {
    "scrolled": false
   },
   "outputs": [
    {
     "data": {
      "text/plain": [
       "<matplotlib.axes._subplots.AxesSubplot at 0x22641558630>"
      ]
     },
     "execution_count": 1532,
     "metadata": {},
     "output_type": "execute_result"
    },
    {
     "data": {
      "image/png": "[encoded data removed]",
      "text/plain": [
       "<Figure size 648x576 with 1 Axes>"
      ]
     },
     "metadata": {},
     "output_type": "display_data"
    }
   ],
   "source": [
    "# Change color scheme\n",
    "sns.set_style(\"white\")\n",
    "\n",
    "# Generate a mask for the upper triangle\n",
    "mask = np.zeros_like(data_correlations, dtype=np.bool)\n",
    "mask[np.triu_indices_from(mask)] = True\n",
    "\n",
    "# Make the figsize 9 x 8\n",
    "plt.figure(figsize=(9,8))\n",
    "\n",
    "# Plot heatmap of fb_correlations\n",
    "sns.heatmap(data_correlations * 100,\n",
    "           annot=True, fmt='.0f',\n",
    "           mask=mask,\n",
    "           cmap='RdBu_r',\n",
    "           cbar=False)"
   ]
  },
  {
   "cell_type": "markdown",
   "metadata": {},
   "source": [
    "## Prepare ABT table"
   ]
  },
  {
   "cell_type": "code",
   "execution_count": 1533,
   "metadata": {},
   "outputs": [],
   "source": [
    "# Saving Analytical base table to pass to models - Not doing this step as it removes our DateTime index\n",
    "# Tt may not be important, but for now we will be using the converted_data_final_df and NOT saving an ABT table\n",
    "# converted_data_final_df.to_csv('Data/Final_cleaned_data_sources/analytical_base_table.csv')"
   ]
  },
  {
   "cell_type": "markdown",
   "metadata": {},
   "source": [
    "# Section 6\n",
    "\n",
    "## Algorithm Selection"
   ]
  },
  {
   "cell_type": "markdown",
   "metadata": {},
   "source": [
    "### I started with these 5 Algorithms to test and see which one best fit for this project\n",
    "Lasso\n",
    "\n",
    "Ridge Regression\n",
    "\n",
    "Enet\n",
    "\n",
    "Random Forest \n",
    "\n",
    "Grandient Boosting\n",
    "\n",
    "\n",
    "### Practical benefits \n",
    "The winning Algorithm was Lasso Regression ( Least Absolute Shrinkage and Selection Operator ). \n",
    "\n",
    "Lasso regression is optimized for prediction, rather than inference, which makes it a great fit for our project.\n",
    "\n",
    "Lasso regression allows you to regularize (\"shrink\") coefficients. This means that the estimated coefficients are pushed towards 0, to make them work better on new data-sets (\"optimized for prediction\"). This allows us to use complex models and avoid over-fitting at the same time.\n",
    "\n",
    "### Lasso key hyperparamters to tune \n",
    "lasso__alpha is the key hyperparameter to tune for Lasso Regression and is the only one we tuned for this project."
   ]
  },
  {
   "cell_type": "markdown",
   "metadata": {},
   "source": [
    "# Section 7\n",
    "\n",
    "## Model Training"
   ]
  },
  {
   "cell_type": "code",
   "execution_count": 1534,
   "metadata": {},
   "outputs": [],
   "source": [
    "# I am trying 2 data sets, this is the first data set\n",
    "# Create separate object for target variable - this is the value we are trying to predict ( if the number is higher we can safely assume the VIX will go up tomorrow )\n",
    "y = converted_data_final_df['VIX High_Price_Tomorrow']\n",
    "\n",
    "# Create separate object for input features - we are removing the VIX High from X\n",
    "X = converted_data_final_df.drop('VIX High_Price_Tomorrow', axis=1)"
   ]
  },
  {
   "cell_type": "code",
   "execution_count": 1535,
   "metadata": {},
   "outputs": [],
   "source": [
    "# I am trying 2 data sets, this is the second data set\n",
    "# Create separate object for target variable - this is the value we are trying to predict ( if the number is higher we can safely assume the VIX will go up tomorrow )\n",
    "yy = converted_data_final_df['VIX High_Price_Tomorrow']\n",
    "\n",
    "# Create separate object for input features - we are removing the VIX High from XX\n",
    "XX = converted_data_final_df.drop('VIX High_Price_Tomorrow', axis=1)"
   ]
  },
  {
   "cell_type": "code",
   "execution_count": 1536,
   "metadata": {
    "scrolled": true
   },
   "outputs": [
    {
     "name": "stdout",
     "output_type": "stream",
     "text": [
      "2019-06-20   15.480\n",
      "2019-06-21   15.560\n",
      "2019-06-24   16.680\n",
      "2019-06-25   16.500\n",
      "2019-06-26   16.500\n",
      "Name: VIX High_Price_Tomorrow, dtype: float64\n"
     ]
    }
   ],
   "source": [
    "# Checking the yy.data frame\n",
    "print(yy.tail())"
   ]
  },
  {
   "cell_type": "code",
   "execution_count": 1537,
   "metadata": {
    "scrolled": true
   },
   "outputs": [
    {
     "name": "stdout",
     "output_type": "stream",
     "text": [
      "            volume_IVV  volume_RSP  volume_SCHX    volume_SPY  volume_VOO  \\\n",
      "2019-06-20 4408953.000  853766.000   813156.000 116570017.000 3288090.000   \n",
      "2019-06-21 3628064.000  620376.000   790153.000  83309466.000 2225992.000   \n",
      "2019-06-24 3549268.000  428676.000   606602.000  47582730.000 3518370.000   \n",
      "2019-06-25 2975598.000  358048.000   994354.000  82028656.000 2287082.000   \n",
      "2019-06-26 4210219.000  382706.000   756312.000  51584902.000 2988721.000   \n",
      "\n",
      "            volume_VTI   volume_XLE   volume_XLI   volume_XLK  VIX High  \n",
      "2019-06-20 2968296.000 25953969.000 14503224.000 13891896.000    16.030  \n",
      "2019-06-21 2414269.000 16356327.000 11526835.000 20715371.000    15.480  \n",
      "2019-06-24 1977281.000 10396671.000  8388348.000  8216118.000    15.560  \n",
      "2019-06-25 2309499.000 11887333.000  9267637.000 13122665.000    16.680  \n",
      "2019-06-26 1904009.000 14326784.000  7262692.000  9069181.000    16.500  \n"
     ]
    }
   ],
   "source": [
    "# Checking the XX data frame\n",
    "print(XX.tail())"
   ]
  },
  {
   "cell_type": "code",
   "execution_count": 1538,
   "metadata": {},
   "outputs": [],
   "source": [
    "# Split X and y into train and test sets - using the first data set\n",
    "X_train, X_test, y_train, y_test = train_test_split(X, y,\n",
    "                                                   test_size=0.2,\n",
    "                                                   random_state=1234)"
   ]
  },
  {
   "cell_type": "code",
   "execution_count": 1539,
   "metadata": {},
   "outputs": [
    {
     "name": "stdout",
     "output_type": "stream",
     "text": [
      "200 51 200 51\n"
     ]
    }
   ],
   "source": [
    "# Confirm we have the right number of observations in each subset - using the first data set\n",
    "print( len(X_train), len(X_test), len(y_train), len(y_test))"
   ]
  },
  {
   "cell_type": "code",
   "execution_count": 1540,
   "metadata": {},
   "outputs": [
    {
     "data": {
      "text/html": [
       "<div>\n",
       "<style scoped>\n",
       "    .dataframe tbody tr th:only-of-type {\n",
       "        vertical-align: middle;\n",
       "    }\n",
       "\n",
       "    .dataframe tbody tr th {\n",
       "        vertical-align: top;\n",
       "    }\n",
       "\n",
       "    .dataframe thead th {\n",
       "        text-align: right;\n",
       "    }\n",
       "</style>\n",
       "<table border=\"1\" class=\"dataframe\">\n",
       "  <thead>\n",
       "    <tr style=\"text-align: right;\">\n",
       "      <th></th>\n",
       "      <th>volume_IVV</th>\n",
       "      <th>volume_RSP</th>\n",
       "      <th>volume_SCHX</th>\n",
       "      <th>volume_SPY</th>\n",
       "      <th>volume_VOO</th>\n",
       "      <th>volume_VTI</th>\n",
       "      <th>volume_XLE</th>\n",
       "      <th>volume_XLI</th>\n",
       "      <th>volume_XLK</th>\n",
       "      <th>VIX High</th>\n",
       "    </tr>\n",
       "  </thead>\n",
       "  <tbody>\n",
       "    <tr>\n",
       "      <th>count</th>\n",
       "      <td>200.000</td>\n",
       "      <td>200.000</td>\n",
       "      <td>200.000</td>\n",
       "      <td>200.000</td>\n",
       "      <td>200.000</td>\n",
       "      <td>200.000</td>\n",
       "      <td>200.000</td>\n",
       "      <td>200.000</td>\n",
       "      <td>200.000</td>\n",
       "      <td>200.000</td>\n",
       "    </tr>\n",
       "    <tr>\n",
       "      <th>mean</th>\n",
       "      <td>4335708.815</td>\n",
       "      <td>919761.555</td>\n",
       "      <td>1463910.700</td>\n",
       "      <td>84941956.715</td>\n",
       "      <td>3067113.685</td>\n",
       "      <td>3235444.075</td>\n",
       "      <td>14869533.015</td>\n",
       "      <td>13245377.170</td>\n",
       "      <td>14853311.975</td>\n",
       "      <td>17.478</td>\n",
       "    </tr>\n",
       "    <tr>\n",
       "      <th>std</th>\n",
       "      <td>2046785.669</td>\n",
       "      <td>692093.802</td>\n",
       "      <td>1271219.129</td>\n",
       "      <td>37375285.718</td>\n",
       "      <td>1574698.675</td>\n",
       "      <td>2120319.623</td>\n",
       "      <td>6037546.212</td>\n",
       "      <td>5139895.184</td>\n",
       "      <td>6493714.076</td>\n",
       "      <td>4.580</td>\n",
       "    </tr>\n",
       "    <tr>\n",
       "      <th>min</th>\n",
       "      <td>1367814.000</td>\n",
       "      <td>151177.000</td>\n",
       "      <td>558458.000</td>\n",
       "      <td>35716976.000</td>\n",
       "      <td>830910.000</td>\n",
       "      <td>1169609.000</td>\n",
       "      <td>6803809.000</td>\n",
       "      <td>5460333.000</td>\n",
       "      <td>5338114.000</td>\n",
       "      <td>11.240</td>\n",
       "    </tr>\n",
       "    <tr>\n",
       "      <th>25%</th>\n",
       "      <td>2992933.000</td>\n",
       "      <td>463112.500</td>\n",
       "      <td>893780.750</td>\n",
       "      <td>58636426.000</td>\n",
       "      <td>1987943.000</td>\n",
       "      <td>2033435.500</td>\n",
       "      <td>10554519.750</td>\n",
       "      <td>9527583.000</td>\n",
       "      <td>10174340.500</td>\n",
       "      <td>13.855</td>\n",
       "    </tr>\n",
       "    <tr>\n",
       "      <th>50%</th>\n",
       "      <td>3850977.500</td>\n",
       "      <td>700705.500</td>\n",
       "      <td>1098085.000</td>\n",
       "      <td>74305590.500</td>\n",
       "      <td>2710674.500</td>\n",
       "      <td>2623711.500</td>\n",
       "      <td>13055417.500</td>\n",
       "      <td>12215189.500</td>\n",
       "      <td>13676272.500</td>\n",
       "      <td>16.435</td>\n",
       "    </tr>\n",
       "    <tr>\n",
       "      <th>75%</th>\n",
       "      <td>5008538.750</td>\n",
       "      <td>1063991.750</td>\n",
       "      <td>1561223.750</td>\n",
       "      <td>102325934.500</td>\n",
       "      <td>3614970.000</td>\n",
       "      <td>3715433.500</td>\n",
       "      <td>17459251.500</td>\n",
       "      <td>15624825.500</td>\n",
       "      <td>17837150.250</td>\n",
       "      <td>19.995</td>\n",
       "    </tr>\n",
       "    <tr>\n",
       "      <th>max</th>\n",
       "      <td>14262694.000</td>\n",
       "      <td>4104028.000</td>\n",
       "      <td>13570521.000</td>\n",
       "      <td>255345633.000</td>\n",
       "      <td>11811553.000</td>\n",
       "      <td>16128459.000</td>\n",
       "      <td>45548907.000</td>\n",
       "      <td>34330876.000</td>\n",
       "      <td>42743594.000</td>\n",
       "      <td>36.100</td>\n",
       "    </tr>\n",
       "  </tbody>\n",
       "</table>\n",
       "</div>"
      ],
      "text/plain": [
       "        volume_IVV  volume_RSP  volume_SCHX    volume_SPY   volume_VOO  \\\n",
       "count      200.000     200.000      200.000       200.000      200.000   \n",
       "mean   4335708.815  919761.555  1463910.700  84941956.715  3067113.685   \n",
       "std    2046785.669  692093.802  1271219.129  37375285.718  1574698.675   \n",
       "min    1367814.000  151177.000   558458.000  35716976.000   830910.000   \n",
       "25%    2992933.000  463112.500   893780.750  58636426.000  1987943.000   \n",
       "50%    3850977.500  700705.500  1098085.000  74305590.500  2710674.500   \n",
       "75%    5008538.750 1063991.750  1561223.750 102325934.500  3614970.000   \n",
       "max   14262694.000 4104028.000 13570521.000 255345633.000 11811553.000   \n",
       "\n",
       "        volume_VTI   volume_XLE   volume_XLI   volume_XLK  VIX High  \n",
       "count      200.000      200.000      200.000      200.000   200.000  \n",
       "mean   3235444.075 14869533.015 13245377.170 14853311.975    17.478  \n",
       "std    2120319.623  6037546.212  5139895.184  6493714.076     4.580  \n",
       "min    1169609.000  6803809.000  5460333.000  5338114.000    11.240  \n",
       "25%    2033435.500 10554519.750  9527583.000 10174340.500    13.855  \n",
       "50%    2623711.500 13055417.500 12215189.500 13676272.500    16.435  \n",
       "75%    3715433.500 17459251.500 15624825.500 17837150.250    19.995  \n",
       "max   16128459.000 45548907.000 34330876.000 42743594.000    36.100  "
      ]
     },
     "execution_count": 1540,
     "metadata": {},
     "output_type": "execute_result"
    }
   ],
   "source": [
    "# Our first data set - BEFORE standardization\n",
    "X_train.describe()"
   ]
  },
  {
   "cell_type": "code",
   "execution_count": 1541,
   "metadata": {},
   "outputs": [],
   "source": [
    "# Create pipelines dictionary\n",
    "pipelines = {\n",
    "    'lasso' : make_pipeline(StandardScaler(), Lasso(random_state=123)),\n",
    "    'ridge' : make_pipeline(StandardScaler(), Ridge(random_state=123)),\n",
    "    'enet' : make_pipeline(StandardScaler(), ElasticNet(random_state=123)),\n",
    "    'rf' : make_pipeline(StandardScaler(), RandomForestRegressor(random_state=123)),\n",
    "    'gb' : make_pipeline(StandardScaler(), GradientBoostingRegressor(random_state=123))\n",
    "}"
   ]
  },
  {
   "cell_type": "code",
   "execution_count": 1542,
   "metadata": {},
   "outputs": [
    {
     "name": "stdout",
     "output_type": "stream",
     "text": [
      "lasso Pipeline(memory=None,\n",
      "     steps=[('standardscaler', StandardScaler(copy=True, with_mean=True, with_std=True)), ('lasso', Lasso(alpha=1.0, copy_X=True, fit_intercept=True, max_iter=1000,\n",
      "   normalize=False, positive=False, precompute=False, random_state=123,\n",
      "   selection='cyclic', tol=0.0001, warm_start=False))])\n",
      "ridge Pipeline(memory=None,\n",
      "     steps=[('standardscaler', StandardScaler(copy=True, with_mean=True, with_std=True)), ('ridge', Ridge(alpha=1.0, copy_X=True, fit_intercept=True, max_iter=None,\n",
      "   normalize=False, random_state=123, solver='auto', tol=0.001))])\n",
      "enet Pipeline(memory=None,\n",
      "     steps=[('standardscaler', StandardScaler(copy=True, with_mean=True, with_std=True)), ('elasticnet', ElasticNet(alpha=1.0, copy_X=True, fit_intercept=True, l1_ratio=0.5,\n",
      "      max_iter=1000, normalize=False, positive=False, precompute=False,\n",
      "      random_state=123, selection='cyclic', tol=0.0001, warm_start=False))])\n",
      "rf Pipeline(memory=None,\n",
      "     steps=[('standardscaler', StandardScaler(copy=True, with_mean=True, with_std=True)), ('randomforestregressor', RandomForestRegressor(bootstrap=True, criterion='mse', max_depth=None,\n",
      "           max_features='auto', max_leaf_nodes=None,\n",
      "           min_impurity_decrease=0.0, min_impurity_split=None,\n",
      "  ...rs='warn', n_jobs=None,\n",
      "           oob_score=False, random_state=123, verbose=0, warm_start=False))])\n",
      "gb Pipeline(memory=None,\n",
      "     steps=[('standardscaler', StandardScaler(copy=True, with_mean=True, with_std=True)), ('gradientboostingregressor', GradientBoostingRegressor(alpha=0.9, criterion='friedman_mse', init=None,\n",
      "             learning_rate=0.1, loss='ls', max_depth=3, max_features=None,\n",
      "             max_leaf_nodes=None, mi...123, subsample=1.0, tol=0.0001,\n",
      "             validation_fraction=0.1, verbose=0, warm_start=False))])\n"
     ]
    }
   ],
   "source": [
    "# Loop over the pipelines to see that all 3 have been added\n",
    "for key, value in pipelines.items():\n",
    "    print(key, value)"
   ]
  },
  {
   "cell_type": "code",
   "execution_count": 1543,
   "metadata": {
    "scrolled": true
   },
   "outputs": [
    {
     "name": "stdout",
     "output_type": "stream",
     "text": [
      "lasso <class 'sklearn.pipeline.Pipeline'>\n",
      "ridge <class 'sklearn.pipeline.Pipeline'>\n",
      "enet <class 'sklearn.pipeline.Pipeline'>\n",
      "rf <class 'sklearn.pipeline.Pipeline'>\n",
      "gb <class 'sklearn.pipeline.Pipeline'>\n"
     ]
    }
   ],
   "source": [
    "# Check that all model pipelines are of the correct type\n",
    "for key, value in pipelines.items():\n",
    "    print(key, type(value))"
   ]
  },
  {
   "cell_type": "code",
   "execution_count": 1544,
   "metadata": {},
   "outputs": [
    {
     "data": {
      "text/plain": [
       "{'memory': None,\n",
       " 'steps': [('standardscaler',\n",
       "   StandardScaler(copy=True, with_mean=True, with_std=True)),\n",
       "  ('gradientboostingregressor',\n",
       "   GradientBoostingRegressor(alpha=0.9, criterion='friedman_mse', init=None,\n",
       "                learning_rate=0.1, loss='ls', max_depth=3, max_features=None,\n",
       "                max_leaf_nodes=None, min_impurity_decrease=0.0,\n",
       "                min_impurity_split=None, min_samples_leaf=1,\n",
       "                min_samples_split=2, min_weight_fraction_leaf=0.0,\n",
       "                n_estimators=100, n_iter_no_change=None, presort='auto',\n",
       "                random_state=123, subsample=1.0, tol=0.0001,\n",
       "                validation_fraction=0.1, verbose=0, warm_start=False))],\n",
       " 'standardscaler': StandardScaler(copy=True, with_mean=True, with_std=True),\n",
       " 'gradientboostingregressor': GradientBoostingRegressor(alpha=0.9, criterion='friedman_mse', init=None,\n",
       "              learning_rate=0.1, loss='ls', max_depth=3, max_features=None,\n",
       "              max_leaf_nodes=None, min_impurity_decrease=0.0,\n",
       "              min_impurity_split=None, min_samples_leaf=1,\n",
       "              min_samples_split=2, min_weight_fraction_leaf=0.0,\n",
       "              n_estimators=100, n_iter_no_change=None, presort='auto',\n",
       "              random_state=123, subsample=1.0, tol=0.0001,\n",
       "              validation_fraction=0.1, verbose=0, warm_start=False),\n",
       " 'standardscaler__copy': True,\n",
       " 'standardscaler__with_mean': True,\n",
       " 'standardscaler__with_std': True,\n",
       " 'gradientboostingregressor__alpha': 0.9,\n",
       " 'gradientboostingregressor__criterion': 'friedman_mse',\n",
       " 'gradientboostingregressor__init': None,\n",
       " 'gradientboostingregressor__learning_rate': 0.1,\n",
       " 'gradientboostingregressor__loss': 'ls',\n",
       " 'gradientboostingregressor__max_depth': 3,\n",
       " 'gradientboostingregressor__max_features': None,\n",
       " 'gradientboostingregressor__max_leaf_nodes': None,\n",
       " 'gradientboostingregressor__min_impurity_decrease': 0.0,\n",
       " 'gradientboostingregressor__min_impurity_split': None,\n",
       " 'gradientboostingregressor__min_samples_leaf': 1,\n",
       " 'gradientboostingregressor__min_samples_split': 2,\n",
       " 'gradientboostingregressor__min_weight_fraction_leaf': 0.0,\n",
       " 'gradientboostingregressor__n_estimators': 100,\n",
       " 'gradientboostingregressor__n_iter_no_change': None,\n",
       " 'gradientboostingregressor__presort': 'auto',\n",
       " 'gradientboostingregressor__random_state': 123,\n",
       " 'gradientboostingregressor__subsample': 1.0,\n",
       " 'gradientboostingregressor__tol': 0.0001,\n",
       " 'gradientboostingregressor__validation_fraction': 0.1,\n",
       " 'gradientboostingregressor__verbose': 0,\n",
       " 'gradientboostingregressor__warm_start': False}"
      ]
     },
     "execution_count": 1544,
     "metadata": {},
     "output_type": "execute_result"
    }
   ],
   "source": [
    "# List the tunable hyperparameters for lasso regression pipeline\n",
    "pipelines['gb'].get_params()"
   ]
  },
  {
   "cell_type": "code",
   "execution_count": 1545,
   "metadata": {},
   "outputs": [],
   "source": [
    "# Model hyperparameters to try\n",
    "\n",
    "# Lasso hyperparameters\n",
    "lasso_hyperparameters = {\n",
    "    'lasso__alpha' : [0.001, 0.005, 0.01, 0.05, 0.1, 0.5, 1, 5, 10]\n",
    "}\n",
    "\n",
    "# ridge hyperparameters\n",
    "ridge_hyperparameters = {\n",
    "    'ridge__alpha' : [0.001, 0.005, 0.01, 0.05, 0.1, 0.5, 1, 5, 10]\n",
    "}\n",
    "\n",
    "# Elastic Net hyperparameters\n",
    "enet_hyperparameters = {\n",
    "    'elasticnet__alpha' : [0.001, 0.005, 0.01, 0.05, 0.1, 0.5, 1, 5, 10],\n",
    "    'elasticnet__l1_ratio' : [0.1, 0.3, 0.5, 0.7, 0.9]\n",
    "}\n",
    "\n",
    "# Random Forest Regressor hyperparameters\n",
    "rf_hyperparameters = {\n",
    "    'randomforestregressor__n_estimators': [100, 200], # This is how many trees to include\n",
    "    'randomforestregressor__max_features': ['auto', 'sqrt', 0.33]\n",
    "}\n",
    "\n",
    "# Gradient Boosting Regressor hyperparameters\n",
    "gb_hyperparameters = {\n",
    "    'gradientboostingregressor__n_estimators': [100, 200],\n",
    "    'gradientboostingregressor__learning_rate': [0.05, 0.1, 0.2],\n",
    "    'gradientboostingregressor__max_depth': [1, 3, 5]\n",
    "}"
   ]
  },
  {
   "cell_type": "code",
   "execution_count": 1546,
   "metadata": {},
   "outputs": [],
   "source": [
    "# Create hyperparameters dictionary\n",
    "hyperparameters = {\n",
    "    'lasso' : lasso_hyperparameters,\n",
    "    'ridge' : ridge_hyperparameters,\n",
    "    'enet' : enet_hyperparameters,\n",
    "    'rf' : rf_hyperparameters,\n",
    "    'gb': gb_hyperparameters\n",
    "}"
   ]
  },
  {
   "cell_type": "code",
   "execution_count": 1547,
   "metadata": {},
   "outputs": [
    {
     "name": "stdout",
     "output_type": "stream",
     "text": [
      "lasso was found in hyperparameters, and it is a grid.\n",
      "ridge was found in hyperparameters, and it is a grid.\n",
      "enet was found in hyperparameters, and it is a grid.\n",
      "rf was found in hyperparameters, and it is a grid.\n",
      "gb was found in hyperparameters, and it is a grid.\n"
     ]
    }
   ],
   "source": [
    "# Check that hyperparameters are set up correctly\n",
    "for key in ['lasso', 'ridge', 'enet', 'rf', 'gb']:\n",
    "    if key in hyperparameters:\n",
    "        if type(hyperparameters[key]) is dict:\n",
    "            print(key, 'was found in hyperparameters, and it is a grid.')\n",
    "        else:\n",
    "            print(key, 'was found in hyperparameters, but it is not a grid.')\n",
    "    else:\n",
    "        print(key, 'was not found in hyperparameters')     "
   ]
  },
  {
   "cell_type": "code",
   "execution_count": 1548,
   "metadata": {},
   "outputs": [
    {
     "name": "stdout",
     "output_type": "stream",
     "text": [
      "lasso has been fitted.\n",
      "ridge has been fitted.\n",
      "enet has been fitted.\n",
      "rf has been fitted.\n",
      "gb has been fitted.\n"
     ]
    }
   ],
   "source": [
    "# Fit and tune all of the models in single loop\n",
    "\n",
    "# Create empty dictionary called fitted_models\n",
    "fitted_models = {}\n",
    "\n",
    "# Loop through model pipelines, tuning each one and saving it to fitted_models\n",
    "for name, pipeline in pipelines.items():\n",
    "    model = GridSearchCV(pipeline, hyperparameters[name], cv=10, n_jobs=-1)\n",
    "    \n",
    "    # Fit model on X_train, y_train\n",
    "    model.fit(X_train, y_train)\n",
    "    \n",
    "    # Store model in fitted_models[name]\n",
    "    fitted_models[name] = model \n",
    "    \n",
    "    # Print '{name} has been fitted'\n",
    "    print(name, 'has been fitted.') "
   ]
  },
  {
   "cell_type": "code",
   "execution_count": 1549,
   "metadata": {},
   "outputs": [
    {
     "name": "stdout",
     "output_type": "stream",
     "text": [
      "lasso <class 'sklearn.model_selection._search.GridSearchCV'>\n",
      "ridge <class 'sklearn.model_selection._search.GridSearchCV'>\n",
      "enet <class 'sklearn.model_selection._search.GridSearchCV'>\n",
      "rf <class 'sklearn.model_selection._search.GridSearchCV'>\n",
      "gb <class 'sklearn.model_selection._search.GridSearchCV'>\n"
     ]
    }
   ],
   "source": [
    "# Check models are of the correct type\n",
    "for key, value in fitted_models.items():\n",
    "    print(key, type(value))"
   ]
  },
  {
   "cell_type": "code",
   "execution_count": 1550,
   "metadata": {},
   "outputs": [
    {
     "name": "stdout",
     "output_type": "stream",
     "text": [
      "lasso has been fitted.\n",
      "ridge has been fitted.\n",
      "enet has been fitted.\n",
      "rf has been fitted.\n",
      "gb has been fitted.\n"
     ]
    }
   ],
   "source": [
    "# Check models have been fitted correctly\n",
    "for name, model in fitted_models.items():\n",
    "    try:\n",
    "        pred = model.predict(X_test)\n",
    "        print(name, 'has been fitted.')\n",
    "    except NotFittedError as e:\n",
    "        print(repr(e))"
   ]
  },
  {
   "cell_type": "markdown",
   "metadata": {},
   "source": [
    "# Model Winer Selection"
   ]
  },
  {
   "cell_type": "code",
   "execution_count": 1551,
   "metadata": {
    "scrolled": true
   },
   "outputs": [
    {
     "name": "stdout",
     "output_type": "stream",
     "text": [
      "lasso 0.8733290779055899\n",
      "ridge 0.8658683649549377\n",
      "enet 0.873074537945113\n",
      "rf 0.841631203156549\n",
      "gb 0.8480041320999914\n"
     ]
    }
   ],
   "source": [
    "# looking at each model's cross-validated performance score on the X_train data set - first data set\n",
    "for name, model in fitted_models.items():\n",
    "    print(name, model.best_score_)"
   ]
  },
  {
   "cell_type": "code",
   "execution_count": 1552,
   "metadata": {},
   "outputs": [
    {
     "data": {
      "text/plain": [
       "GridSearchCV(cv=10, error_score='raise-deprecating',\n",
       "       estimator=Pipeline(memory=None,\n",
       "     steps=[('standardscaler', StandardScaler(copy=True, with_mean=True, with_std=True)), ('lasso', Lasso(alpha=1.0, copy_X=True, fit_intercept=True, max_iter=1000,\n",
       "   normalize=False, positive=False, precompute=False, random_state=123,\n",
       "   selection='cyclic', tol=0.0001, warm_start=False))]),\n",
       "       fit_params=None, iid='warn', n_jobs=-1,\n",
       "       param_grid={'lasso__alpha': [0.001, 0.005, 0.01, 0.05, 0.1, 0.5, 1, 5, 10]},\n",
       "       pre_dispatch='2*n_jobs', refit=True, return_train_score='warn',\n",
       "       scoring=None, verbose=0)"
      ]
     },
     "execution_count": 1552,
     "metadata": {},
     "output_type": "execute_result"
    }
   ],
   "source": [
    "# Verify model performance for each X_test data set - first data set\n",
    "# Display fitted random forest object\n",
    "fitted_models['lasso']"
   ]
  },
  {
   "cell_type": "code",
   "execution_count": 1553,
   "metadata": {
    "scrolled": true
   },
   "outputs": [
    {
     "name": "stdout",
     "output_type": "stream",
     "text": [
      "lasso\n",
      "----------\n",
      "R^2: 0.9066707220935917\n",
      "MAE: 1.1066869632079552\n",
      "RMSE: 2.4837249367091685\n",
      "ridge\n",
      "----------\n",
      "R^2: 0.906424735765823\n",
      "MAE: 1.1140255465906377\n",
      "RMSE: 2.490271246613988\n",
      "enet\n",
      "----------\n",
      "R^2: 0.9070112839188462\n",
      "MAE: 1.107758310321758\n",
      "RMSE: 2.4746617368553765\n",
      "rf\n",
      "----------\n",
      "R^2: 0.8752257171186306\n",
      "MAE: 1.3426382174509786\n",
      "RMSE: 3.3205549727196773\n",
      "gb\n",
      "----------\n",
      "R^2: 0.8666160891201401\n",
      "MAE: 1.3841079740023723\n",
      "RMSE: 3.5496786543266916\n"
     ]
    }
   ],
   "source": [
    "# Loop over all models and print the performance for each model Calculate and print R^2 and MAE using the real test data X_test\n",
    "for name, model in fitted_models.items():\n",
    "    pred = model.predict(X_test)\n",
    "    print(name)\n",
    "    print('----------')\n",
    "    print( 'R^2:', r2_score(y_test, pred))\n",
    "    print('MAE:', mean_absolute_error(y_test, pred))\n",
    "    print('RMSE:', mean_squared_error(y_test, pred))"
   ]
  },
  {
   "cell_type": "code",
   "execution_count": 1554,
   "metadata": {
    "scrolled": true
   },
   "outputs": [
    {
     "data": {
      "image/png": "[encoded data removed]",
      "text/plain": [
       "<Figure size 432x288 with 1 Axes>"
      ]
     },
     "metadata": {},
     "output_type": "display_data"
    }
   ],
   "source": [
    "# Plot the winning model RF\n",
    "lasso_pred = fitted_models['lasso'].predict(X_test)\n",
    "plt.scatter(lasso_pred, y_test)\n",
    "plt.xlabel('predicted')\n",
    "plt.ylabel('actual')\n",
    "plt.show()"
   ]
  },
  {
   "cell_type": "code",
   "execution_count": 1555,
   "metadata": {},
   "outputs": [
    {
     "data": {
      "text/plain": [
       "sklearn.model_selection._search.GridSearchCV"
      ]
     },
     "execution_count": 1555,
     "metadata": {},
     "output_type": "execute_result"
    }
   ],
   "source": [
    "# Displaying the class of the winning model \n",
    "type(fitted_models['lasso'])"
   ]
  },
  {
   "cell_type": "code",
   "execution_count": 1556,
   "metadata": {},
   "outputs": [
    {
     "data": {
      "text/plain": [
       "sklearn.pipeline.Pipeline"
      ]
     },
     "execution_count": 1556,
     "metadata": {},
     "output_type": "execute_result"
    }
   ],
   "source": [
    "# Confirm we can access the winning model pipeline\n",
    "type(fitted_models['lasso'].best_estimator_)"
   ]
  },
  {
   "cell_type": "code",
   "execution_count": 1557,
   "metadata": {},
   "outputs": [
    {
     "data": {
      "text/plain": [
       "Pipeline(memory=None,\n",
       "     steps=[('standardscaler', StandardScaler(copy=True, with_mean=True, with_std=True)), ('lasso', Lasso(alpha=0.1, copy_X=True, fit_intercept=True, max_iter=1000,\n",
       "   normalize=False, positive=False, precompute=False, random_state=123,\n",
       "   selection='cyclic', tol=0.0001, warm_start=False))])"
      ]
     },
     "execution_count": 1557,
     "metadata": {},
     "output_type": "execute_result"
    }
   ],
   "source": [
    "# Display the winning pipeline directly\n",
    "fitted_models['lasso'].best_estimator_"
   ]
  },
  {
   "cell_type": "code",
   "execution_count": 1558,
   "metadata": {},
   "outputs": [],
   "source": [
    "# Save winning model's Pipeline\n",
    "with open('VIX_UP_final_winning_model.pkl', 'wb') as f:\n",
    "    pickle.dump(fitted_models['lasso'].best_estimator_, f)\n"
   ]
  },
  {
   "cell_type": "markdown",
   "metadata": {},
   "source": [
    "## Insights & Analysis"
   ]
  },
  {
   "cell_type": "markdown",
   "metadata": {},
   "source": [
    "### Winnning model was Lasso Regression\n",
    "### Our best performing model was with 1 year of historical data set with 9 features\n"
   ]
  },
  {
   "cell_type": "markdown",
   "metadata": {},
   "source": [
    "### Knowing the direction tomorrow's Vix price, originally appeared to be random and impossible to predict, but with 9 postively correlated features we got our MAE ( Mean Average Error - how much our prediction was off ) over 1 year down to 0.976, less than $1.\n",
    "\n",
    "### I learned how important it is to exlplore lots of data sets in order to find postive correlations. I also learned to not assume ANYTHING! I originally thought 3 strong features with 6 months of data would perform best, I was absolutley wrong. Having the algorithm's tell you which model performed best is so enlightening!\n",
    "\n",
    "## How to improve this project:\n",
    "### I want to turn all of section 4 into 1 loop for better readability. \n",
    "### I want to research how to handle forecasting and predtions so I understand them better.\n",
    "### How much exporatory notes should be left in a project to help others see what I was doing\n",
    "### I want to continue looking for more strong data set correlations to make this model even stronger\n",
    "### I want to make this project do all of the data fetching and handling without having to call the data from API using a seperate script\n",
    "### I want to try incorporating other features that affect the vix besides just other stocks - example: behaviour economics\n",
    "\n",
    "lasso\n",
    "----------\n",
    "R^2: 0.936352859983159 \n",
    "MAE: 0.9765086495834842\n",
    "RMSE: 1.6798896644830348"
   ]
  },
  {
   "cell_type": "markdown",
   "metadata": {},
   "source": [
    "# Make prediction for tomorrow's VIX High Price"
   ]
  },
  {
   "cell_type": "code",
   "execution_count": 1559,
   "metadata": {},
   "outputs": [
    {
     "data": {
      "text/html": [
       "<div>\n",
       "<style scoped>\n",
       "    .dataframe tbody tr th:only-of-type {\n",
       "        vertical-align: middle;\n",
       "    }\n",
       "\n",
       "    .dataframe tbody tr th {\n",
       "        vertical-align: top;\n",
       "    }\n",
       "\n",
       "    .dataframe thead th {\n",
       "        text-align: right;\n",
       "    }\n",
       "</style>\n",
       "<table border=\"1\" class=\"dataframe\">\n",
       "  <thead>\n",
       "    <tr style=\"text-align: right;\">\n",
       "      <th></th>\n",
       "      <th>yy_test</th>\n",
       "    </tr>\n",
       "  </thead>\n",
       "  <tbody>\n",
       "    <tr>\n",
       "      <th>2018-06-27</th>\n",
       "      <td>18.990</td>\n",
       "    </tr>\n",
       "    <tr>\n",
       "      <th>2018-06-28</th>\n",
       "      <td>16.510</td>\n",
       "    </tr>\n",
       "    <tr>\n",
       "      <th>2018-06-29</th>\n",
       "      <td>18.080</td>\n",
       "    </tr>\n",
       "    <tr>\n",
       "      <th>2018-07-02</th>\n",
       "      <td>16.450</td>\n",
       "    </tr>\n",
       "    <tr>\n",
       "      <th>2018-07-03</th>\n",
       "      <td>16.220</td>\n",
       "    </tr>\n",
       "    <tr>\n",
       "      <th>2018-07-05</th>\n",
       "      <td>15.450</td>\n",
       "    </tr>\n",
       "    <tr>\n",
       "      <th>2018-07-06</th>\n",
       "      <td>13.220</td>\n",
       "    </tr>\n",
       "    <tr>\n",
       "      <th>2018-07-09</th>\n",
       "      <td>13.210</td>\n",
       "    </tr>\n",
       "    <tr>\n",
       "      <th>2018-07-10</th>\n",
       "      <td>14.150</td>\n",
       "    </tr>\n",
       "    <tr>\n",
       "      <th>2018-07-11</th>\n",
       "      <td>13.330</td>\n",
       "    </tr>\n",
       "    <tr>\n",
       "      <th>2018-07-12</th>\n",
       "      <td>12.970</td>\n",
       "    </tr>\n",
       "    <tr>\n",
       "      <th>2018-07-13</th>\n",
       "      <td>12.970</td>\n",
       "    </tr>\n",
       "    <tr>\n",
       "      <th>2018-07-16</th>\n",
       "      <td>13.180</td>\n",
       "    </tr>\n",
       "    <tr>\n",
       "      <th>2018-07-17</th>\n",
       "      <td>12.470</td>\n",
       "    </tr>\n",
       "    <tr>\n",
       "      <th>2018-07-18</th>\n",
       "      <td>13.090</td>\n",
       "    </tr>\n",
       "    <tr>\n",
       "      <th>2018-07-19</th>\n",
       "      <td>13.580</td>\n",
       "    </tr>\n",
       "    <tr>\n",
       "      <th>2018-07-20</th>\n",
       "      <td>13.550</td>\n",
       "    </tr>\n",
       "    <tr>\n",
       "      <th>2018-07-23</th>\n",
       "      <td>13.210</td>\n",
       "    </tr>\n",
       "    <tr>\n",
       "      <th>2018-07-24</th>\n",
       "      <td>12.820</td>\n",
       "    </tr>\n",
       "    <tr>\n",
       "      <th>2018-07-25</th>\n",
       "      <td>12.530</td>\n",
       "    </tr>\n",
       "    <tr>\n",
       "      <th>2018-07-26</th>\n",
       "      <td>14.260</td>\n",
       "    </tr>\n",
       "    <tr>\n",
       "      <th>2018-07-27</th>\n",
       "      <td>14.460</td>\n",
       "    </tr>\n",
       "    <tr>\n",
       "      <th>2018-07-30</th>\n",
       "      <td>14.120</td>\n",
       "    </tr>\n",
       "    <tr>\n",
       "      <th>2018-07-31</th>\n",
       "      <td>13.630</td>\n",
       "    </tr>\n",
       "    <tr>\n",
       "      <th>2018-08-01</th>\n",
       "      <td>14.530</td>\n",
       "    </tr>\n",
       "    <tr>\n",
       "      <th>2018-08-02</th>\n",
       "      <td>12.460</td>\n",
       "    </tr>\n",
       "    <tr>\n",
       "      <th>2018-08-03</th>\n",
       "      <td>12.150</td>\n",
       "    </tr>\n",
       "    <tr>\n",
       "      <th>2018-08-06</th>\n",
       "      <td>11.240</td>\n",
       "    </tr>\n",
       "    <tr>\n",
       "      <th>2018-08-07</th>\n",
       "      <td>11.180</td>\n",
       "    </tr>\n",
       "    <tr>\n",
       "      <th>2018-08-08</th>\n",
       "      <td>11.310</td>\n",
       "    </tr>\n",
       "    <tr>\n",
       "      <th>...</th>\n",
       "      <td>...</td>\n",
       "    </tr>\n",
       "    <tr>\n",
       "      <th>2019-05-15</th>\n",
       "      <td>17.130</td>\n",
       "    </tr>\n",
       "    <tr>\n",
       "      <th>2019-05-16</th>\n",
       "      <td>16.810</td>\n",
       "    </tr>\n",
       "    <tr>\n",
       "      <th>2019-05-17</th>\n",
       "      <td>17.630</td>\n",
       "    </tr>\n",
       "    <tr>\n",
       "      <th>2019-05-20</th>\n",
       "      <td>16.220</td>\n",
       "    </tr>\n",
       "    <tr>\n",
       "      <th>2019-05-21</th>\n",
       "      <td>15.440</td>\n",
       "    </tr>\n",
       "    <tr>\n",
       "      <th>2019-05-22</th>\n",
       "      <td>18.050</td>\n",
       "    </tr>\n",
       "    <tr>\n",
       "      <th>2019-05-23</th>\n",
       "      <td>16.520</td>\n",
       "    </tr>\n",
       "    <tr>\n",
       "      <th>2019-05-24</th>\n",
       "      <td>17.700</td>\n",
       "    </tr>\n",
       "    <tr>\n",
       "      <th>2019-05-28</th>\n",
       "      <td>19.040</td>\n",
       "    </tr>\n",
       "    <tr>\n",
       "      <th>2019-05-29</th>\n",
       "      <td>18.110</td>\n",
       "    </tr>\n",
       "    <tr>\n",
       "      <th>2019-05-30</th>\n",
       "      <td>19.720</td>\n",
       "    </tr>\n",
       "    <tr>\n",
       "      <th>2019-05-31</th>\n",
       "      <td>19.750</td>\n",
       "    </tr>\n",
       "    <tr>\n",
       "      <th>2019-06-03</th>\n",
       "      <td>18.740</td>\n",
       "    </tr>\n",
       "    <tr>\n",
       "      <th>2019-06-04</th>\n",
       "      <td>17.490</td>\n",
       "    </tr>\n",
       "    <tr>\n",
       "      <th>2019-06-05</th>\n",
       "      <td>16.540</td>\n",
       "    </tr>\n",
       "    <tr>\n",
       "      <th>2019-06-06</th>\n",
       "      <td>16.440</td>\n",
       "    </tr>\n",
       "    <tr>\n",
       "      <th>2019-06-07</th>\n",
       "      <td>16.470</td>\n",
       "    </tr>\n",
       "    <tr>\n",
       "      <th>2019-06-10</th>\n",
       "      <td>16.700</td>\n",
       "    </tr>\n",
       "    <tr>\n",
       "      <th>2019-06-11</th>\n",
       "      <td>16.430</td>\n",
       "    </tr>\n",
       "    <tr>\n",
       "      <th>2019-06-12</th>\n",
       "      <td>16.210</td>\n",
       "    </tr>\n",
       "    <tr>\n",
       "      <th>2019-06-13</th>\n",
       "      <td>16.400</td>\n",
       "    </tr>\n",
       "    <tr>\n",
       "      <th>2019-06-14</th>\n",
       "      <td>15.760</td>\n",
       "    </tr>\n",
       "    <tr>\n",
       "      <th>2019-06-17</th>\n",
       "      <td>15.540</td>\n",
       "    </tr>\n",
       "    <tr>\n",
       "      <th>2019-06-18</th>\n",
       "      <td>15.710</td>\n",
       "    </tr>\n",
       "    <tr>\n",
       "      <th>2019-06-19</th>\n",
       "      <td>16.030</td>\n",
       "    </tr>\n",
       "    <tr>\n",
       "      <th>2019-06-20</th>\n",
       "      <td>15.480</td>\n",
       "    </tr>\n",
       "    <tr>\n",
       "      <th>2019-06-21</th>\n",
       "      <td>15.560</td>\n",
       "    </tr>\n",
       "    <tr>\n",
       "      <th>2019-06-24</th>\n",
       "      <td>16.680</td>\n",
       "    </tr>\n",
       "    <tr>\n",
       "      <th>2019-06-25</th>\n",
       "      <td>16.500</td>\n",
       "    </tr>\n",
       "    <tr>\n",
       "      <th>2019-06-26</th>\n",
       "      <td>16.500</td>\n",
       "    </tr>\n",
       "  </tbody>\n",
       "</table>\n",
       "<p>251 rows × 1 columns</p>\n",
       "</div>"
      ],
      "text/plain": [
       "            yy_test\n",
       "2018-06-27   18.990\n",
       "2018-06-28   16.510\n",
       "2018-06-29   18.080\n",
       "2018-07-02   16.450\n",
       "2018-07-03   16.220\n",
       "2018-07-05   15.450\n",
       "2018-07-06   13.220\n",
       "2018-07-09   13.210\n",
       "2018-07-10   14.150\n",
       "2018-07-11   13.330\n",
       "2018-07-12   12.970\n",
       "2018-07-13   12.970\n",
       "2018-07-16   13.180\n",
       "2018-07-17   12.470\n",
       "2018-07-18   13.090\n",
       "2018-07-19   13.580\n",
       "2018-07-20   13.550\n",
       "2018-07-23   13.210\n",
       "2018-07-24   12.820\n",
       "2018-07-25   12.530\n",
       "2018-07-26   14.260\n",
       "2018-07-27   14.460\n",
       "2018-07-30   14.120\n",
       "2018-07-31   13.630\n",
       "2018-08-01   14.530\n",
       "2018-08-02   12.460\n",
       "2018-08-03   12.150\n",
       "2018-08-06   11.240\n",
       "2018-08-07   11.180\n",
       "2018-08-08   11.310\n",
       "...             ...\n",
       "2019-05-15   17.130\n",
       "2019-05-16   16.810\n",
       "2019-05-17   17.630\n",
       "2019-05-20   16.220\n",
       "2019-05-21   15.440\n",
       "2019-05-22   18.050\n",
       "2019-05-23   16.520\n",
       "2019-05-24   17.700\n",
       "2019-05-28   19.040\n",
       "2019-05-29   18.110\n",
       "2019-05-30   19.720\n",
       "2019-05-31   19.750\n",
       "2019-06-03   18.740\n",
       "2019-06-04   17.490\n",
       "2019-06-05   16.540\n",
       "2019-06-06   16.440\n",
       "2019-06-07   16.470\n",
       "2019-06-10   16.700\n",
       "2019-06-11   16.430\n",
       "2019-06-12   16.210\n",
       "2019-06-13   16.400\n",
       "2019-06-14   15.760\n",
       "2019-06-17   15.540\n",
       "2019-06-18   15.710\n",
       "2019-06-19   16.030\n",
       "2019-06-20   15.480\n",
       "2019-06-21   15.560\n",
       "2019-06-24   16.680\n",
       "2019-06-25   16.500\n",
       "2019-06-26   16.500\n",
       "\n",
       "[251 rows x 1 columns]"
      ]
     },
     "execution_count": 1559,
     "metadata": {},
     "output_type": "execute_result"
    }
   ],
   "source": [
    "# This is the value we are trying to predict\n",
    "# Convert the y_test series to a df\n",
    "yy.to_frame(name='yy_test')"
   ]
  },
  {
   "cell_type": "code",
   "execution_count": 1560,
   "metadata": {},
   "outputs": [
    {
     "data": {
      "image/png": "[encoded data removed]",
      "text/plain": [
       "<Figure size 432x288 with 1 Axes>"
      ]
     },
     "metadata": {},
     "output_type": "display_data"
    }
   ],
   "source": [
    "# Plot the winning model Lasso - using the second data set\n",
    "lasso_pred = fitted_models['lasso'].predict(XX)\n",
    "plt.scatter(lasso_pred, yy)\n",
    "plt.xlabel('predicted')\n",
    "plt.ylabel('actual')\n",
    "plt.show()"
   ]
  },
  {
   "cell_type": "code",
   "execution_count": 1561,
   "metadata": {
    "scrolled": false
   },
   "outputs": [
    {
     "name": "stdout",
     "output_type": "stream",
     "text": [
      "Predicted=18.325046667102185, Actual=18.99\n",
      "Predicted=18.493299710045374, Actual=16.51\n",
      "Predicted=16.608835771691457, Actual=18.08\n",
      "Predicted=17.687319252201004, Actual=16.450001\n",
      "Predicted=15.858613778647962, Actual=16.219999\n",
      "Predicted=15.962440527242991, Actual=15.45\n",
      "Predicted=15.34837107712833, Actual=13.22\n",
      "Predicted=13.691154707023614, Actual=13.21\n",
      "Predicted=13.37387362027328, Actual=14.15\n",
      "Predicted=14.699365247621312, Actual=13.33\n",
      "Predicted=13.71785303421315, Actual=12.97\n",
      "Predicted=13.266161389091828, Actual=12.97\n",
      "Predicted=13.154272588757564, Actual=13.18\n",
      "Predicted=13.382949134817531, Actual=12.47\n",
      "Predicted=13.008415541257474, Actual=13.09\n",
      "Predicted=13.626454506530711, Actual=13.58\n",
      "Predicted=13.960800912202753, Actual=13.55\n",
      "Predicted=13.518447972386971, Actual=13.21\n",
      "Predicted=13.651242288034286, Actual=12.82\n",
      "Predicted=13.375951870244652, Actual=12.53\n",
      "Predicted=13.029552295824272, Actual=14.26\n",
      "Predicted=14.621550529085379, Actual=14.46\n",
      "Predicted=14.795341689383598, Actual=14.12\n",
      "Predicted=14.312628553470358, Actual=13.63\n",
      "Predicted=13.768040485261245, Actual=14.53\n",
      "Predicted=14.50086750691349, Actual=12.46\n",
      "Predicted=12.771115469948253, Actual=12.15\n",
      "Predicted=12.43600435635961, Actual=11.24\n",
      "Predicted=11.979199713766421, Actual=11.18\n",
      "Predicted=11.639001646723347, Actual=11.31\n",
      "Predicted=11.867993904658654, Actual=13.82\n",
      "Predicted=14.340021577801014, Actual=15.02\n",
      "Predicted=15.129046575124322, Actual=14.22\n",
      "Predicted=14.177578459253052, Actual=16.860001\n",
      "Predicted=17.340751217691107, Actual=14.36\n",
      "Predicted=14.915219268927439, Actual=13.96\n",
      "Predicted=14.219350064553655, Actual=12.79\n",
      "Predicted=13.214712249052877, Actual=12.89\n",
      "Predicted=13.251435856941276, Actual=13.29\n",
      "Predicted=13.362211854991966, Actual=12.68\n",
      "Predicted=12.861809107281328, Actual=12.17\n",
      "Predicted=12.567077927087396, Actual=12.48\n",
      "Predicted=12.82505026771058, Actual=12.5\n",
      "Predicted=12.973670166716667, Actual=12.55\n",
      "Predicted=12.950721383292924, Actual=13.95\n",
      "Predicted=14.139570318248637, Actual=14.03\n",
      "Predicted=14.300274485978978, Actual=14.35\n",
      "Predicted=14.761666642429052, Actual=14.3\n",
      "Predicted=14.730421743012602, Actual=15.41\n",
      "Predicted=15.467867408225208, Actual=15.63\n",
      "Predicted=15.604760714389982, Actual=15.2\n",
      "Predicted=15.10270157350706, Actual=14.92\n",
      "Predicted=15.156858600033225, Actual=13.86\n",
      "Predicted=14.221262330828175, Actual=12.91\n",
      "Predicted=13.239879439858859, Actual=13.15\n",
      "Predicted=13.335034407168841, Actual=13.75\n",
      "Predicted=14.156560236948941, Actual=13.48\n",
      "Predicted=13.681767078285219, Actual=12.77\n",
      "Predicted=13.103984637380254, Actual=11.96\n",
      "Predicted=12.878453103518792, Actual=12.03\n",
      "Predicted=12.83099527796648, Actual=12.92\n",
      "Predicted=13.30092439299542, Actual=12.6\n",
      "Predicted=13.085033162777236, Actual=13.13\n",
      "Predicted=13.903981991029593, Actual=13.0\n",
      "Predicted=13.42894387557945, Actual=13.22\n",
      "Predicted=13.680323658523026, Actual=12.4\n",
      "Predicted=12.994861674805382, Actual=12.69\n",
      "Predicted=13.099635089265504, Actual=12.14\n",
      "Predicted=12.85632898278686, Actual=15.84\n",
      "Predicted=16.442037769634467, Actual=17.360001\n",
      "Predicted=17.291170905727544, Actual=18.379999\n",
      "Predicted=18.019150265479922, Actual=17.49\n",
      "Predicted=17.399533297773072, Actual=22.959999\n",
      "Predicted=23.471877102861416, Actual=28.84\n",
      "Predicted=29.539037271748892, Actual=26.799999\n",
      "Predicted=26.52950633682282, Actual=22.889999\n",
      "Predicted=21.812638513361655, Actual=20.559999\n",
      "Predicted=20.16330004354818, Actual=19.549999\n",
      "Predicted=19.2413032386596, Actual=21.57\n",
      "Predicted=21.09012252012739, Actual=21.08\n",
      "Predicted=20.517832849393137, Actual=20.889999\n",
      "Predicted=19.992728648637097, Actual=24.66\n",
      "Predicted=24.296590344618156, Actual=26.379999\n",
      "Predicted=25.871769230578106, Actual=24.780001\n",
      "Predicted=24.23041059460962, Actual=27.52\n",
      "Predicted=26.988678065565466, Actual=27.860001\n",
      "Predicted=26.889647707077263, Actual=25.549999\n",
      "Predicted=24.80998726536179, Actual=22.799999\n",
      "Predicted=22.19610213617545, Actual=21.209999\n",
      "Predicted=20.772939219875163, Actual=21.610001\n",
      "Predicted=21.190296754504548, Actual=20.870001\n",
      "Predicted=19.900664696866226, Actual=20.6\n",
      "Predicted=19.59476221366579, Actual=18.049999\n",
      "Predicted=18.015066361470073, Actual=17.200001\n",
      "Predicted=16.956928224825884, Actual=18.41\n",
      "Predicted=18.461132088882525, Actual=20.709999\n",
      "Predicted=20.219235833431796, Actual=21.25\n",
      "Predicted=21.103973121868222, Actual=22.360001\n",
      "Predicted=21.86657140993812, Actual=22.969999\n",
      "Predicted=22.179945977921903, Actual=21.360001\n",
      "Predicted=20.80493675817027, Actual=20.99\n",
      "Predicted=20.39758889414245, Actual=23.809999\n",
      "Predicted=23.504937017016477, Actual=22.309999\n",
      "Predicted=21.387327634618448, Actual=22.65\n",
      "Predicted=21.016217900177104, Actual=20.799999\n",
      "Predicted=20.21722925467232, Actual=19.93\n",
      "Predicted=19.577030625151796, Actual=19.379999\n",
      "Predicted=19.691883653624, Actual=20.48\n",
      "Predicted=19.82394285192082, Actual=19.91\n",
      "Predicted=19.486403672112612, Actual=17.280001\n",
      "Predicted=17.733259210837517, Actual=21.940001\n",
      "Predicted=21.753796674786287, Actual=25.940001\n",
      "Predicted=26.29826130105429, Actual=24.709999\n",
      "Predicted=24.32126457273665, Actual=25.940001\n",
      "Predicted=25.32761775506766, Actual=23.6\n",
      "Predicted=22.806718466376417, Actual=21.91\n",
      "Predicted=21.374216157190155, Actual=21.57\n",
      "Predicted=20.774439821459417, Actual=22.469999\n",
      "Predicted=22.205052933695306, Actual=25.879999\n",
      "Predicted=25.43963768778446, Actual=26.139999\n",
      "Predicted=25.631290216794458, Actual=26.639999\n",
      "Predicted=27.440766080037037, Actual=30.299999\n",
      "Predicted=31.118493964175904, Actual=31.35\n",
      "Predicted=31.950461856742756, Actual=36.099998\n",
      "Predicted=34.228786659249295, Actual=36.200001\n",
      "Predicted=35.28495906232582, Actual=33.799999\n",
      "Predicted=33.10885301641183, Actual=31.049999\n",
      "Predicted=29.988261433631934, Actual=27.639999\n",
      "Predicted=26.91311921693888, Actual=28.530001\n",
      "Predicted=27.248016053964392, Actual=26.6\n",
      "Predicted=25.39530491196054, Actual=24.48\n",
      "Predicted=23.925838066361724, Actual=22.709999\n",
      "Predicted=22.02438703589286, Actual=22.030001\n",
      "Predicted=21.436581990007802, Actual=22.799999\n",
      "Predicted=22.315606884992626, Actual=21.32\n",
      "Predicted=20.68056822034274, Actual=20.16\n",
      "Predicted=19.452555932088796, Actual=20.27\n",
      "Predicted=19.460625025376014, Actual=19.200001\n",
      "Predicted=18.94930879408776, Actual=19.040001\n",
      "Predicted=18.652787820398373, Actual=19.719999\n",
      "Predicted=19.22750236788279, Actual=18.18\n",
      "Predicted=18.464338494656136, Actual=21.15\n",
      "Predicted=21.134714923774823, Actual=22.02\n",
      "Predicted=21.463598411215973, Actual=20.25\n",
      "Predicted=19.439741936056382, Actual=18.459999\n",
      "Predicted=18.163820431028558, Actual=20.42\n",
      "Predicted=19.739974044096563, Actual=19.93\n",
      "Predicted=19.134253197228336, Actual=19.309999\n",
      "Predicted=19.127802517061486, Actual=17.719999\n",
      "Predicted=18.101756150041137, Actual=16.83\n",
      "Predicted=16.9738128207967, Actual=16.73\n",
      "Predicted=16.624907969520784, Actual=15.94\n",
      "Predicted=15.933403437048861, Actual=15.87\n",
      "Predicted=15.59734476872849, Actual=17.889999\n",
      "Predicted=18.038730807405134, Actual=17.629999\n",
      "Predicted=17.219488619132264, Actual=16.5\n",
      "Predicted=16.397333843200784, Actual=15.65\n",
      "Predicted=16.034622968458162, Actual=15.91\n",
      "Predicted=15.985741167257562, Actual=17.27\n",
      "Predicted=17.07167716989541, Actual=16.82\n",
      "Predicted=16.718550680461718, Actual=16.16\n",
      "Predicted=15.909620207734426, Actual=15.19\n",
      "Predicted=15.21335528140296, Actual=15.17\n",
      "Predicted=15.294598150661702, Actual=14.47\n",
      "Predicted=14.595177413177396, Actual=14.9\n",
      "Predicted=15.350245699834147, Actual=15.28\n",
      "Predicted=15.431951927330537, Actual=16.17\n",
      "Predicted=15.89250305917204, Actual=15.24\n",
      "Predicted=15.261560482624663, Actual=14.84\n",
      "Predicted=15.425699724209629, Actual=16.98\n",
      "Predicted=17.368568702272142, Actual=15.39\n",
      "Predicted=15.562548865068457, Actual=16.110001\n",
      "Predicted=16.414631590302648, Actual=17.809999\n",
      "Predicted=18.349982979783235, Actual=18.33\n",
      "Predicted=18.222382479906035, Actual=16.43\n",
      "Predicted=16.210933744551706, Actual=14.7\n",
      "Predicted=14.851059783599261, Actual=14.05\n",
      "Predicted=14.382919677286619, Actual=13.84\n",
      "Predicted=14.035020920659733, Actual=13.28\n",
      "Predicted=13.875245542486152, Actual=13.8\n",
      "Predicted=14.00181492898092, Actual=13.77\n",
      "Predicted=14.705898417265733, Actual=14.3\n",
      "Predicted=14.830267570100863, Actual=14.56\n",
      "Predicted=15.123730938037184, Actual=17.52\n",
      "Predicted=18.108851340249455, Actual=17.85\n",
      "Predicted=17.667242594942046, Actual=16.299999\n",
      "Predicted=16.261667406863616, Actual=16.709999\n",
      "Predicted=16.54332107899895, Actual=15.62\n",
      "Predicted=15.411901601689538, Actual=14.43\n",
      "Predicted=14.79548697683825, Actual=14.01\n",
      "Predicted=14.566643095013323, Actual=13.68\n",
      "Predicted=13.94371984599388, Actual=14.27\n",
      "Predicted=14.483004244270926, Actual=14.03\n",
      "Predicted=14.108892458064936, Actual=13.47\n",
      "Predicted=13.88023709056456, Actual=13.77\n",
      "Predicted=13.914130272488647, Actual=14.39\n",
      "Predicted=14.64680526219588, Actual=14.29\n",
      "Predicted=14.400373803375981, Actual=13.58\n",
      "Predicted=13.737996082017963, Actual=12.96\n",
      "Predicted=13.566159372678984, Actual=13.14\n",
      "Predicted=13.287551480084645, Actual=12.47\n",
      "Predicted=12.905342113353722, Actual=13.02\n",
      "Predicted=13.425598490279228, Actual=13.12\n",
      "Predicted=13.564495560627579, Actual=13.36\n",
      "Predicted=13.58501754421943, Actual=12.69\n",
      "Predicted=13.12512864059072, Actual=13.23\n",
      "Predicted=13.428804012827026, Actual=14.3\n",
      "Predicted=14.391436708121045, Actual=13.62\n",
      "Predicted=14.046972641233834, Actual=13.27\n",
      "Predicted=13.654659381562858, Actual=14.05\n",
      "Predicted=14.446183269263447, Actual=14.83\n",
      "Predicted=15.487923443807366, Actual=15.92\n",
      "Predicted=16.478063392472237, Actual=14.15\n",
      "Predicted=14.578652133815497, Actual=18.799999\n",
      "Predicted=18.8458942498368, Actual=21.84\n",
      "Predicted=21.51821799185722, Actual=21.74\n",
      "Predicted=20.63510599510894, Actual=23.379999\n",
      "Predicted=22.244372995269696, Actual=20.190001\n",
      "Predicted=19.70120995952762, Actual=21.32\n",
      "Predicted=21.04143780405914, Actual=19.65\n",
      "Predicted=19.097948445408996, Actual=19.15\n",
      "Predicted=18.409829834364754, Actual=17.129999\n",
      "Predicted=16.861597080302147, Actual=16.809999\n",
      "Predicted=16.683050035928936, Actual=17.629999\n",
      "Predicted=17.05841696765956, Actual=16.219999\n",
      "Predicted=16.179139628082677, Actual=15.44\n",
      "Predicted=15.32673748382258, Actual=18.049999\n",
      "Predicted=18.315206841437192, Actual=16.52\n",
      "Predicted=16.08016567253732, Actual=17.700001\n",
      "Predicted=17.47198302738587, Actual=19.040001\n",
      "Predicted=18.99517925227875, Actual=18.110001\n",
      "Predicted=17.78600240320755, Actual=19.719999\n",
      "Predicted=19.531744549340985, Actual=19.75\n",
      "Predicted=19.63222140157784, Actual=18.74\n",
      "Predicted=18.419101789079804, Actual=17.49\n",
      "Predicted=17.513825747655687, Actual=16.540001\n",
      "Predicted=17.10388134019971, Actual=16.440001\n",
      "Predicted=16.335291683445686, Actual=16.469999\n",
      "Predicted=16.223716971447093, Actual=16.700001\n",
      "Predicted=16.25328670899568, Actual=16.43\n",
      "Predicted=16.111089071922503, Actual=16.209999\n",
      "Predicted=15.895069108460945, Actual=16.4\n",
      "Predicted=15.830410268210391, Actual=15.76\n",
      "Predicted=15.421840586330283, Actual=15.54\n",
      "Predicted=15.806733009986276, Actual=15.71\n",
      "Predicted=15.692731336408624, Actual=16.030001\n",
      "Predicted=16.813071165103516, Actual=15.48\n",
      "Predicted=15.718163907331414, Actual=15.56\n",
      "Predicted=15.48475903508746, Actual=16.68\n",
      "Predicted=16.52162039085799, Actual=16.5\n",
      "Predicted=16.345307297649004, Actual=16.5\n"
     ]
    }
   ],
   "source": [
    "# Show the inputs and predicted outputs - the second data set\n",
    "for i in range(len(XX)):\n",
    "    print(\"Predicted=%s, Actual=%s\" % (lasso_pred[i], yy[i]))"
   ]
  },
  {
   "cell_type": "code",
   "execution_count": 1562,
   "metadata": {},
   "outputs": [
    {
     "name": "stdout",
     "output_type": "stream",
     "text": [
      "Predicted=16.345307297649004, Actual=16.5\n"
     ]
    }
   ],
   "source": [
    "# Make Vix High for tomorrow:\n",
    "print(\"Predicted=%s, Actual=%s\" % (lasso_pred[-1], yy[-1]))"
   ]
  },
  {
   "cell_type": "code",
   "execution_count": 1563,
   "metadata": {},
   "outputs": [],
   "source": [
    "# Save the lasso predicted price and also the actual vix values\n",
    "pd.DataFrame(lasso_pred).to_csv('josh_lasso_pred.csv',index=True)\n",
    "\n",
    "# Save the actual values here:\n",
    "yy.to_csv('josh_actual_pred.csv', index=True)"
   ]
  }
 ],
 "metadata": {
  "kernelspec": {
   "display_name": "Python 3",
   "language": "python",
   "name": "python3"
  },
  "language_info": {
   "codemirror_mode": {
    "name": "ipython",
    "version": 3
   },
   "file_extension": ".py",
   "mimetype": "text/x-python",
   "name": "python",
   "nbconvert_exporter": "python",
   "pygments_lexer": "ipython3",
   "version": "3.7.1"
  }
 },
 "nbformat": 4,
 "nbformat_minor": 2
}
